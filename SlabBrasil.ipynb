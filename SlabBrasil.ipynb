{
  "nbformat": 4,
  "nbformat_minor": 0,
  "metadata": {
    "colab": {
      "provenance": []
    },
    "kernelspec": {
      "name": "python3",
      "display_name": "Python 3"
    },
    "language_info": {
      "name": "python"
    }
  },
  "cells": [
    {
      "cell_type": "markdown",
      "source": [
        "# Etapa 2 - Conociendo los datos\n",
        "## Histórico de Precios: Slab (Productos Semiterminado)\n",
        "### Slab Brasil\n",
        "El conjunto de datos se refiere al promedio semanal del precio de las losas de acero exportadas desde Brasil, bajo condiciones FOB (Free on Board) en el puerto principal de Brasil."
      ],
      "metadata": {
        "id": "dIOgzUGVjCvh"
      }
    },
    {
      "cell_type": "markdown",
      "source": [
        "#### Variables\n",
        "- $Date$: Fecha en que se registró el precio del producto. Es categórica y sus valores posibles están en formato \"d/m/aaaa\", desde el primer registro hasta el presente.\n",
        "- $Low$: Precio más bajo registrado para el producto en la fecha especificada. Es numérica y sus valores posibles están en dólares estadounidenses por tonelada, desde 0 hasta el máximo registrado.\n",
        "- $Mid$: Precio medio registrado para el producto en la fecha especificada. Es numérica y sus valores posibles están en dólares estadounidenses por tonelada, desde 0 hasta el máximo registrado.\n",
        "- $High$: Precio más alto registrado para el producto en la fecha especificada. Es numérica y sus valores posibles están en dólares estadounidenses por tonelada, desde 0 hasta el máximo registrado.\n",
        "- $Mid$ $Change$ $\\%$: Cambio porcentual en el precio medio en comparación con el período anterior (nuevo-anterior)/anterior. Es numérica y sus valores posibles están enre -1 (-100%) y el máximo cambio positivo registrado."
      ],
      "metadata": {
        "id": "jgvK0TmArGxP"
      }
    },
    {
      "cell_type": "markdown",
      "source": [
        "#### Librerías"
      ],
      "metadata": {
        "id": "xe1oKRRgkVcv"
      }
    },
    {
      "cell_type": "code",
      "source": [
        "import pandas as pd # Análisis de datos.\n",
        "import matplotlib.pyplot as plt # Gráficos.\n",
        "import seaborn as sns # Formato de los gráficos."
      ],
      "metadata": {
        "id": "6XO4m0RRa5_K"
      },
      "execution_count": 18,
      "outputs": []
    },
    {
      "cell_type": "markdown",
      "source": [
        "#### Comprensión de los datos"
      ],
      "metadata": {
        "id": "MIc0D_JXtgpt"
      }
    },
    {
      "cell_type": "code",
      "execution_count": 19,
      "metadata": {
        "colab": {
          "base_uri": "https://localhost:8080/",
          "height": 424
        },
        "id": "DLIX0XiXaM3E",
        "outputId": "b45050fa-c809-4057-e234-63840eb66bdc"
      },
      "outputs": [
        {
          "output_type": "execute_result",
          "data": {
            "text/plain": [
              "          Date  Low    Mid  High  Mid Change %\n",
              "0    14/3/2025  490  505.0   520      0.010000\n",
              "1     7/3/2025  480  500.0   520     -0.043062\n",
              "2    28/2/2025  510  522.5   535      0.014563\n",
              "3    21/2/2025  510  515.0   520     -0.032864\n",
              "4    14/2/2025  520  532.5   545      0.004717\n",
              "..         ...  ...    ...   ...           ...\n",
              "388   4/8/2017  420  425.0   430      0.024096\n",
              "389  28/7/2017  410  415.0   420      0.031056\n",
              "390  21/7/2017  400  402.5   405      0.018987\n",
              "391  14/7/2017  390  395.0   400      0.025974\n",
              "392   7/7/2017  380  385.0   390           NaN\n",
              "\n",
              "[393 rows x 5 columns]"
            ],
            "text/html": [
              "\n",
              "  <div id=\"df-0ab9e89a-467b-4c15-8f31-f7d5a1207dcb\" class=\"colab-df-container\">\n",
              "    <div>\n",
              "<style scoped>\n",
              "    .dataframe tbody tr th:only-of-type {\n",
              "        vertical-align: middle;\n",
              "    }\n",
              "\n",
              "    .dataframe tbody tr th {\n",
              "        vertical-align: top;\n",
              "    }\n",
              "\n",
              "    .dataframe thead th {\n",
              "        text-align: right;\n",
              "    }\n",
              "</style>\n",
              "<table border=\"1\" class=\"dataframe\">\n",
              "  <thead>\n",
              "    <tr style=\"text-align: right;\">\n",
              "      <th></th>\n",
              "      <th>Date</th>\n",
              "      <th>Low</th>\n",
              "      <th>Mid</th>\n",
              "      <th>High</th>\n",
              "      <th>Mid Change %</th>\n",
              "    </tr>\n",
              "  </thead>\n",
              "  <tbody>\n",
              "    <tr>\n",
              "      <th>0</th>\n",
              "      <td>14/3/2025</td>\n",
              "      <td>490</td>\n",
              "      <td>505.0</td>\n",
              "      <td>520</td>\n",
              "      <td>0.010000</td>\n",
              "    </tr>\n",
              "    <tr>\n",
              "      <th>1</th>\n",
              "      <td>7/3/2025</td>\n",
              "      <td>480</td>\n",
              "      <td>500.0</td>\n",
              "      <td>520</td>\n",
              "      <td>-0.043062</td>\n",
              "    </tr>\n",
              "    <tr>\n",
              "      <th>2</th>\n",
              "      <td>28/2/2025</td>\n",
              "      <td>510</td>\n",
              "      <td>522.5</td>\n",
              "      <td>535</td>\n",
              "      <td>0.014563</td>\n",
              "    </tr>\n",
              "    <tr>\n",
              "      <th>3</th>\n",
              "      <td>21/2/2025</td>\n",
              "      <td>510</td>\n",
              "      <td>515.0</td>\n",
              "      <td>520</td>\n",
              "      <td>-0.032864</td>\n",
              "    </tr>\n",
              "    <tr>\n",
              "      <th>4</th>\n",
              "      <td>14/2/2025</td>\n",
              "      <td>520</td>\n",
              "      <td>532.5</td>\n",
              "      <td>545</td>\n",
              "      <td>0.004717</td>\n",
              "    </tr>\n",
              "    <tr>\n",
              "      <th>...</th>\n",
              "      <td>...</td>\n",
              "      <td>...</td>\n",
              "      <td>...</td>\n",
              "      <td>...</td>\n",
              "      <td>...</td>\n",
              "    </tr>\n",
              "    <tr>\n",
              "      <th>388</th>\n",
              "      <td>4/8/2017</td>\n",
              "      <td>420</td>\n",
              "      <td>425.0</td>\n",
              "      <td>430</td>\n",
              "      <td>0.024096</td>\n",
              "    </tr>\n",
              "    <tr>\n",
              "      <th>389</th>\n",
              "      <td>28/7/2017</td>\n",
              "      <td>410</td>\n",
              "      <td>415.0</td>\n",
              "      <td>420</td>\n",
              "      <td>0.031056</td>\n",
              "    </tr>\n",
              "    <tr>\n",
              "      <th>390</th>\n",
              "      <td>21/7/2017</td>\n",
              "      <td>400</td>\n",
              "      <td>402.5</td>\n",
              "      <td>405</td>\n",
              "      <td>0.018987</td>\n",
              "    </tr>\n",
              "    <tr>\n",
              "      <th>391</th>\n",
              "      <td>14/7/2017</td>\n",
              "      <td>390</td>\n",
              "      <td>395.0</td>\n",
              "      <td>400</td>\n",
              "      <td>0.025974</td>\n",
              "    </tr>\n",
              "    <tr>\n",
              "      <th>392</th>\n",
              "      <td>7/7/2017</td>\n",
              "      <td>380</td>\n",
              "      <td>385.0</td>\n",
              "      <td>390</td>\n",
              "      <td>NaN</td>\n",
              "    </tr>\n",
              "  </tbody>\n",
              "</table>\n",
              "<p>393 rows × 5 columns</p>\n",
              "</div>\n",
              "    <div class=\"colab-df-buttons\">\n",
              "\n",
              "  <div class=\"colab-df-container\">\n",
              "    <button class=\"colab-df-convert\" onclick=\"convertToInteractive('df-0ab9e89a-467b-4c15-8f31-f7d5a1207dcb')\"\n",
              "            title=\"Convert this dataframe to an interactive table.\"\n",
              "            style=\"display:none;\">\n",
              "\n",
              "  <svg xmlns=\"http://www.w3.org/2000/svg\" height=\"24px\" viewBox=\"0 -960 960 960\">\n",
              "    <path d=\"M120-120v-720h720v720H120Zm60-500h600v-160H180v160Zm220 220h160v-160H400v160Zm0 220h160v-160H400v160ZM180-400h160v-160H180v160Zm440 0h160v-160H620v160ZM180-180h160v-160H180v160Zm440 0h160v-160H620v160Z\"/>\n",
              "  </svg>\n",
              "    </button>\n",
              "\n",
              "  <style>\n",
              "    .colab-df-container {\n",
              "      display:flex;\n",
              "      gap: 12px;\n",
              "    }\n",
              "\n",
              "    .colab-df-convert {\n",
              "      background-color: #E8F0FE;\n",
              "      border: none;\n",
              "      border-radius: 50%;\n",
              "      cursor: pointer;\n",
              "      display: none;\n",
              "      fill: #1967D2;\n",
              "      height: 32px;\n",
              "      padding: 0 0 0 0;\n",
              "      width: 32px;\n",
              "    }\n",
              "\n",
              "    .colab-df-convert:hover {\n",
              "      background-color: #E2EBFA;\n",
              "      box-shadow: 0px 1px 2px rgba(60, 64, 67, 0.3), 0px 1px 3px 1px rgba(60, 64, 67, 0.15);\n",
              "      fill: #174EA6;\n",
              "    }\n",
              "\n",
              "    .colab-df-buttons div {\n",
              "      margin-bottom: 4px;\n",
              "    }\n",
              "\n",
              "    [theme=dark] .colab-df-convert {\n",
              "      background-color: #3B4455;\n",
              "      fill: #D2E3FC;\n",
              "    }\n",
              "\n",
              "    [theme=dark] .colab-df-convert:hover {\n",
              "      background-color: #434B5C;\n",
              "      box-shadow: 0px 1px 3px 1px rgba(0, 0, 0, 0.15);\n",
              "      filter: drop-shadow(0px 1px 2px rgba(0, 0, 0, 0.3));\n",
              "      fill: #FFFFFF;\n",
              "    }\n",
              "  </style>\n",
              "\n",
              "    <script>\n",
              "      const buttonEl =\n",
              "        document.querySelector('#df-0ab9e89a-467b-4c15-8f31-f7d5a1207dcb button.colab-df-convert');\n",
              "      buttonEl.style.display =\n",
              "        google.colab.kernel.accessAllowed ? 'block' : 'none';\n",
              "\n",
              "      async function convertToInteractive(key) {\n",
              "        const element = document.querySelector('#df-0ab9e89a-467b-4c15-8f31-f7d5a1207dcb');\n",
              "        const dataTable =\n",
              "          await google.colab.kernel.invokeFunction('convertToInteractive',\n",
              "                                                    [key], {});\n",
              "        if (!dataTable) return;\n",
              "\n",
              "        const docLinkHtml = 'Like what you see? Visit the ' +\n",
              "          '<a target=\"_blank\" href=https://colab.research.google.com/notebooks/data_table.ipynb>data table notebook</a>'\n",
              "          + ' to learn more about interactive tables.';\n",
              "        element.innerHTML = '';\n",
              "        dataTable['output_type'] = 'display_data';\n",
              "        await google.colab.output.renderOutput(dataTable, element);\n",
              "        const docLink = document.createElement('div');\n",
              "        docLink.innerHTML = docLinkHtml;\n",
              "        element.appendChild(docLink);\n",
              "      }\n",
              "    </script>\n",
              "  </div>\n",
              "\n",
              "\n",
              "<div id=\"df-1fc091d6-c453-409e-b23d-01f511764a78\">\n",
              "  <button class=\"colab-df-quickchart\" onclick=\"quickchart('df-1fc091d6-c453-409e-b23d-01f511764a78')\"\n",
              "            title=\"Suggest charts\"\n",
              "            style=\"display:none;\">\n",
              "\n",
              "<svg xmlns=\"http://www.w3.org/2000/svg\" height=\"24px\"viewBox=\"0 0 24 24\"\n",
              "     width=\"24px\">\n",
              "    <g>\n",
              "        <path d=\"M19 3H5c-1.1 0-2 .9-2 2v14c0 1.1.9 2 2 2h14c1.1 0 2-.9 2-2V5c0-1.1-.9-2-2-2zM9 17H7v-7h2v7zm4 0h-2V7h2v10zm4 0h-2v-4h2v4z\"/>\n",
              "    </g>\n",
              "</svg>\n",
              "  </button>\n",
              "\n",
              "<style>\n",
              "  .colab-df-quickchart {\n",
              "      --bg-color: #E8F0FE;\n",
              "      --fill-color: #1967D2;\n",
              "      --hover-bg-color: #E2EBFA;\n",
              "      --hover-fill-color: #174EA6;\n",
              "      --disabled-fill-color: #AAA;\n",
              "      --disabled-bg-color: #DDD;\n",
              "  }\n",
              "\n",
              "  [theme=dark] .colab-df-quickchart {\n",
              "      --bg-color: #3B4455;\n",
              "      --fill-color: #D2E3FC;\n",
              "      --hover-bg-color: #434B5C;\n",
              "      --hover-fill-color: #FFFFFF;\n",
              "      --disabled-bg-color: #3B4455;\n",
              "      --disabled-fill-color: #666;\n",
              "  }\n",
              "\n",
              "  .colab-df-quickchart {\n",
              "    background-color: var(--bg-color);\n",
              "    border: none;\n",
              "    border-radius: 50%;\n",
              "    cursor: pointer;\n",
              "    display: none;\n",
              "    fill: var(--fill-color);\n",
              "    height: 32px;\n",
              "    padding: 0;\n",
              "    width: 32px;\n",
              "  }\n",
              "\n",
              "  .colab-df-quickchart:hover {\n",
              "    background-color: var(--hover-bg-color);\n",
              "    box-shadow: 0 1px 2px rgba(60, 64, 67, 0.3), 0 1px 3px 1px rgba(60, 64, 67, 0.15);\n",
              "    fill: var(--button-hover-fill-color);\n",
              "  }\n",
              "\n",
              "  .colab-df-quickchart-complete:disabled,\n",
              "  .colab-df-quickchart-complete:disabled:hover {\n",
              "    background-color: var(--disabled-bg-color);\n",
              "    fill: var(--disabled-fill-color);\n",
              "    box-shadow: none;\n",
              "  }\n",
              "\n",
              "  .colab-df-spinner {\n",
              "    border: 2px solid var(--fill-color);\n",
              "    border-color: transparent;\n",
              "    border-bottom-color: var(--fill-color);\n",
              "    animation:\n",
              "      spin 1s steps(1) infinite;\n",
              "  }\n",
              "\n",
              "  @keyframes spin {\n",
              "    0% {\n",
              "      border-color: transparent;\n",
              "      border-bottom-color: var(--fill-color);\n",
              "      border-left-color: var(--fill-color);\n",
              "    }\n",
              "    20% {\n",
              "      border-color: transparent;\n",
              "      border-left-color: var(--fill-color);\n",
              "      border-top-color: var(--fill-color);\n",
              "    }\n",
              "    30% {\n",
              "      border-color: transparent;\n",
              "      border-left-color: var(--fill-color);\n",
              "      border-top-color: var(--fill-color);\n",
              "      border-right-color: var(--fill-color);\n",
              "    }\n",
              "    40% {\n",
              "      border-color: transparent;\n",
              "      border-right-color: var(--fill-color);\n",
              "      border-top-color: var(--fill-color);\n",
              "    }\n",
              "    60% {\n",
              "      border-color: transparent;\n",
              "      border-right-color: var(--fill-color);\n",
              "    }\n",
              "    80% {\n",
              "      border-color: transparent;\n",
              "      border-right-color: var(--fill-color);\n",
              "      border-bottom-color: var(--fill-color);\n",
              "    }\n",
              "    90% {\n",
              "      border-color: transparent;\n",
              "      border-bottom-color: var(--fill-color);\n",
              "    }\n",
              "  }\n",
              "</style>\n",
              "\n",
              "  <script>\n",
              "    async function quickchart(key) {\n",
              "      const quickchartButtonEl =\n",
              "        document.querySelector('#' + key + ' button');\n",
              "      quickchartButtonEl.disabled = true;  // To prevent multiple clicks.\n",
              "      quickchartButtonEl.classList.add('colab-df-spinner');\n",
              "      try {\n",
              "        const charts = await google.colab.kernel.invokeFunction(\n",
              "            'suggestCharts', [key], {});\n",
              "      } catch (error) {\n",
              "        console.error('Error during call to suggestCharts:', error);\n",
              "      }\n",
              "      quickchartButtonEl.classList.remove('colab-df-spinner');\n",
              "      quickchartButtonEl.classList.add('colab-df-quickchart-complete');\n",
              "    }\n",
              "    (() => {\n",
              "      let quickchartButtonEl =\n",
              "        document.querySelector('#df-1fc091d6-c453-409e-b23d-01f511764a78 button');\n",
              "      quickchartButtonEl.style.display =\n",
              "        google.colab.kernel.accessAllowed ? 'block' : 'none';\n",
              "    })();\n",
              "  </script>\n",
              "</div>\n",
              "\n",
              "  <div id=\"id_1c4b5b2d-c169-4f81-9023-ee3d44a40ed8\">\n",
              "    <style>\n",
              "      .colab-df-generate {\n",
              "        background-color: #E8F0FE;\n",
              "        border: none;\n",
              "        border-radius: 50%;\n",
              "        cursor: pointer;\n",
              "        display: none;\n",
              "        fill: #1967D2;\n",
              "        height: 32px;\n",
              "        padding: 0 0 0 0;\n",
              "        width: 32px;\n",
              "      }\n",
              "\n",
              "      .colab-df-generate:hover {\n",
              "        background-color: #E2EBFA;\n",
              "        box-shadow: 0px 1px 2px rgba(60, 64, 67, 0.3), 0px 1px 3px 1px rgba(60, 64, 67, 0.15);\n",
              "        fill: #174EA6;\n",
              "      }\n",
              "\n",
              "      [theme=dark] .colab-df-generate {\n",
              "        background-color: #3B4455;\n",
              "        fill: #D2E3FC;\n",
              "      }\n",
              "\n",
              "      [theme=dark] .colab-df-generate:hover {\n",
              "        background-color: #434B5C;\n",
              "        box-shadow: 0px 1px 3px 1px rgba(0, 0, 0, 0.15);\n",
              "        filter: drop-shadow(0px 1px 2px rgba(0, 0, 0, 0.3));\n",
              "        fill: #FFFFFF;\n",
              "      }\n",
              "    </style>\n",
              "    <button class=\"colab-df-generate\" onclick=\"generateWithVariable('slabBrasil_df')\"\n",
              "            title=\"Generate code using this dataframe.\"\n",
              "            style=\"display:none;\">\n",
              "\n",
              "  <svg xmlns=\"http://www.w3.org/2000/svg\" height=\"24px\"viewBox=\"0 0 24 24\"\n",
              "       width=\"24px\">\n",
              "    <path d=\"M7,19H8.4L18.45,9,17,7.55,7,17.6ZM5,21V16.75L18.45,3.32a2,2,0,0,1,2.83,0l1.4,1.43a1.91,1.91,0,0,1,.58,1.4,1.91,1.91,0,0,1-.58,1.4L9.25,21ZM18.45,9,17,7.55Zm-12,3A5.31,5.31,0,0,0,4.9,8.1,5.31,5.31,0,0,0,1,6.5,5.31,5.31,0,0,0,4.9,4.9,5.31,5.31,0,0,0,6.5,1,5.31,5.31,0,0,0,8.1,4.9,5.31,5.31,0,0,0,12,6.5,5.46,5.46,0,0,0,6.5,12Z\"/>\n",
              "  </svg>\n",
              "    </button>\n",
              "    <script>\n",
              "      (() => {\n",
              "      const buttonEl =\n",
              "        document.querySelector('#id_1c4b5b2d-c169-4f81-9023-ee3d44a40ed8 button.colab-df-generate');\n",
              "      buttonEl.style.display =\n",
              "        google.colab.kernel.accessAllowed ? 'block' : 'none';\n",
              "\n",
              "      buttonEl.onclick = () => {\n",
              "        google.colab.notebook.generateWithVariable('slabBrasil_df');\n",
              "      }\n",
              "      })();\n",
              "    </script>\n",
              "  </div>\n",
              "\n",
              "    </div>\n",
              "  </div>\n"
            ],
            "application/vnd.google.colaboratory.intrinsic+json": {
              "type": "dataframe",
              "variable_name": "slabBrasil_df",
              "summary": "{\n  \"name\": \"slabBrasil_df\",\n  \"rows\": 393,\n  \"fields\": [\n    {\n      \"column\": \"Date\",\n      \"properties\": {\n        \"dtype\": \"object\",\n        \"num_unique_values\": 393,\n        \"samples\": [\n          \"15/9/2023\",\n          \"29/11/2019\",\n          \"12/6/2020\"\n        ],\n        \"semantic_type\": \"\",\n        \"description\": \"\"\n      }\n    },\n    {\n      \"column\": \"Low\",\n      \"properties\": {\n        \"dtype\": \"number\",\n        \"std\": 172,\n        \"min\": 310,\n        \"max\": 1250,\n        \"num_unique_values\": 81,\n        \"samples\": [\n          620,\n          490,\n          650\n        ],\n        \"semantic_type\": \"\",\n        \"description\": \"\"\n      }\n    },\n    {\n      \"column\": \"Mid\",\n      \"properties\": {\n        \"dtype\": \"number\",\n        \"std\": 176.11894982315215,\n        \"min\": 332.5,\n        \"max\": 1275.0,\n        \"num_unique_values\": 144,\n        \"samples\": [\n          465.0,\n          612.5,\n          985.0\n        ],\n        \"semantic_type\": \"\",\n        \"description\": \"\"\n      }\n    },\n    {\n      \"column\": \"High\",\n      \"properties\": {\n        \"dtype\": \"number\",\n        \"std\": 179,\n        \"min\": 345,\n        \"max\": 1300,\n        \"num_unique_values\": 88,\n        \"samples\": [\n          475,\n          520,\n          695\n        ],\n        \"semantic_type\": \"\",\n        \"description\": \"\"\n      }\n    },\n    {\n      \"column\": \"Mid Change %\",\n      \"properties\": {\n        \"dtype\": \"number\",\n        \"std\": 0.040681344151892215,\n        \"min\": -0.208333,\n        \"max\": 0.393939,\n        \"num_unique_values\": 244,\n        \"samples\": [\n          0.029126,\n          0.0,\n          0.044444\n        ],\n        \"semantic_type\": \"\",\n        \"description\": \"\"\n      }\n    }\n  ]\n}"
            }
          },
          "metadata": {},
          "execution_count": 19
        }
      ],
      "source": [
        "# Leer el archivo Excel:\n",
        "slabBrasil_df = pd.read_excel('Slab Brasil.xlsx',\n",
        "  skiprows=10, nrows=404-10, engine='openpyxl')\n",
        "\n",
        "# Mostrar las primeras filas del DataFrame:\n",
        "slabBrasil_df"
      ]
    },
    {
      "cell_type": "markdown",
      "source": [
        "Son 393 filas y 5 columnas."
      ],
      "metadata": {
        "id": "Z19EU581lEra"
      }
    },
    {
      "cell_type": "markdown",
      "source": [
        "Se agruparán los datos anteriores por mes, y se quitará la columna de 'Mid Change %', pues no es de interés para los objetivos de nuestro proyecto. De las demás columnas se obtendrá un promedio mensual."
      ],
      "metadata": {
        "id": "3ShwuKlLkajD"
      }
    },
    {
      "cell_type": "code",
      "source": [
        "# Convertir la columna 'Date' a tipo datetime, considerando el formato d/m/aaaa:\n",
        "slabBrasil_df['Date'] = pd.to_datetime(slabBrasil_df['Date'], dayfirst=True)\n",
        "\n",
        "# Establecer 'Date' como índice:\n",
        "slabBrasil_df.set_index('Date', inplace=True)\n",
        "\n",
        "# Re-muestrear los datos a nivel mensual y obtener el promedio de las columnas 'Low', 'Mid' y 'High':\n",
        "slabBrasil_df = slabBrasil_df.resample('M')[['Low', 'Mid', 'High']].mean()\n",
        "\n",
        "# Opcional: Reiniciar el índice para tener 'Date' como columna nuevamente:\n",
        "slabBrasil_df = slabBrasil_df.reset_index()\n",
        "\n",
        "# Formatear la columna 'Date' para mostrar 'NombreMes Año':\n",
        "slabBrasil_df['Date'] = slabBrasil_df['Date'].dt.strftime('%B %Y')\n",
        "\n",
        "# Mostrar el DataFrame resultante:\n",
        "slabBrasil_df"
      ],
      "metadata": {
        "colab": {
          "base_uri": "https://localhost:8080/",
          "height": 460
        },
        "id": "QEk35dPscLt9",
        "outputId": "cf9da268-e67c-4cd9-a632-07f1840df970"
      },
      "execution_count": 20,
      "outputs": [
        {
          "output_type": "stream",
          "name": "stderr",
          "text": [
            "<ipython-input-20-1531d594b900>:8: FutureWarning: 'M' is deprecated and will be removed in a future version, please use 'ME' instead.\n",
            "  slabBrasil_df = slabBrasil_df.resample('M')[['Low', 'Mid', 'High']].mean()\n"
          ]
        },
        {
          "output_type": "execute_result",
          "data": {
            "text/plain": [
              "              Date    Low      Mid    High\n",
              "0        July 2017  395.0  399.375  403.75\n",
              "1      August 2017  440.0  444.375  448.75\n",
              "2   September 2017  490.0  495.500  501.00\n",
              "3     October 2017  480.0  487.500  495.00\n",
              "4    November 2017  440.0  450.000  460.00\n",
              "..             ...    ...      ...     ...\n",
              "88   November 2024  527.0  537.500  548.00\n",
              "89   December 2024  522.5  534.375  546.25\n",
              "90    January 2025  530.0  539.500  549.00\n",
              "91   February 2025  515.0  525.000  535.00\n",
              "92      March 2025  485.0  502.500  520.00\n",
              "\n",
              "[93 rows x 4 columns]"
            ],
            "text/html": [
              "\n",
              "  <div id=\"df-423bafb7-6e24-4a0f-8c8c-2869f1916051\" class=\"colab-df-container\">\n",
              "    <div>\n",
              "<style scoped>\n",
              "    .dataframe tbody tr th:only-of-type {\n",
              "        vertical-align: middle;\n",
              "    }\n",
              "\n",
              "    .dataframe tbody tr th {\n",
              "        vertical-align: top;\n",
              "    }\n",
              "\n",
              "    .dataframe thead th {\n",
              "        text-align: right;\n",
              "    }\n",
              "</style>\n",
              "<table border=\"1\" class=\"dataframe\">\n",
              "  <thead>\n",
              "    <tr style=\"text-align: right;\">\n",
              "      <th></th>\n",
              "      <th>Date</th>\n",
              "      <th>Low</th>\n",
              "      <th>Mid</th>\n",
              "      <th>High</th>\n",
              "    </tr>\n",
              "  </thead>\n",
              "  <tbody>\n",
              "    <tr>\n",
              "      <th>0</th>\n",
              "      <td>July 2017</td>\n",
              "      <td>395.0</td>\n",
              "      <td>399.375</td>\n",
              "      <td>403.75</td>\n",
              "    </tr>\n",
              "    <tr>\n",
              "      <th>1</th>\n",
              "      <td>August 2017</td>\n",
              "      <td>440.0</td>\n",
              "      <td>444.375</td>\n",
              "      <td>448.75</td>\n",
              "    </tr>\n",
              "    <tr>\n",
              "      <th>2</th>\n",
              "      <td>September 2017</td>\n",
              "      <td>490.0</td>\n",
              "      <td>495.500</td>\n",
              "      <td>501.00</td>\n",
              "    </tr>\n",
              "    <tr>\n",
              "      <th>3</th>\n",
              "      <td>October 2017</td>\n",
              "      <td>480.0</td>\n",
              "      <td>487.500</td>\n",
              "      <td>495.00</td>\n",
              "    </tr>\n",
              "    <tr>\n",
              "      <th>4</th>\n",
              "      <td>November 2017</td>\n",
              "      <td>440.0</td>\n",
              "      <td>450.000</td>\n",
              "      <td>460.00</td>\n",
              "    </tr>\n",
              "    <tr>\n",
              "      <th>...</th>\n",
              "      <td>...</td>\n",
              "      <td>...</td>\n",
              "      <td>...</td>\n",
              "      <td>...</td>\n",
              "    </tr>\n",
              "    <tr>\n",
              "      <th>88</th>\n",
              "      <td>November 2024</td>\n",
              "      <td>527.0</td>\n",
              "      <td>537.500</td>\n",
              "      <td>548.00</td>\n",
              "    </tr>\n",
              "    <tr>\n",
              "      <th>89</th>\n",
              "      <td>December 2024</td>\n",
              "      <td>522.5</td>\n",
              "      <td>534.375</td>\n",
              "      <td>546.25</td>\n",
              "    </tr>\n",
              "    <tr>\n",
              "      <th>90</th>\n",
              "      <td>January 2025</td>\n",
              "      <td>530.0</td>\n",
              "      <td>539.500</td>\n",
              "      <td>549.00</td>\n",
              "    </tr>\n",
              "    <tr>\n",
              "      <th>91</th>\n",
              "      <td>February 2025</td>\n",
              "      <td>515.0</td>\n",
              "      <td>525.000</td>\n",
              "      <td>535.00</td>\n",
              "    </tr>\n",
              "    <tr>\n",
              "      <th>92</th>\n",
              "      <td>March 2025</td>\n",
              "      <td>485.0</td>\n",
              "      <td>502.500</td>\n",
              "      <td>520.00</td>\n",
              "    </tr>\n",
              "  </tbody>\n",
              "</table>\n",
              "<p>93 rows × 4 columns</p>\n",
              "</div>\n",
              "    <div class=\"colab-df-buttons\">\n",
              "\n",
              "  <div class=\"colab-df-container\">\n",
              "    <button class=\"colab-df-convert\" onclick=\"convertToInteractive('df-423bafb7-6e24-4a0f-8c8c-2869f1916051')\"\n",
              "            title=\"Convert this dataframe to an interactive table.\"\n",
              "            style=\"display:none;\">\n",
              "\n",
              "  <svg xmlns=\"http://www.w3.org/2000/svg\" height=\"24px\" viewBox=\"0 -960 960 960\">\n",
              "    <path d=\"M120-120v-720h720v720H120Zm60-500h600v-160H180v160Zm220 220h160v-160H400v160Zm0 220h160v-160H400v160ZM180-400h160v-160H180v160Zm440 0h160v-160H620v160ZM180-180h160v-160H180v160Zm440 0h160v-160H620v160Z\"/>\n",
              "  </svg>\n",
              "    </button>\n",
              "\n",
              "  <style>\n",
              "    .colab-df-container {\n",
              "      display:flex;\n",
              "      gap: 12px;\n",
              "    }\n",
              "\n",
              "    .colab-df-convert {\n",
              "      background-color: #E8F0FE;\n",
              "      border: none;\n",
              "      border-radius: 50%;\n",
              "      cursor: pointer;\n",
              "      display: none;\n",
              "      fill: #1967D2;\n",
              "      height: 32px;\n",
              "      padding: 0 0 0 0;\n",
              "      width: 32px;\n",
              "    }\n",
              "\n",
              "    .colab-df-convert:hover {\n",
              "      background-color: #E2EBFA;\n",
              "      box-shadow: 0px 1px 2px rgba(60, 64, 67, 0.3), 0px 1px 3px 1px rgba(60, 64, 67, 0.15);\n",
              "      fill: #174EA6;\n",
              "    }\n",
              "\n",
              "    .colab-df-buttons div {\n",
              "      margin-bottom: 4px;\n",
              "    }\n",
              "\n",
              "    [theme=dark] .colab-df-convert {\n",
              "      background-color: #3B4455;\n",
              "      fill: #D2E3FC;\n",
              "    }\n",
              "\n",
              "    [theme=dark] .colab-df-convert:hover {\n",
              "      background-color: #434B5C;\n",
              "      box-shadow: 0px 1px 3px 1px rgba(0, 0, 0, 0.15);\n",
              "      filter: drop-shadow(0px 1px 2px rgba(0, 0, 0, 0.3));\n",
              "      fill: #FFFFFF;\n",
              "    }\n",
              "  </style>\n",
              "\n",
              "    <script>\n",
              "      const buttonEl =\n",
              "        document.querySelector('#df-423bafb7-6e24-4a0f-8c8c-2869f1916051 button.colab-df-convert');\n",
              "      buttonEl.style.display =\n",
              "        google.colab.kernel.accessAllowed ? 'block' : 'none';\n",
              "\n",
              "      async function convertToInteractive(key) {\n",
              "        const element = document.querySelector('#df-423bafb7-6e24-4a0f-8c8c-2869f1916051');\n",
              "        const dataTable =\n",
              "          await google.colab.kernel.invokeFunction('convertToInteractive',\n",
              "                                                    [key], {});\n",
              "        if (!dataTable) return;\n",
              "\n",
              "        const docLinkHtml = 'Like what you see? Visit the ' +\n",
              "          '<a target=\"_blank\" href=https://colab.research.google.com/notebooks/data_table.ipynb>data table notebook</a>'\n",
              "          + ' to learn more about interactive tables.';\n",
              "        element.innerHTML = '';\n",
              "        dataTable['output_type'] = 'display_data';\n",
              "        await google.colab.output.renderOutput(dataTable, element);\n",
              "        const docLink = document.createElement('div');\n",
              "        docLink.innerHTML = docLinkHtml;\n",
              "        element.appendChild(docLink);\n",
              "      }\n",
              "    </script>\n",
              "  </div>\n",
              "\n",
              "\n",
              "<div id=\"df-10dcb9a5-e9c9-429f-8b11-79857d6c81a7\">\n",
              "  <button class=\"colab-df-quickchart\" onclick=\"quickchart('df-10dcb9a5-e9c9-429f-8b11-79857d6c81a7')\"\n",
              "            title=\"Suggest charts\"\n",
              "            style=\"display:none;\">\n",
              "\n",
              "<svg xmlns=\"http://www.w3.org/2000/svg\" height=\"24px\"viewBox=\"0 0 24 24\"\n",
              "     width=\"24px\">\n",
              "    <g>\n",
              "        <path d=\"M19 3H5c-1.1 0-2 .9-2 2v14c0 1.1.9 2 2 2h14c1.1 0 2-.9 2-2V5c0-1.1-.9-2-2-2zM9 17H7v-7h2v7zm4 0h-2V7h2v10zm4 0h-2v-4h2v4z\"/>\n",
              "    </g>\n",
              "</svg>\n",
              "  </button>\n",
              "\n",
              "<style>\n",
              "  .colab-df-quickchart {\n",
              "      --bg-color: #E8F0FE;\n",
              "      --fill-color: #1967D2;\n",
              "      --hover-bg-color: #E2EBFA;\n",
              "      --hover-fill-color: #174EA6;\n",
              "      --disabled-fill-color: #AAA;\n",
              "      --disabled-bg-color: #DDD;\n",
              "  }\n",
              "\n",
              "  [theme=dark] .colab-df-quickchart {\n",
              "      --bg-color: #3B4455;\n",
              "      --fill-color: #D2E3FC;\n",
              "      --hover-bg-color: #434B5C;\n",
              "      --hover-fill-color: #FFFFFF;\n",
              "      --disabled-bg-color: #3B4455;\n",
              "      --disabled-fill-color: #666;\n",
              "  }\n",
              "\n",
              "  .colab-df-quickchart {\n",
              "    background-color: var(--bg-color);\n",
              "    border: none;\n",
              "    border-radius: 50%;\n",
              "    cursor: pointer;\n",
              "    display: none;\n",
              "    fill: var(--fill-color);\n",
              "    height: 32px;\n",
              "    padding: 0;\n",
              "    width: 32px;\n",
              "  }\n",
              "\n",
              "  .colab-df-quickchart:hover {\n",
              "    background-color: var(--hover-bg-color);\n",
              "    box-shadow: 0 1px 2px rgba(60, 64, 67, 0.3), 0 1px 3px 1px rgba(60, 64, 67, 0.15);\n",
              "    fill: var(--button-hover-fill-color);\n",
              "  }\n",
              "\n",
              "  .colab-df-quickchart-complete:disabled,\n",
              "  .colab-df-quickchart-complete:disabled:hover {\n",
              "    background-color: var(--disabled-bg-color);\n",
              "    fill: var(--disabled-fill-color);\n",
              "    box-shadow: none;\n",
              "  }\n",
              "\n",
              "  .colab-df-spinner {\n",
              "    border: 2px solid var(--fill-color);\n",
              "    border-color: transparent;\n",
              "    border-bottom-color: var(--fill-color);\n",
              "    animation:\n",
              "      spin 1s steps(1) infinite;\n",
              "  }\n",
              "\n",
              "  @keyframes spin {\n",
              "    0% {\n",
              "      border-color: transparent;\n",
              "      border-bottom-color: var(--fill-color);\n",
              "      border-left-color: var(--fill-color);\n",
              "    }\n",
              "    20% {\n",
              "      border-color: transparent;\n",
              "      border-left-color: var(--fill-color);\n",
              "      border-top-color: var(--fill-color);\n",
              "    }\n",
              "    30% {\n",
              "      border-color: transparent;\n",
              "      border-left-color: var(--fill-color);\n",
              "      border-top-color: var(--fill-color);\n",
              "      border-right-color: var(--fill-color);\n",
              "    }\n",
              "    40% {\n",
              "      border-color: transparent;\n",
              "      border-right-color: var(--fill-color);\n",
              "      border-top-color: var(--fill-color);\n",
              "    }\n",
              "    60% {\n",
              "      border-color: transparent;\n",
              "      border-right-color: var(--fill-color);\n",
              "    }\n",
              "    80% {\n",
              "      border-color: transparent;\n",
              "      border-right-color: var(--fill-color);\n",
              "      border-bottom-color: var(--fill-color);\n",
              "    }\n",
              "    90% {\n",
              "      border-color: transparent;\n",
              "      border-bottom-color: var(--fill-color);\n",
              "    }\n",
              "  }\n",
              "</style>\n",
              "\n",
              "  <script>\n",
              "    async function quickchart(key) {\n",
              "      const quickchartButtonEl =\n",
              "        document.querySelector('#' + key + ' button');\n",
              "      quickchartButtonEl.disabled = true;  // To prevent multiple clicks.\n",
              "      quickchartButtonEl.classList.add('colab-df-spinner');\n",
              "      try {\n",
              "        const charts = await google.colab.kernel.invokeFunction(\n",
              "            'suggestCharts', [key], {});\n",
              "      } catch (error) {\n",
              "        console.error('Error during call to suggestCharts:', error);\n",
              "      }\n",
              "      quickchartButtonEl.classList.remove('colab-df-spinner');\n",
              "      quickchartButtonEl.classList.add('colab-df-quickchart-complete');\n",
              "    }\n",
              "    (() => {\n",
              "      let quickchartButtonEl =\n",
              "        document.querySelector('#df-10dcb9a5-e9c9-429f-8b11-79857d6c81a7 button');\n",
              "      quickchartButtonEl.style.display =\n",
              "        google.colab.kernel.accessAllowed ? 'block' : 'none';\n",
              "    })();\n",
              "  </script>\n",
              "</div>\n",
              "\n",
              "  <div id=\"id_a490b568-4f66-4901-9fec-51e12e6b15be\">\n",
              "    <style>\n",
              "      .colab-df-generate {\n",
              "        background-color: #E8F0FE;\n",
              "        border: none;\n",
              "        border-radius: 50%;\n",
              "        cursor: pointer;\n",
              "        display: none;\n",
              "        fill: #1967D2;\n",
              "        height: 32px;\n",
              "        padding: 0 0 0 0;\n",
              "        width: 32px;\n",
              "      }\n",
              "\n",
              "      .colab-df-generate:hover {\n",
              "        background-color: #E2EBFA;\n",
              "        box-shadow: 0px 1px 2px rgba(60, 64, 67, 0.3), 0px 1px 3px 1px rgba(60, 64, 67, 0.15);\n",
              "        fill: #174EA6;\n",
              "      }\n",
              "\n",
              "      [theme=dark] .colab-df-generate {\n",
              "        background-color: #3B4455;\n",
              "        fill: #D2E3FC;\n",
              "      }\n",
              "\n",
              "      [theme=dark] .colab-df-generate:hover {\n",
              "        background-color: #434B5C;\n",
              "        box-shadow: 0px 1px 3px 1px rgba(0, 0, 0, 0.15);\n",
              "        filter: drop-shadow(0px 1px 2px rgba(0, 0, 0, 0.3));\n",
              "        fill: #FFFFFF;\n",
              "      }\n",
              "    </style>\n",
              "    <button class=\"colab-df-generate\" onclick=\"generateWithVariable('slabBrasil_df')\"\n",
              "            title=\"Generate code using this dataframe.\"\n",
              "            style=\"display:none;\">\n",
              "\n",
              "  <svg xmlns=\"http://www.w3.org/2000/svg\" height=\"24px\"viewBox=\"0 0 24 24\"\n",
              "       width=\"24px\">\n",
              "    <path d=\"M7,19H8.4L18.45,9,17,7.55,7,17.6ZM5,21V16.75L18.45,3.32a2,2,0,0,1,2.83,0l1.4,1.43a1.91,1.91,0,0,1,.58,1.4,1.91,1.91,0,0,1-.58,1.4L9.25,21ZM18.45,9,17,7.55Zm-12,3A5.31,5.31,0,0,0,4.9,8.1,5.31,5.31,0,0,0,1,6.5,5.31,5.31,0,0,0,4.9,4.9,5.31,5.31,0,0,0,6.5,1,5.31,5.31,0,0,0,8.1,4.9,5.31,5.31,0,0,0,12,6.5,5.46,5.46,0,0,0,6.5,12Z\"/>\n",
              "  </svg>\n",
              "    </button>\n",
              "    <script>\n",
              "      (() => {\n",
              "      const buttonEl =\n",
              "        document.querySelector('#id_a490b568-4f66-4901-9fec-51e12e6b15be button.colab-df-generate');\n",
              "      buttonEl.style.display =\n",
              "        google.colab.kernel.accessAllowed ? 'block' : 'none';\n",
              "\n",
              "      buttonEl.onclick = () => {\n",
              "        google.colab.notebook.generateWithVariable('slabBrasil_df');\n",
              "      }\n",
              "      })();\n",
              "    </script>\n",
              "  </div>\n",
              "\n",
              "    </div>\n",
              "  </div>\n"
            ],
            "application/vnd.google.colaboratory.intrinsic+json": {
              "type": "dataframe",
              "variable_name": "slabBrasil_df",
              "summary": "{\n  \"name\": \"slabBrasil_df\",\n  \"rows\": 93,\n  \"fields\": [\n    {\n      \"column\": \"Date\",\n      \"properties\": {\n        \"dtype\": \"object\",\n        \"num_unique_values\": 93,\n        \"samples\": [\n          \"November 2020\",\n          \"May 2019\",\n          \"February 2022\"\n        ],\n        \"semantic_type\": \"\",\n        \"description\": \"\"\n      }\n    },\n    {\n      \"column\": \"Low\",\n      \"properties\": {\n        \"dtype\": \"number\",\n        \"std\": 170.50885144723696,\n        \"min\": 317.5,\n        \"max\": 1220.0,\n        \"num_unique_values\": 83,\n        \"samples\": [\n          335.0,\n          395.0,\n          417.5\n        ],\n        \"semantic_type\": \"\",\n        \"description\": \"\"\n      }\n    },\n    {\n      \"column\": \"Mid\",\n      \"properties\": {\n        \"dtype\": \"number\",\n        \"std\": 174.04066934594866,\n        \"min\": 333.75,\n        \"max\": 1255.0,\n        \"num_unique_values\": 87,\n        \"samples\": [\n          619.375,\n          399.375,\n          395.625\n        ],\n        \"semantic_type\": \"\",\n        \"description\": \"\"\n      }\n    },\n    {\n      \"column\": \"High\",\n      \"properties\": {\n        \"dtype\": \"number\",\n        \"std\": 177.80159217880663,\n        \"min\": 349.0,\n        \"max\": 1290.0,\n        \"num_unique_values\": 87,\n        \"samples\": [\n          626.0,\n          403.75,\n          402.5\n        ],\n        \"semantic_type\": \"\",\n        \"description\": \"\"\n      }\n    }\n  ]\n}"
            }
          },
          "metadata": {},
          "execution_count": 20
        }
      ]
    },
    {
      "cell_type": "markdown",
      "source": [
        "Ahora son 93 filas y 4 columnas."
      ],
      "metadata": {
        "id": "5p0Kmf8mlIrC"
      }
    },
    {
      "cell_type": "markdown",
      "source": [
        "#### Calidad de los datos"
      ],
      "metadata": {
        "id": "JGMP9n3LfBnd"
      }
    },
    {
      "cell_type": "code",
      "source": [
        "# Contar datos nulos de cada columna:\n",
        "valores_nulos_por_columna = slabBrasil_df.isnull().sum()\n",
        "valores_nulos_por_columna.name = 'Valores Nulos'\n",
        "valores_nulos_por_columna"
      ],
      "metadata": {
        "colab": {
          "base_uri": "https://localhost:8080/",
          "height": 210
        },
        "id": "TM2SbdogfC5Q",
        "outputId": "d9849701-f5f4-4005-eb71-d6798386a004"
      },
      "execution_count": 21,
      "outputs": [
        {
          "output_type": "execute_result",
          "data": {
            "text/plain": [
              "Date    0\n",
              "Low     2\n",
              "Mid     2\n",
              "High    2\n",
              "Name: Valores Nulos, dtype: int64"
            ],
            "text/html": [
              "<div>\n",
              "<style scoped>\n",
              "    .dataframe tbody tr th:only-of-type {\n",
              "        vertical-align: middle;\n",
              "    }\n",
              "\n",
              "    .dataframe tbody tr th {\n",
              "        vertical-align: top;\n",
              "    }\n",
              "\n",
              "    .dataframe thead th {\n",
              "        text-align: right;\n",
              "    }\n",
              "</style>\n",
              "<table border=\"1\" class=\"dataframe\">\n",
              "  <thead>\n",
              "    <tr style=\"text-align: right;\">\n",
              "      <th></th>\n",
              "      <th>Valores Nulos</th>\n",
              "    </tr>\n",
              "  </thead>\n",
              "  <tbody>\n",
              "    <tr>\n",
              "      <th>Date</th>\n",
              "      <td>0</td>\n",
              "    </tr>\n",
              "    <tr>\n",
              "      <th>Low</th>\n",
              "      <td>2</td>\n",
              "    </tr>\n",
              "    <tr>\n",
              "      <th>Mid</th>\n",
              "      <td>2</td>\n",
              "    </tr>\n",
              "    <tr>\n",
              "      <th>High</th>\n",
              "      <td>2</td>\n",
              "    </tr>\n",
              "  </tbody>\n",
              "</table>\n",
              "</div><br><label><b>dtype:</b> int64</label>"
            ]
          },
          "metadata": {},
          "execution_count": 21
        }
      ]
    },
    {
      "cell_type": "markdown",
      "source": [
        "Los valores nulos se dan porque hay meses en el dataframe original en los que no hay cambio de precio, se hará una interpolación del último dato no nulo anterior y el primer dato no nulo posterior."
      ],
      "metadata": {
        "id": "q3uF3mhxEjcG"
      }
    },
    {
      "cell_type": "code",
      "source": [
        "# Aplicar la interpolación lineal a las columnas 'Low', 'Mid' y 'High':\n",
        "slabBrasil_df[['Low', 'Mid', 'High']] = slabBrasil_df[['Low', 'Mid', 'High']].interpolate(method='linear', limit_direction='both')"
      ],
      "metadata": {
        "id": "H8u_BCP4EkdN"
      },
      "execution_count": 22,
      "outputs": []
    },
    {
      "cell_type": "code",
      "source": [
        "valores_nulos_por_columna = slabBrasil_df.isnull().sum()\n",
        "valores_nulos_por_columna.name = 'Valores Nulos'\n",
        "valores_nulos_por_columna"
      ],
      "metadata": {
        "colab": {
          "base_uri": "https://localhost:8080/",
          "height": 210
        },
        "id": "0fWiQn67Ek0s",
        "outputId": "761d2d30-115c-4a3b-9921-74bb82ee0123"
      },
      "execution_count": 23,
      "outputs": [
        {
          "output_type": "execute_result",
          "data": {
            "text/plain": [
              "Date    0\n",
              "Low     0\n",
              "Mid     0\n",
              "High    0\n",
              "Name: Valores Nulos, dtype: int64"
            ],
            "text/html": [
              "<div>\n",
              "<style scoped>\n",
              "    .dataframe tbody tr th:only-of-type {\n",
              "        vertical-align: middle;\n",
              "    }\n",
              "\n",
              "    .dataframe tbody tr th {\n",
              "        vertical-align: top;\n",
              "    }\n",
              "\n",
              "    .dataframe thead th {\n",
              "        text-align: right;\n",
              "    }\n",
              "</style>\n",
              "<table border=\"1\" class=\"dataframe\">\n",
              "  <thead>\n",
              "    <tr style=\"text-align: right;\">\n",
              "      <th></th>\n",
              "      <th>Valores Nulos</th>\n",
              "    </tr>\n",
              "  </thead>\n",
              "  <tbody>\n",
              "    <tr>\n",
              "      <th>Date</th>\n",
              "      <td>0</td>\n",
              "    </tr>\n",
              "    <tr>\n",
              "      <th>Low</th>\n",
              "      <td>0</td>\n",
              "    </tr>\n",
              "    <tr>\n",
              "      <th>Mid</th>\n",
              "      <td>0</td>\n",
              "    </tr>\n",
              "    <tr>\n",
              "      <th>High</th>\n",
              "      <td>0</td>\n",
              "    </tr>\n",
              "  </tbody>\n",
              "</table>\n",
              "</div><br><label><b>dtype:</b> int64</label>"
            ]
          },
          "metadata": {},
          "execution_count": 23
        }
      ]
    },
    {
      "cell_type": "markdown",
      "source": [
        "Ya no hay datos nulos."
      ],
      "metadata": {
        "id": "VwikOsuxfKXw"
      }
    },
    {
      "cell_type": "code",
      "source": [
        "# Contar registros duplicados:\n",
        "num_duplicados = slabBrasil_df.duplicated().sum()\n",
        "print(f\"Número de registros duplicados: {num_duplicados}\")\n",
        "\n",
        "# Visualizar los registros duplicados (si existen):\n",
        "if num_duplicados > 0:\n",
        "    duplicados = slabBrasil_df[slabBrasil_df.duplicated()]\n",
        "    print(\"Registros duplicados:\")\n",
        "    print(duplicados)"
      ],
      "metadata": {
        "colab": {
          "base_uri": "https://localhost:8080/"
        },
        "id": "-P0WgrpEhTqG",
        "outputId": "917034d3-c7ff-4d13-96a9-5012e8dbfa39"
      },
      "execution_count": 24,
      "outputs": [
        {
          "output_type": "stream",
          "name": "stdout",
          "text": [
            "Número de registros duplicados: 0\n"
          ]
        }
      ]
    },
    {
      "cell_type": "code",
      "source": [
        "# Detectar registros con valores fuera del rango esperado:\n",
        "erroneos = slabBrasil_df[(slabBrasil_df['Low'] < 0) | (slabBrasil_df['Mid'] < 0) | (slabBrasil_df['High'] < 0)]\n",
        "print(\"Registros con valores erróneos en 'Low':\")\n",
        "print(erroneos)"
      ],
      "metadata": {
        "colab": {
          "base_uri": "https://localhost:8080/"
        },
        "id": "BWZG05U5hlRP",
        "outputId": "2fa24261-5dd9-4500-8879-09e59ab56b83"
      },
      "execution_count": 25,
      "outputs": [
        {
          "output_type": "stream",
          "name": "stdout",
          "text": [
            "Registros con valores erróneos en 'Low':\n",
            "Empty DataFrame\n",
            "Columns: [Date, Low, Mid, High]\n",
            "Index: []\n"
          ]
        }
      ]
    },
    {
      "cell_type": "markdown",
      "source": [
        "Los precios están dentro del rango correcto."
      ],
      "metadata": {
        "id": "Hr-UBG-2h5oZ"
      }
    },
    {
      "cell_type": "code",
      "source": [
        "slabBrasil_df.dtypes # Tipos de dato."
      ],
      "metadata": {
        "colab": {
          "base_uri": "https://localhost:8080/",
          "height": 210
        },
        "id": "41ggyELhhxl3",
        "outputId": "5ea2b016-f421-4e80-9315-c24efd6d7706"
      },
      "execution_count": 26,
      "outputs": [
        {
          "output_type": "execute_result",
          "data": {
            "text/plain": [
              "Date     object\n",
              "Low     float64\n",
              "Mid     float64\n",
              "High    float64\n",
              "dtype: object"
            ],
            "text/html": [
              "<div>\n",
              "<style scoped>\n",
              "    .dataframe tbody tr th:only-of-type {\n",
              "        vertical-align: middle;\n",
              "    }\n",
              "\n",
              "    .dataframe tbody tr th {\n",
              "        vertical-align: top;\n",
              "    }\n",
              "\n",
              "    .dataframe thead th {\n",
              "        text-align: right;\n",
              "    }\n",
              "</style>\n",
              "<table border=\"1\" class=\"dataframe\">\n",
              "  <thead>\n",
              "    <tr style=\"text-align: right;\">\n",
              "      <th></th>\n",
              "      <th>0</th>\n",
              "    </tr>\n",
              "  </thead>\n",
              "  <tbody>\n",
              "    <tr>\n",
              "      <th>Date</th>\n",
              "      <td>object</td>\n",
              "    </tr>\n",
              "    <tr>\n",
              "      <th>Low</th>\n",
              "      <td>float64</td>\n",
              "    </tr>\n",
              "    <tr>\n",
              "      <th>Mid</th>\n",
              "      <td>float64</td>\n",
              "    </tr>\n",
              "    <tr>\n",
              "      <th>High</th>\n",
              "      <td>float64</td>\n",
              "    </tr>\n",
              "  </tbody>\n",
              "</table>\n",
              "</div><br><label><b>dtype:</b> object</label>"
            ]
          },
          "metadata": {},
          "execution_count": 26
        }
      ]
    },
    {
      "cell_type": "markdown",
      "source": [
        "Todos los datos tienen el tipo correcto."
      ],
      "metadata": {
        "id": "pi_G7q-8h1w1"
      }
    },
    {
      "cell_type": "markdown",
      "source": [
        "#### Medidas estadísticas"
      ],
      "metadata": {
        "id": "pK0qZ-TMhChF"
      }
    },
    {
      "cell_type": "code",
      "source": [
        "# Lista de columnas cuantitativas:\n",
        "numeric_columns = ['Low', 'Mid', 'High']\n",
        "\n",
        "for col in numeric_columns:\n",
        "    print(f\"Variable: {col}\")\n",
        "    # Medidas de tendencia central:\n",
        "    media = slabBrasil_df[col].mean()\n",
        "    mediana = slabBrasil_df[col].median()\n",
        "    # La moda puede devolver más de un valor, por eso se imprime como Series:\n",
        "    moda = slabBrasil_df[col].mode()\n",
        "\n",
        "    # Medidas de dispersión:\n",
        "    rango = slabBrasil_df[col].max() - slabBrasil_df[col].min()\n",
        "    varianza = slabBrasil_df[col].var()\n",
        "    desv_estandar = slabBrasil_df[col].std()\n",
        "\n",
        "    print(f\"  Promedio/Media: {media}\")\n",
        "    print(f\"  Mediana: {mediana}\")\n",
        "    print(f\"  Moda: {list(moda)}\") # Serie a lista para mayor claridad.\n",
        "    print(f\"  Rango (max - min): {rango}\")\n",
        "    print(f\"  Varianza: {varianza}\")\n",
        "    print(f\"  Desviación Estándar: {desv_estandar}\\n\")"
      ],
      "metadata": {
        "colab": {
          "base_uri": "https://localhost:8080/"
        },
        "id": "BP1wAROJX9ur",
        "outputId": "0915674f-6a4d-4622-8dbc-44ef10a04854"
      },
      "execution_count": 27,
      "outputs": [
        {
          "output_type": "stream",
          "name": "stdout",
          "text": [
            "Variable: Low\n",
            "  Promedio/Media: 584.5295698924731\n",
            "  Mediana: 535.0\n",
            "  Moda: [417.5, 440.0, 490.0, 530.0, 532.5, 595.0, 640.0, 740.0]\n",
            "  Rango (max - min): 902.5\n",
            "  Varianza: 28751.434276141514\n",
            "  Desviación Estándar: 169.5624789749829\n",
            "\n",
            "Variable: Mid\n",
            "  Promedio/Media: 596.2110215053764\n",
            "  Mediana: 545.0\n",
            "  Moda: [425.0, 495.0, 525.0, 525.625]\n",
            "  Rango (max - min): 921.25\n",
            "  Varianza: 29890.614613770056\n",
            "  Desviación Estándar: 172.88902398292976\n",
            "\n",
            "Variable: High\n",
            "  Promedio/Media: 607.8924731182796\n",
            "  Mediana: 558.0\n",
            "  Moda: [527.5, 535.0, 547.5, 747.5]\n",
            "  Rango (max - min): 941.0\n",
            "  Varianza: 31138.48212268194\n",
            "  Desviación Estándar: 176.46099320439615\n",
            "\n"
          ]
        }
      ]
    },
    {
      "cell_type": "markdown",
      "source": [
        "Cada variable tiene sus medidas de tendencia central y dispersión en un rango cercano, las variables son multimodales."
      ],
      "metadata": {
        "id": "60152uoLlzrA"
      }
    },
    {
      "cell_type": "code",
      "source": [
        "# Tabla de distribución de frecuencia para la variable 'Date':\n",
        "frecuencia_date = slabBrasil_df['Date'].value_counts().sort_index()\n",
        "print(\"Tabla de distribución de frecuencia (Date):\")\n",
        "print(frecuencia_date)\n",
        "print(\"\\n\")\n",
        "\n",
        "# Ahora, calcular la mediana de la columna 'Date':\n",
        "median_date = pd.to_datetime(slabBrasil_df['Date'], dayfirst=True).median()\n",
        "\n",
        "# Mostrar la mediana formateada:\n",
        "print(\"Mediana de las fechas:\", median_date.strftime(\"%B %Y\"))"
      ],
      "metadata": {
        "colab": {
          "base_uri": "https://localhost:8080/"
        },
        "id": "eUEun_pUZ0JD",
        "outputId": "a25152bb-3eb5-48df-b037-be1ff8b6c3f6"
      },
      "execution_count": 28,
      "outputs": [
        {
          "output_type": "stream",
          "name": "stdout",
          "text": [
            "Tabla de distribución de frecuencia (Date):\n",
            "Date\n",
            "April 2018        1\n",
            "April 2019        1\n",
            "April 2020        1\n",
            "April 2021        1\n",
            "April 2022        1\n",
            "                 ..\n",
            "September 2020    1\n",
            "September 2021    1\n",
            "September 2022    1\n",
            "September 2023    1\n",
            "September 2024    1\n",
            "Name: count, Length: 93, dtype: int64\n",
            "\n",
            "\n",
            "Mediana de las fechas: May 2021\n"
          ]
        },
        {
          "output_type": "stream",
          "name": "stderr",
          "text": [
            "<ipython-input-28-892b95d5f8ed>:8: UserWarning: Could not infer format, so each element will be parsed individually, falling back to `dateutil`. To ensure parsing is consistent and as-expected, please specify a format.\n",
            "  median_date = pd.to_datetime(slabBrasil_df['Date'], dayfirst=True).median()\n"
          ]
        }
      ]
    },
    {
      "cell_type": "markdown",
      "source": [
        "Cada fecha es única."
      ],
      "metadata": {
        "id": "dAzG0OjrltQ3"
      }
    },
    {
      "cell_type": "markdown",
      "source": [
        "##### Exploración de datos"
      ],
      "metadata": {
        "id": "uQz2ArF9hM7Y"
      }
    },
    {
      "cell_type": "code",
      "source": [
        "# Cuartiles, medidas de posición no-central (no solo la mediana) y detección de outliers:\n",
        "print(\"Medidas de posición y dispersión (para variables numéricas):\")\n",
        "for col in ['Low', 'Mid', 'High']:\n",
        "    Q1 = slabBrasil_df[col].quantile(0.25)\n",
        "    Q3 = slabBrasil_df[col].quantile(0.75)\n",
        "    IQR = Q3 - Q1\n",
        "    outliers = slabBrasil_df[(slabBrasil_df[col] < (Q1 - 1.5 * IQR)) | (slabBrasil_df[col] > (Q3 + 1.5 * IQR))][col]\n",
        "\n",
        "    print(f\"\\nVariable: {col}\")\n",
        "    print(f\"  Cuartil 1 (Q1): {Q1}\")\n",
        "    print(f\"  Cuartil 3 (Q3): {Q3}\")\n",
        "    print(f\"  IQR: {IQR}\")\n",
        "    print(f\"  Outliers detectados: {list(outliers)}\")"
      ],
      "metadata": {
        "colab": {
          "base_uri": "https://localhost:8080/"
        },
        "id": "0n8-Iggxdwqh",
        "outputId": "0c2d534c-a5b1-4517-940e-701fecfef931"
      },
      "execution_count": 29,
      "outputs": [
        {
          "output_type": "stream",
          "name": "stdout",
          "text": [
            "Medidas de posición y dispersión (para variables numéricas):\n",
            "\n",
            "Variable: Low\n",
            "  Cuartil 1 (Q1): 480.0\n",
            "  Cuartil 3 (Q3): 664.0\n",
            "  IQR: 184.0\n",
            "  Outliers detectados: [950.0, 980.0, 965.0, 1025.0, 1220.0]\n",
            "\n",
            "Variable: Mid\n",
            "  Cuartil 1 (Q1): 495.0\n",
            "  Cuartil 3 (Q3): 672.5\n",
            "  IQR: 177.5\n",
            "  Outliers detectados: [962.5, 990.0, 973.0, 1068.75, 1255.0]\n",
            "\n",
            "Variable: High\n",
            "  Cuartil 1 (Q1): 501.0\n",
            "  Cuartil 3 (Q3): 680.0\n",
            "  IQR: 179.0\n",
            "  Outliers detectados: [975.0, 1000.0, 981.0, 1112.5, 1290.0, 962.5]\n"
          ]
        }
      ]
    },
    {
      "cell_type": "markdown",
      "source": [
        "Cada variable tiene sus medidas de posición en un rango similar."
      ],
      "metadata": {
        "id": "RWLwRdRImG3N"
      }
    },
    {
      "cell_type": "code",
      "source": [
        "# Boxplots para visualizar la distribución y detectar outliers:\n",
        "plt.figure(figsize=(12, 6))\n",
        "plt.suptitle(\"Boxplots de variables cuantitativas\", fontsize=16)\n",
        "for i, col in enumerate(['Low', 'Mid', 'High'], 1):\n",
        "    plt.subplot(2, 2, i)\n",
        "    sns.boxplot(y=slabBrasil_df[col])\n",
        "    plt.title(col)\n",
        "plt.tight_layout(rect=[0, 0, 1, 0.95])\n",
        "plt.show()"
      ],
      "metadata": {
        "colab": {
          "base_uri": "https://localhost:8080/",
          "height": 609
        },
        "id": "F9HMe6Itiznd",
        "outputId": "ba2549e6-3bb8-45a8-d291-8db89f485741"
      },
      "execution_count": 30,
      "outputs": [
        {
          "output_type": "display_data",
          "data": {
            "text/plain": [
              "<Figure size 1200x600 with 3 Axes>"
            ],
            "image/png": "[encoded data removed]"
          },
          "metadata": {}
        }
      ]
    },
    {
      "cell_type": "markdown",
      "source": [
        "Se observa en los boxplots que los datos atípicos se encuentran en los valores altos y que el primer cuartil está más cerca de la mediana que el tercer cuartil."
      ],
      "metadata": {
        "id": "UYQdkk-YndCV"
      }
    },
    {
      "cell_type": "code",
      "source": [
        "# Histogramas para analizar la distribución y ver la forma (simétrica/asimétrica):\n",
        "plt.figure(figsize=(12, 8))\n",
        "plt.suptitle(\"Histogramas de variables cuantitativas\", fontsize=16)\n",
        "for i, col in enumerate(['Low', 'Mid', 'High'], 1):\n",
        "    plt.subplot(2, 2, i)\n",
        "    sns.histplot(slabBrasil_df[col], kde=True, bins=53)\n",
        "    plt.title(col)\n",
        "plt.tight_layout(rect=[0, 0, 1, 0.93])\n",
        "plt.show()"
      ],
      "metadata": {
        "colab": {
          "base_uri": "https://localhost:8080/",
          "height": 805
        },
        "id": "_3jwemjZkodp",
        "outputId": "4c89b5ca-b500-4490-bb00-dbb5f22398c0"
      },
      "execution_count": 31,
      "outputs": [
        {
          "output_type": "display_data",
          "data": {
            "text/plain": [
              "<Figure size 1200x800 with 3 Axes>"
            ],
            "image/png": "[encoded data removed]"
          },
          "metadata": {}
        }
      ]
    },
    {
      "cell_type": "markdown",
      "source": [
        "Se observa un ligero sesgo a la derecha en la distribución, pues los datos más bajos se agrupan más cerca de la mediana."
      ],
      "metadata": {
        "id": "tSjRHCCkn1NV"
      }
    },
    {
      "cell_type": "code",
      "source": [
        "# Mapa de calor de la correlación entre variables numéricas:\n",
        "plt.figure(figsize=(8, 6))\n",
        "corr_matrix = slabBrasil_df[['Low', 'Mid', 'High']].corr()\n",
        "sns.heatmap(corr_matrix, annot=True, cmap=\"coolwarm\", fmt=\".2f\")\n",
        "plt.title(\"Mapa de calor de correlación\")\n",
        "plt.show()"
      ],
      "metadata": {
        "colab": {
          "base_uri": "https://localhost:8080/",
          "height": 545
        },
        "id": "feNFn3oSmJIc",
        "outputId": "719ae729-e2a8-40c9-a24a-f7e422a9313b"
      },
      "execution_count": 32,
      "outputs": [
        {
          "output_type": "display_data",
          "data": {
            "text/plain": [
              "<Figure size 800x600 with 2 Axes>"
            ],
            "image/png": "[encoded data removed]"
          },
          "metadata": {}
        }
      ]
    },
    {
      "cell_type": "markdown",
      "source": [
        "Todas las variables tienen una casi correlación perfecta positiva."
      ],
      "metadata": {
        "id": "o6hRykjfqUvL"
      }
    },
    {
      "cell_type": "markdown",
      "source": [
        "Cada fecha es única, así que si se quieren ver distribuciones de la variable que no sean uniformes para obtener gráficos de barras y de pastel más interesantes, se puede realizar transformaciones a la variable 'Date'."
      ],
      "metadata": {
        "id": "yncv5F1rsKph"
      }
    },
    {
      "cell_type": "markdown",
      "source": [
        "#### Exportación de los datos"
      ],
      "metadata": {
        "id": "rz4qIEbIsw--"
      }
    },
    {
      "cell_type": "code",
      "source": [
        "# Exportar a CSV:\n",
        "slabBrasil_df.to_csv('slabBrasil.csv', index=False)"
      ],
      "metadata": {
        "id": "xtMkuC-HtwJd"
      },
      "execution_count": 33,
      "outputs": []
    }
  ]
}