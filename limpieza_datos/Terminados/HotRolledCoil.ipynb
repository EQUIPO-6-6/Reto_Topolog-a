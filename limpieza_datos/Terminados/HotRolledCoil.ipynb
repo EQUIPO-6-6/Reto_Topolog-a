{
  "nbformat": 4,
  "nbformat_minor": 0,
  "metadata": {
    "colab": {
      "provenance": []
    },
    "kernelspec": {
      "name": "python3",
      "display_name": "Python 3"
    },
    "language_info": {
      "name": "python"
    }
  },
  "cells": [
    {
      "cell_type": "markdown",
      "source": [
        "# Etapa 2 - Conociendo los datos\n",
        "## Histórico de Precios: Productos Terminados\n",
        "### Hot Rolled Coil\n",
        "El conjunto de datos corresponde al precio del acero laminado en caliente en bobina (Hot-Rolled Coil, HRC) en el mercado estadounidense, específicamente en la región del Midwest y con condiciones FOB (Free on Board) en molino."
      ],
      "metadata": {
        "id": "dIOgzUGVjCvh"
      }
    },
    {
      "cell_type": "markdown",
      "source": [
        "#### Variables\n",
        "- $Date$: Fecha en que se registró el precio del producto. Es categórica y sus valores posibles están en formato \"d/m/aaaa\", desde el primer registro hasta el presente.\n",
        "- $Low$: Precio más bajo registrado para el producto en la fecha especificada. Es numérica y sus valores posibles están en dólares estadounidenses por quintal (cwt), desde 0 hasta el máximo registrado.\n",
        "- $Mid$: Precio medio registrado para el producto en la fecha especificada. Es numérica y sus valores posibles están en dólares estadounidenses por quintal (cwt), desde 0 hasta el máximo registrado.\n",
        "- $High$: Precio más alto registrado para el producto en la fecha especificada. Es numérica y sus valores posibles están en dólares estadounidenses por quintal (cwt), desde 0 hasta el máximo registrado.\n",
        "- $Mid$ $Change$ $\\%$: Cambio porcentual en el precio medio en comparación con el período anterior (nuevo-anterior)/anterior. Es numérica y sus valores posibles están enre -1 (-100%) y el máximo cambio positivo registrado."
      ],
      "metadata": {
        "id": "jgvK0TmArGxP"
      }
    },
    {
      "cell_type": "markdown",
      "source": [
        "#### Librerías"
      ],
      "metadata": {
        "id": "xe1oKRRgkVcv"
      }
    },
    {
      "cell_type": "code",
      "source": [
        "import pandas as pd # Análisis de datos.\n",
        "import matplotlib.pyplot as plt # Gráficos.\n",
        "import seaborn as sns # Formato de los gráficos."
      ],
      "metadata": {
        "id": "6XO4m0RRa5_K"
      },
      "execution_count": 3,
      "outputs": []
    },
    {
      "cell_type": "markdown",
      "source": [
        "#### Comprensión de los datos"
      ],
      "metadata": {
        "id": "MIc0D_JXtgpt"
      }
    },
    {
      "cell_type": "code",
      "execution_count": 4,
      "metadata": {
        "colab": {
          "base_uri": "https://localhost:8080/",
          "height": 424
        },
        "id": "DLIX0XiXaM3E",
        "outputId": "69b55834-2742-4cff-bd0f-e57ceb68273e"
      },
      "outputs": [
        {
          "output_type": "execute_result",
          "data": {
            "text/plain": [
              "           Date    Low    Mid   High  Mid Change %\n",
              "0     18/3/2025  47.53  47.53  47.53      0.004650\n",
              "1     17/3/2025  47.31  47.31  47.31     -0.010458\n",
              "2     14/3/2025  47.81  47.81  47.81     -0.000836\n",
              "3     13/3/2025  47.85  47.85  47.85      0.006309\n",
              "4     12/3/2025  47.55  47.55  47.55      0.016460\n",
              "...         ...    ...    ...    ...           ...\n",
              "2369   1/5/1970   6.95   6.95   6.95      0.000000\n",
              "2370   1/4/1970   6.95   6.95   6.95      0.000000\n",
              "2371   1/3/1970   6.95   6.95   6.95      0.000000\n",
              "2372   1/2/1970   6.95   6.95   6.95      0.000000\n",
              "2373   1/1/1970   6.95   6.95   6.95      0.029630\n",
              "\n",
              "[2374 rows x 5 columns]"
            ],
            "text/html": [
              "\n",
              "  <div id=\"df-9dd869b5-73a7-416f-a0e3-856a7df17698\" class=\"colab-df-container\">\n",
              "    <div>\n",
              "<style scoped>\n",
              "    .dataframe tbody tr th:only-of-type {\n",
              "        vertical-align: middle;\n",
              "    }\n",
              "\n",
              "    .dataframe tbody tr th {\n",
              "        vertical-align: top;\n",
              "    }\n",
              "\n",
              "    .dataframe thead th {\n",
              "        text-align: right;\n",
              "    }\n",
              "</style>\n",
              "<table border=\"1\" class=\"dataframe\">\n",
              "  <thead>\n",
              "    <tr style=\"text-align: right;\">\n",
              "      <th></th>\n",
              "      <th>Date</th>\n",
              "      <th>Low</th>\n",
              "      <th>Mid</th>\n",
              "      <th>High</th>\n",
              "      <th>Mid Change %</th>\n",
              "    </tr>\n",
              "  </thead>\n",
              "  <tbody>\n",
              "    <tr>\n",
              "      <th>0</th>\n",
              "      <td>18/3/2025</td>\n",
              "      <td>47.53</td>\n",
              "      <td>47.53</td>\n",
              "      <td>47.53</td>\n",
              "      <td>0.004650</td>\n",
              "    </tr>\n",
              "    <tr>\n",
              "      <th>1</th>\n",
              "      <td>17/3/2025</td>\n",
              "      <td>47.31</td>\n",
              "      <td>47.31</td>\n",
              "      <td>47.31</td>\n",
              "      <td>-0.010458</td>\n",
              "    </tr>\n",
              "    <tr>\n",
              "      <th>2</th>\n",
              "      <td>14/3/2025</td>\n",
              "      <td>47.81</td>\n",
              "      <td>47.81</td>\n",
              "      <td>47.81</td>\n",
              "      <td>-0.000836</td>\n",
              "    </tr>\n",
              "    <tr>\n",
              "      <th>3</th>\n",
              "      <td>13/3/2025</td>\n",
              "      <td>47.85</td>\n",
              "      <td>47.85</td>\n",
              "      <td>47.85</td>\n",
              "      <td>0.006309</td>\n",
              "    </tr>\n",
              "    <tr>\n",
              "      <th>4</th>\n",
              "      <td>12/3/2025</td>\n",
              "      <td>47.55</td>\n",
              "      <td>47.55</td>\n",
              "      <td>47.55</td>\n",
              "      <td>0.016460</td>\n",
              "    </tr>\n",
              "    <tr>\n",
              "      <th>...</th>\n",
              "      <td>...</td>\n",
              "      <td>...</td>\n",
              "      <td>...</td>\n",
              "      <td>...</td>\n",
              "      <td>...</td>\n",
              "    </tr>\n",
              "    <tr>\n",
              "      <th>2369</th>\n",
              "      <td>1/5/1970</td>\n",
              "      <td>6.95</td>\n",
              "      <td>6.95</td>\n",
              "      <td>6.95</td>\n",
              "      <td>0.000000</td>\n",
              "    </tr>\n",
              "    <tr>\n",
              "      <th>2370</th>\n",
              "      <td>1/4/1970</td>\n",
              "      <td>6.95</td>\n",
              "      <td>6.95</td>\n",
              "      <td>6.95</td>\n",
              "      <td>0.000000</td>\n",
              "    </tr>\n",
              "    <tr>\n",
              "      <th>2371</th>\n",
              "      <td>1/3/1970</td>\n",
              "      <td>6.95</td>\n",
              "      <td>6.95</td>\n",
              "      <td>6.95</td>\n",
              "      <td>0.000000</td>\n",
              "    </tr>\n",
              "    <tr>\n",
              "      <th>2372</th>\n",
              "      <td>1/2/1970</td>\n",
              "      <td>6.95</td>\n",
              "      <td>6.95</td>\n",
              "      <td>6.95</td>\n",
              "      <td>0.000000</td>\n",
              "    </tr>\n",
              "    <tr>\n",
              "      <th>2373</th>\n",
              "      <td>1/1/1970</td>\n",
              "      <td>6.95</td>\n",
              "      <td>6.95</td>\n",
              "      <td>6.95</td>\n",
              "      <td>0.029630</td>\n",
              "    </tr>\n",
              "  </tbody>\n",
              "</table>\n",
              "<p>2374 rows × 5 columns</p>\n",
              "</div>\n",
              "    <div class=\"colab-df-buttons\">\n",
              "\n",
              "  <div class=\"colab-df-container\">\n",
              "    <button class=\"colab-df-convert\" onclick=\"convertToInteractive('df-9dd869b5-73a7-416f-a0e3-856a7df17698')\"\n",
              "            title=\"Convert this dataframe to an interactive table.\"\n",
              "            style=\"display:none;\">\n",
              "\n",
              "  <svg xmlns=\"http://www.w3.org/2000/svg\" height=\"24px\" viewBox=\"0 -960 960 960\">\n",
              "    <path d=\"M120-120v-720h720v720H120Zm60-500h600v-160H180v160Zm220 220h160v-160H400v160Zm0 220h160v-160H400v160ZM180-400h160v-160H180v160Zm440 0h160v-160H620v160ZM180-180h160v-160H180v160Zm440 0h160v-160H620v160Z\"/>\n",
              "  </svg>\n",
              "    </button>\n",
              "\n",
              "  <style>\n",
              "    .colab-df-container {\n",
              "      display:flex;\n",
              "      gap: 12px;\n",
              "    }\n",
              "\n",
              "    .colab-df-convert {\n",
              "      background-color: #E8F0FE;\n",
              "      border: none;\n",
              "      border-radius: 50%;\n",
              "      cursor: pointer;\n",
              "      display: none;\n",
              "      fill: #1967D2;\n",
              "      height: 32px;\n",
              "      padding: 0 0 0 0;\n",
              "      width: 32px;\n",
              "    }\n",
              "\n",
              "    .colab-df-convert:hover {\n",
              "      background-color: #E2EBFA;\n",
              "      box-shadow: 0px 1px 2px rgba(60, 64, 67, 0.3), 0px 1px 3px 1px rgba(60, 64, 67, 0.15);\n",
              "      fill: #174EA6;\n",
              "    }\n",
              "\n",
              "    .colab-df-buttons div {\n",
              "      margin-bottom: 4px;\n",
              "    }\n",
              "\n",
              "    [theme=dark] .colab-df-convert {\n",
              "      background-color: #3B4455;\n",
              "      fill: #D2E3FC;\n",
              "    }\n",
              "\n",
              "    [theme=dark] .colab-df-convert:hover {\n",
              "      background-color: #434B5C;\n",
              "      box-shadow: 0px 1px 3px 1px rgba(0, 0, 0, 0.15);\n",
              "      filter: drop-shadow(0px 1px 2px rgba(0, 0, 0, 0.3));\n",
              "      fill: #FFFFFF;\n",
              "    }\n",
              "  </style>\n",
              "\n",
              "    <script>\n",
              "      const buttonEl =\n",
              "        document.querySelector('#df-9dd869b5-73a7-416f-a0e3-856a7df17698 button.colab-df-convert');\n",
              "      buttonEl.style.display =\n",
              "        google.colab.kernel.accessAllowed ? 'block' : 'none';\n",
              "\n",
              "      async function convertToInteractive(key) {\n",
              "        const element = document.querySelector('#df-9dd869b5-73a7-416f-a0e3-856a7df17698');\n",
              "        const dataTable =\n",
              "          await google.colab.kernel.invokeFunction('convertToInteractive',\n",
              "                                                    [key], {});\n",
              "        if (!dataTable) return;\n",
              "\n",
              "        const docLinkHtml = 'Like what you see? Visit the ' +\n",
              "          '<a target=\"_blank\" href=https://colab.research.google.com/notebooks/data_table.ipynb>data table notebook</a>'\n",
              "          + ' to learn more about interactive tables.';\n",
              "        element.innerHTML = '';\n",
              "        dataTable['output_type'] = 'display_data';\n",
              "        await google.colab.output.renderOutput(dataTable, element);\n",
              "        const docLink = document.createElement('div');\n",
              "        docLink.innerHTML = docLinkHtml;\n",
              "        element.appendChild(docLink);\n",
              "      }\n",
              "    </script>\n",
              "  </div>\n",
              "\n",
              "\n",
              "    <div id=\"df-a6f7f1d5-6a70-4da1-90cc-550f48fd009b\">\n",
              "      <button class=\"colab-df-quickchart\" onclick=\"quickchart('df-a6f7f1d5-6a70-4da1-90cc-550f48fd009b')\"\n",
              "                title=\"Suggest charts\"\n",
              "                style=\"display:none;\">\n",
              "\n",
              "<svg xmlns=\"http://www.w3.org/2000/svg\" height=\"24px\"viewBox=\"0 0 24 24\"\n",
              "     width=\"24px\">\n",
              "    <g>\n",
              "        <path d=\"M19 3H5c-1.1 0-2 .9-2 2v14c0 1.1.9 2 2 2h14c1.1 0 2-.9 2-2V5c0-1.1-.9-2-2-2zM9 17H7v-7h2v7zm4 0h-2V7h2v10zm4 0h-2v-4h2v4z\"/>\n",
              "    </g>\n",
              "</svg>\n",
              "      </button>\n",
              "\n",
              "<style>\n",
              "  .colab-df-quickchart {\n",
              "      --bg-color: #E8F0FE;\n",
              "      --fill-color: #1967D2;\n",
              "      --hover-bg-color: #E2EBFA;\n",
              "      --hover-fill-color: #174EA6;\n",
              "      --disabled-fill-color: #AAA;\n",
              "      --disabled-bg-color: #DDD;\n",
              "  }\n",
              "\n",
              "  [theme=dark] .colab-df-quickchart {\n",
              "      --bg-color: #3B4455;\n",
              "      --fill-color: #D2E3FC;\n",
              "      --hover-bg-color: #434B5C;\n",
              "      --hover-fill-color: #FFFFFF;\n",
              "      --disabled-bg-color: #3B4455;\n",
              "      --disabled-fill-color: #666;\n",
              "  }\n",
              "\n",
              "  .colab-df-quickchart {\n",
              "    background-color: var(--bg-color);\n",
              "    border: none;\n",
              "    border-radius: 50%;\n",
              "    cursor: pointer;\n",
              "    display: none;\n",
              "    fill: var(--fill-color);\n",
              "    height: 32px;\n",
              "    padding: 0;\n",
              "    width: 32px;\n",
              "  }\n",
              "\n",
              "  .colab-df-quickchart:hover {\n",
              "    background-color: var(--hover-bg-color);\n",
              "    box-shadow: 0 1px 2px rgba(60, 64, 67, 0.3), 0 1px 3px 1px rgba(60, 64, 67, 0.15);\n",
              "    fill: var(--button-hover-fill-color);\n",
              "  }\n",
              "\n",
              "  .colab-df-quickchart-complete:disabled,\n",
              "  .colab-df-quickchart-complete:disabled:hover {\n",
              "    background-color: var(--disabled-bg-color);\n",
              "    fill: var(--disabled-fill-color);\n",
              "    box-shadow: none;\n",
              "  }\n",
              "\n",
              "  .colab-df-spinner {\n",
              "    border: 2px solid var(--fill-color);\n",
              "    border-color: transparent;\n",
              "    border-bottom-color: var(--fill-color);\n",
              "    animation:\n",
              "      spin 1s steps(1) infinite;\n",
              "  }\n",
              "\n",
              "  @keyframes spin {\n",
              "    0% {\n",
              "      border-color: transparent;\n",
              "      border-bottom-color: var(--fill-color);\n",
              "      border-left-color: var(--fill-color);\n",
              "    }\n",
              "    20% {\n",
              "      border-color: transparent;\n",
              "      border-left-color: var(--fill-color);\n",
              "      border-top-color: var(--fill-color);\n",
              "    }\n",
              "    30% {\n",
              "      border-color: transparent;\n",
              "      border-left-color: var(--fill-color);\n",
              "      border-top-color: var(--fill-color);\n",
              "      border-right-color: var(--fill-color);\n",
              "    }\n",
              "    40% {\n",
              "      border-color: transparent;\n",
              "      border-right-color: var(--fill-color);\n",
              "      border-top-color: var(--fill-color);\n",
              "    }\n",
              "    60% {\n",
              "      border-color: transparent;\n",
              "      border-right-color: var(--fill-color);\n",
              "    }\n",
              "    80% {\n",
              "      border-color: transparent;\n",
              "      border-right-color: var(--fill-color);\n",
              "      border-bottom-color: var(--fill-color);\n",
              "    }\n",
              "    90% {\n",
              "      border-color: transparent;\n",
              "      border-bottom-color: var(--fill-color);\n",
              "    }\n",
              "  }\n",
              "</style>\n",
              "\n",
              "      <script>\n",
              "        async function quickchart(key) {\n",
              "          const quickchartButtonEl =\n",
              "            document.querySelector('#' + key + ' button');\n",
              "          quickchartButtonEl.disabled = true;  // To prevent multiple clicks.\n",
              "          quickchartButtonEl.classList.add('colab-df-spinner');\n",
              "          try {\n",
              "            const charts = await google.colab.kernel.invokeFunction(\n",
              "                'suggestCharts', [key], {});\n",
              "          } catch (error) {\n",
              "            console.error('Error during call to suggestCharts:', error);\n",
              "          }\n",
              "          quickchartButtonEl.classList.remove('colab-df-spinner');\n",
              "          quickchartButtonEl.classList.add('colab-df-quickchart-complete');\n",
              "        }\n",
              "        (() => {\n",
              "          let quickchartButtonEl =\n",
              "            document.querySelector('#df-a6f7f1d5-6a70-4da1-90cc-550f48fd009b button');\n",
              "          quickchartButtonEl.style.display =\n",
              "            google.colab.kernel.accessAllowed ? 'block' : 'none';\n",
              "        })();\n",
              "      </script>\n",
              "    </div>\n",
              "\n",
              "  <div id=\"id_e903c9b0-6f71-41e7-acca-699e918994ae\">\n",
              "    <style>\n",
              "      .colab-df-generate {\n",
              "        background-color: #E8F0FE;\n",
              "        border: none;\n",
              "        border-radius: 50%;\n",
              "        cursor: pointer;\n",
              "        display: none;\n",
              "        fill: #1967D2;\n",
              "        height: 32px;\n",
              "        padding: 0 0 0 0;\n",
              "        width: 32px;\n",
              "      }\n",
              "\n",
              "      .colab-df-generate:hover {\n",
              "        background-color: #E2EBFA;\n",
              "        box-shadow: 0px 1px 2px rgba(60, 64, 67, 0.3), 0px 1px 3px 1px rgba(60, 64, 67, 0.15);\n",
              "        fill: #174EA6;\n",
              "      }\n",
              "\n",
              "      [theme=dark] .colab-df-generate {\n",
              "        background-color: #3B4455;\n",
              "        fill: #D2E3FC;\n",
              "      }\n",
              "\n",
              "      [theme=dark] .colab-df-generate:hover {\n",
              "        background-color: #434B5C;\n",
              "        box-shadow: 0px 1px 3px 1px rgba(0, 0, 0, 0.15);\n",
              "        filter: drop-shadow(0px 1px 2px rgba(0, 0, 0, 0.3));\n",
              "        fill: #FFFFFF;\n",
              "      }\n",
              "    </style>\n",
              "    <button class=\"colab-df-generate\" onclick=\"generateWithVariable('hotRolledCoil_df')\"\n",
              "            title=\"Generate code using this dataframe.\"\n",
              "            style=\"display:none;\">\n",
              "\n",
              "  <svg xmlns=\"http://www.w3.org/2000/svg\" height=\"24px\"viewBox=\"0 0 24 24\"\n",
              "       width=\"24px\">\n",
              "    <path d=\"M7,19H8.4L18.45,9,17,7.55,7,17.6ZM5,21V16.75L18.45,3.32a2,2,0,0,1,2.83,0l1.4,1.43a1.91,1.91,0,0,1,.58,1.4,1.91,1.91,0,0,1-.58,1.4L9.25,21ZM18.45,9,17,7.55Zm-12,3A5.31,5.31,0,0,0,4.9,8.1,5.31,5.31,0,0,0,1,6.5,5.31,5.31,0,0,0,4.9,4.9,5.31,5.31,0,0,0,6.5,1,5.31,5.31,0,0,0,8.1,4.9,5.31,5.31,0,0,0,12,6.5,5.46,5.46,0,0,0,6.5,12Z\"/>\n",
              "  </svg>\n",
              "    </button>\n",
              "    <script>\n",
              "      (() => {\n",
              "      const buttonEl =\n",
              "        document.querySelector('#id_e903c9b0-6f71-41e7-acca-699e918994ae button.colab-df-generate');\n",
              "      buttonEl.style.display =\n",
              "        google.colab.kernel.accessAllowed ? 'block' : 'none';\n",
              "\n",
              "      buttonEl.onclick = () => {\n",
              "        google.colab.notebook.generateWithVariable('hotRolledCoil_df');\n",
              "      }\n",
              "      })();\n",
              "    </script>\n",
              "  </div>\n",
              "\n",
              "    </div>\n",
              "  </div>\n"
            ],
            "application/vnd.google.colaboratory.intrinsic+json": {
              "type": "dataframe",
              "variable_name": "hotRolledCoil_df",
              "summary": "{\n  \"name\": \"hotRolledCoil_df\",\n  \"rows\": 2374,\n  \"fields\": [\n    {\n      \"column\": \"Date\",\n      \"properties\": {\n        \"dtype\": \"object\",\n        \"num_unique_values\": 2374,\n        \"samples\": [\n          \"2/9/1999\",\n          \"22/5/2014\",\n          \"21/10/2024\"\n        ],\n        \"semantic_type\": \"\",\n        \"description\": \"\"\n      }\n    },\n    {\n      \"column\": \"Low\",\n      \"properties\": {\n        \"dtype\": \"number\",\n        \"std\": 19.39477098921696,\n        \"min\": 6.95,\n        \"max\": 98.25,\n        \"num_unique_values\": 1383,\n        \"samples\": [\n          24.15,\n          54.42,\n          39.01\n        ],\n        \"semantic_type\": \"\",\n        \"description\": \"\"\n      }\n    },\n    {\n      \"column\": \"Mid\",\n      \"properties\": {\n        \"dtype\": \"number\",\n        \"std\": 19.39477098921696,\n        \"min\": 6.95,\n        \"max\": 98.25,\n        \"num_unique_values\": 1383,\n        \"samples\": [\n          24.15,\n          54.42,\n          39.01\n        ],\n        \"semantic_type\": \"\",\n        \"description\": \"\"\n      }\n    },\n    {\n      \"column\": \"High\",\n      \"properties\": {\n        \"dtype\": \"number\",\n        \"std\": 19.39477098921696,\n        \"min\": 6.95,\n        \"max\": 98.25,\n        \"num_unique_values\": 1383,\n        \"samples\": [\n          24.15,\n          54.42,\n          39.01\n        ],\n        \"semantic_type\": \"\",\n        \"description\": \"\"\n      }\n    },\n    {\n      \"column\": \"Mid Change %\",\n      \"properties\": {\n        \"dtype\": \"number\",\n        \"std\": 0.02734358898067872,\n        \"min\": -0.30303,\n        \"max\": 0.25,\n        \"num_unique_values\": 1880,\n        \"samples\": [\n          0.012012,\n          0.005262,\n          0.013307\n        ],\n        \"semantic_type\": \"\",\n        \"description\": \"\"\n      }\n    }\n  ]\n}"
            }
          },
          "metadata": {},
          "execution_count": 4
        }
      ],
      "source": [
        "# Leer el archivo Excel:\n",
        "hotRolledCoil_df = pd.read_excel('COPYOF~1-2.XLS',\n",
        "  skiprows=9, nrows=2384-9, engine='openpyxl')\n",
        "\n",
        "# Mostrar las primeras filas del DataFrame:\n",
        "hotRolledCoil_df"
      ]
    },
    {
      "cell_type": "markdown",
      "source": [
        "Son 2374 filas y 5 columnas."
      ],
      "metadata": {
        "id": "Z19EU581lEra"
      }
    },
    {
      "cell_type": "markdown",
      "source": [
        "Se agruparán los datos anteriores por mes, y se quitará la columna de 'Mid Change %', pues no es de interés para los objetivos de nuestro proyecto. De las demás columnas se obtendrá un promedio mensual."
      ],
      "metadata": {
        "id": "3ShwuKlLkajD"
      }
    },
    {
      "cell_type": "code",
      "source": [
        "# Convertir la columna 'Date' a tipo datetime, considerando el formato d/m/aaaa:\n",
        "hotRolledCoil_df['Date'] = pd.to_datetime(hotRolledCoil_df['Date'], dayfirst=True)\n",
        "\n",
        "# Establecer 'Date' como índice:\n",
        "hotRolledCoil_df.set_index('Date', inplace=True)\n",
        "\n",
        "# Re-muestrear los datos a nivel mensual y obtener el promedio de las columnas 'Low', 'Mid' y 'High':\n",
        "hotRolledCoil_df = hotRolledCoil_df.resample('M')[['Low', 'Mid', 'High']].mean()\n",
        "\n",
        "# Opcional: Reiniciar el índice para tener 'Date' como columna nuevamente:\n",
        "hotRolledCoil_df = hotRolledCoil_df.reset_index()\n",
        "\n",
        "# Formatear la columna 'Date' para mostrar 'NombreMes Año':\n",
        "hotRolledCoil_df['Date'] = hotRolledCoil_df['Date'].dt.strftime('%B %Y')\n",
        "\n",
        "# Mostrar el DataFrame resultante:\n",
        "hotRolledCoil_df"
      ],
      "metadata": {
        "colab": {
          "base_uri": "https://localhost:8080/",
          "height": 460
        },
        "id": "QEk35dPscLt9",
        "outputId": "40359777-b936-4c3f-9a9d-051e130803c3"
      },
      "execution_count": 5,
      "outputs": [
        {
          "output_type": "stream",
          "name": "stderr",
          "text": [
            "<ipython-input-5-7c3d43e0cece>:8: FutureWarning: 'M' is deprecated and will be removed in a future version, please use 'ME' instead.\n",
            "  hotRolledCoil_df = hotRolledCoil_df.resample('M')[['Low', 'Mid', 'High']].mean()\n"
          ]
        },
        {
          "output_type": "execute_result",
          "data": {
            "text/plain": [
              "              Date        Low        Mid       High\n",
              "0     January 1970   6.950000   6.950000   6.950000\n",
              "1    February 1970   6.950000   6.950000   6.950000\n",
              "2       March 1970   6.950000   6.950000   6.950000\n",
              "3       April 1970   6.950000   6.950000   6.950000\n",
              "4         May 1970   6.950000   6.950000   6.950000\n",
              "..             ...        ...        ...        ...\n",
              "658  November 2024  34.698421  34.698421  34.698421\n",
              "659  December 2024  34.510952  34.510952  34.510952\n",
              "660   January 2025  35.323333  35.323333  35.323333\n",
              "661  February 2025  40.342105  40.342105  40.342105\n",
              "662     March 2025  46.461667  46.461667  46.461667\n",
              "\n",
              "[663 rows x 4 columns]"
            ],
            "text/html": [
              "\n",
              "  <div id=\"df-728e1b47-32d3-41ad-84f1-57460c5387b0\" class=\"colab-df-container\">\n",
              "    <div>\n",
              "<style scoped>\n",
              "    .dataframe tbody tr th:only-of-type {\n",
              "        vertical-align: middle;\n",
              "    }\n",
              "\n",
              "    .dataframe tbody tr th {\n",
              "        vertical-align: top;\n",
              "    }\n",
              "\n",
              "    .dataframe thead th {\n",
              "        text-align: right;\n",
              "    }\n",
              "</style>\n",
              "<table border=\"1\" class=\"dataframe\">\n",
              "  <thead>\n",
              "    <tr style=\"text-align: right;\">\n",
              "      <th></th>\n",
              "      <th>Date</th>\n",
              "      <th>Low</th>\n",
              "      <th>Mid</th>\n",
              "      <th>High</th>\n",
              "    </tr>\n",
              "  </thead>\n",
              "  <tbody>\n",
              "    <tr>\n",
              "      <th>0</th>\n",
              "      <td>January 1970</td>\n",
              "      <td>6.950000</td>\n",
              "      <td>6.950000</td>\n",
              "      <td>6.950000</td>\n",
              "    </tr>\n",
              "    <tr>\n",
              "      <th>1</th>\n",
              "      <td>February 1970</td>\n",
              "      <td>6.950000</td>\n",
              "      <td>6.950000</td>\n",
              "      <td>6.950000</td>\n",
              "    </tr>\n",
              "    <tr>\n",
              "      <th>2</th>\n",
              "      <td>March 1970</td>\n",
              "      <td>6.950000</td>\n",
              "      <td>6.950000</td>\n",
              "      <td>6.950000</td>\n",
              "    </tr>\n",
              "    <tr>\n",
              "      <th>3</th>\n",
              "      <td>April 1970</td>\n",
              "      <td>6.950000</td>\n",
              "      <td>6.950000</td>\n",
              "      <td>6.950000</td>\n",
              "    </tr>\n",
              "    <tr>\n",
              "      <th>4</th>\n",
              "      <td>May 1970</td>\n",
              "      <td>6.950000</td>\n",
              "      <td>6.950000</td>\n",
              "      <td>6.950000</td>\n",
              "    </tr>\n",
              "    <tr>\n",
              "      <th>...</th>\n",
              "      <td>...</td>\n",
              "      <td>...</td>\n",
              "      <td>...</td>\n",
              "      <td>...</td>\n",
              "    </tr>\n",
              "    <tr>\n",
              "      <th>658</th>\n",
              "      <td>November 2024</td>\n",
              "      <td>34.698421</td>\n",
              "      <td>34.698421</td>\n",
              "      <td>34.698421</td>\n",
              "    </tr>\n",
              "    <tr>\n",
              "      <th>659</th>\n",
              "      <td>December 2024</td>\n",
              "      <td>34.510952</td>\n",
              "      <td>34.510952</td>\n",
              "      <td>34.510952</td>\n",
              "    </tr>\n",
              "    <tr>\n",
              "      <th>660</th>\n",
              "      <td>January 2025</td>\n",
              "      <td>35.323333</td>\n",
              "      <td>35.323333</td>\n",
              "      <td>35.323333</td>\n",
              "    </tr>\n",
              "    <tr>\n",
              "      <th>661</th>\n",
              "      <td>February 2025</td>\n",
              "      <td>40.342105</td>\n",
              "      <td>40.342105</td>\n",
              "      <td>40.342105</td>\n",
              "    </tr>\n",
              "    <tr>\n",
              "      <th>662</th>\n",
              "      <td>March 2025</td>\n",
              "      <td>46.461667</td>\n",
              "      <td>46.461667</td>\n",
              "      <td>46.461667</td>\n",
              "    </tr>\n",
              "  </tbody>\n",
              "</table>\n",
              "<p>663 rows × 4 columns</p>\n",
              "</div>\n",
              "    <div class=\"colab-df-buttons\">\n",
              "\n",
              "  <div class=\"colab-df-container\">\n",
              "    <button class=\"colab-df-convert\" onclick=\"convertToInteractive('df-728e1b47-32d3-41ad-84f1-57460c5387b0')\"\n",
              "            title=\"Convert this dataframe to an interactive table.\"\n",
              "            style=\"display:none;\">\n",
              "\n",
              "  <svg xmlns=\"http://www.w3.org/2000/svg\" height=\"24px\" viewBox=\"0 -960 960 960\">\n",
              "    <path d=\"M120-120v-720h720v720H120Zm60-500h600v-160H180v160Zm220 220h160v-160H400v160Zm0 220h160v-160H400v160ZM180-400h160v-160H180v160Zm440 0h160v-160H620v160ZM180-180h160v-160H180v160Zm440 0h160v-160H620v160Z\"/>\n",
              "  </svg>\n",
              "    </button>\n",
              "\n",
              "  <style>\n",
              "    .colab-df-container {\n",
              "      display:flex;\n",
              "      gap: 12px;\n",
              "    }\n",
              "\n",
              "    .colab-df-convert {\n",
              "      background-color: #E8F0FE;\n",
              "      border: none;\n",
              "      border-radius: 50%;\n",
              "      cursor: pointer;\n",
              "      display: none;\n",
              "      fill: #1967D2;\n",
              "      height: 32px;\n",
              "      padding: 0 0 0 0;\n",
              "      width: 32px;\n",
              "    }\n",
              "\n",
              "    .colab-df-convert:hover {\n",
              "      background-color: #E2EBFA;\n",
              "      box-shadow: 0px 1px 2px rgba(60, 64, 67, 0.3), 0px 1px 3px 1px rgba(60, 64, 67, 0.15);\n",
              "      fill: #174EA6;\n",
              "    }\n",
              "\n",
              "    .colab-df-buttons div {\n",
              "      margin-bottom: 4px;\n",
              "    }\n",
              "\n",
              "    [theme=dark] .colab-df-convert {\n",
              "      background-color: #3B4455;\n",
              "      fill: #D2E3FC;\n",
              "    }\n",
              "\n",
              "    [theme=dark] .colab-df-convert:hover {\n",
              "      background-color: #434B5C;\n",
              "      box-shadow: 0px 1px 3px 1px rgba(0, 0, 0, 0.15);\n",
              "      filter: drop-shadow(0px 1px 2px rgba(0, 0, 0, 0.3));\n",
              "      fill: #FFFFFF;\n",
              "    }\n",
              "  </style>\n",
              "\n",
              "    <script>\n",
              "      const buttonEl =\n",
              "        document.querySelector('#df-728e1b47-32d3-41ad-84f1-57460c5387b0 button.colab-df-convert');\n",
              "      buttonEl.style.display =\n",
              "        google.colab.kernel.accessAllowed ? 'block' : 'none';\n",
              "\n",
              "      async function convertToInteractive(key) {\n",
              "        const element = document.querySelector('#df-728e1b47-32d3-41ad-84f1-57460c5387b0');\n",
              "        const dataTable =\n",
              "          await google.colab.kernel.invokeFunction('convertToInteractive',\n",
              "                                                    [key], {});\n",
              "        if (!dataTable) return;\n",
              "\n",
              "        const docLinkHtml = 'Like what you see? Visit the ' +\n",
              "          '<a target=\"_blank\" href=https://colab.research.google.com/notebooks/data_table.ipynb>data table notebook</a>'\n",
              "          + ' to learn more about interactive tables.';\n",
              "        element.innerHTML = '';\n",
              "        dataTable['output_type'] = 'display_data';\n",
              "        await google.colab.output.renderOutput(dataTable, element);\n",
              "        const docLink = document.createElement('div');\n",
              "        docLink.innerHTML = docLinkHtml;\n",
              "        element.appendChild(docLink);\n",
              "      }\n",
              "    </script>\n",
              "  </div>\n",
              "\n",
              "\n",
              "    <div id=\"df-117f3aab-b029-483b-9f21-f87cd3e67787\">\n",
              "      <button class=\"colab-df-quickchart\" onclick=\"quickchart('df-117f3aab-b029-483b-9f21-f87cd3e67787')\"\n",
              "                title=\"Suggest charts\"\n",
              "                style=\"display:none;\">\n",
              "\n",
              "<svg xmlns=\"http://www.w3.org/2000/svg\" height=\"24px\"viewBox=\"0 0 24 24\"\n",
              "     width=\"24px\">\n",
              "    <g>\n",
              "        <path d=\"M19 3H5c-1.1 0-2 .9-2 2v14c0 1.1.9 2 2 2h14c1.1 0 2-.9 2-2V5c0-1.1-.9-2-2-2zM9 17H7v-7h2v7zm4 0h-2V7h2v10zm4 0h-2v-4h2v4z\"/>\n",
              "    </g>\n",
              "</svg>\n",
              "      </button>\n",
              "\n",
              "<style>\n",
              "  .colab-df-quickchart {\n",
              "      --bg-color: #E8F0FE;\n",
              "      --fill-color: #1967D2;\n",
              "      --hover-bg-color: #E2EBFA;\n",
              "      --hover-fill-color: #174EA6;\n",
              "      --disabled-fill-color: #AAA;\n",
              "      --disabled-bg-color: #DDD;\n",
              "  }\n",
              "\n",
              "  [theme=dark] .colab-df-quickchart {\n",
              "      --bg-color: #3B4455;\n",
              "      --fill-color: #D2E3FC;\n",
              "      --hover-bg-color: #434B5C;\n",
              "      --hover-fill-color: #FFFFFF;\n",
              "      --disabled-bg-color: #3B4455;\n",
              "      --disabled-fill-color: #666;\n",
              "  }\n",
              "\n",
              "  .colab-df-quickchart {\n",
              "    background-color: var(--bg-color);\n",
              "    border: none;\n",
              "    border-radius: 50%;\n",
              "    cursor: pointer;\n",
              "    display: none;\n",
              "    fill: var(--fill-color);\n",
              "    height: 32px;\n",
              "    padding: 0;\n",
              "    width: 32px;\n",
              "  }\n",
              "\n",
              "  .colab-df-quickchart:hover {\n",
              "    background-color: var(--hover-bg-color);\n",
              "    box-shadow: 0 1px 2px rgba(60, 64, 67, 0.3), 0 1px 3px 1px rgba(60, 64, 67, 0.15);\n",
              "    fill: var(--button-hover-fill-color);\n",
              "  }\n",
              "\n",
              "  .colab-df-quickchart-complete:disabled,\n",
              "  .colab-df-quickchart-complete:disabled:hover {\n",
              "    background-color: var(--disabled-bg-color);\n",
              "    fill: var(--disabled-fill-color);\n",
              "    box-shadow: none;\n",
              "  }\n",
              "\n",
              "  .colab-df-spinner {\n",
              "    border: 2px solid var(--fill-color);\n",
              "    border-color: transparent;\n",
              "    border-bottom-color: var(--fill-color);\n",
              "    animation:\n",
              "      spin 1s steps(1) infinite;\n",
              "  }\n",
              "\n",
              "  @keyframes spin {\n",
              "    0% {\n",
              "      border-color: transparent;\n",
              "      border-bottom-color: var(--fill-color);\n",
              "      border-left-color: var(--fill-color);\n",
              "    }\n",
              "    20% {\n",
              "      border-color: transparent;\n",
              "      border-left-color: var(--fill-color);\n",
              "      border-top-color: var(--fill-color);\n",
              "    }\n",
              "    30% {\n",
              "      border-color: transparent;\n",
              "      border-left-color: var(--fill-color);\n",
              "      border-top-color: var(--fill-color);\n",
              "      border-right-color: var(--fill-color);\n",
              "    }\n",
              "    40% {\n",
              "      border-color: transparent;\n",
              "      border-right-color: var(--fill-color);\n",
              "      border-top-color: var(--fill-color);\n",
              "    }\n",
              "    60% {\n",
              "      border-color: transparent;\n",
              "      border-right-color: var(--fill-color);\n",
              "    }\n",
              "    80% {\n",
              "      border-color: transparent;\n",
              "      border-right-color: var(--fill-color);\n",
              "      border-bottom-color: var(--fill-color);\n",
              "    }\n",
              "    90% {\n",
              "      border-color: transparent;\n",
              "      border-bottom-color: var(--fill-color);\n",
              "    }\n",
              "  }\n",
              "</style>\n",
              "\n",
              "      <script>\n",
              "        async function quickchart(key) {\n",
              "          const quickchartButtonEl =\n",
              "            document.querySelector('#' + key + ' button');\n",
              "          quickchartButtonEl.disabled = true;  // To prevent multiple clicks.\n",
              "          quickchartButtonEl.classList.add('colab-df-spinner');\n",
              "          try {\n",
              "            const charts = await google.colab.kernel.invokeFunction(\n",
              "                'suggestCharts', [key], {});\n",
              "          } catch (error) {\n",
              "            console.error('Error during call to suggestCharts:', error);\n",
              "          }\n",
              "          quickchartButtonEl.classList.remove('colab-df-spinner');\n",
              "          quickchartButtonEl.classList.add('colab-df-quickchart-complete');\n",
              "        }\n",
              "        (() => {\n",
              "          let quickchartButtonEl =\n",
              "            document.querySelector('#df-117f3aab-b029-483b-9f21-f87cd3e67787 button');\n",
              "          quickchartButtonEl.style.display =\n",
              "            google.colab.kernel.accessAllowed ? 'block' : 'none';\n",
              "        })();\n",
              "      </script>\n",
              "    </div>\n",
              "\n",
              "  <div id=\"id_6be74eaa-e808-45bb-960b-0e2212d7f860\">\n",
              "    <style>\n",
              "      .colab-df-generate {\n",
              "        background-color: #E8F0FE;\n",
              "        border: none;\n",
              "        border-radius: 50%;\n",
              "        cursor: pointer;\n",
              "        display: none;\n",
              "        fill: #1967D2;\n",
              "        height: 32px;\n",
              "        padding: 0 0 0 0;\n",
              "        width: 32px;\n",
              "      }\n",
              "\n",
              "      .colab-df-generate:hover {\n",
              "        background-color: #E2EBFA;\n",
              "        box-shadow: 0px 1px 2px rgba(60, 64, 67, 0.3), 0px 1px 3px 1px rgba(60, 64, 67, 0.15);\n",
              "        fill: #174EA6;\n",
              "      }\n",
              "\n",
              "      [theme=dark] .colab-df-generate {\n",
              "        background-color: #3B4455;\n",
              "        fill: #D2E3FC;\n",
              "      }\n",
              "\n",
              "      [theme=dark] .colab-df-generate:hover {\n",
              "        background-color: #434B5C;\n",
              "        box-shadow: 0px 1px 3px 1px rgba(0, 0, 0, 0.15);\n",
              "        filter: drop-shadow(0px 1px 2px rgba(0, 0, 0, 0.3));\n",
              "        fill: #FFFFFF;\n",
              "      }\n",
              "    </style>\n",
              "    <button class=\"colab-df-generate\" onclick=\"generateWithVariable('hotRolledCoil_df')\"\n",
              "            title=\"Generate code using this dataframe.\"\n",
              "            style=\"display:none;\">\n",
              "\n",
              "  <svg xmlns=\"http://www.w3.org/2000/svg\" height=\"24px\"viewBox=\"0 0 24 24\"\n",
              "       width=\"24px\">\n",
              "    <path d=\"M7,19H8.4L18.45,9,17,7.55,7,17.6ZM5,21V16.75L18.45,3.32a2,2,0,0,1,2.83,0l1.4,1.43a1.91,1.91,0,0,1,.58,1.4,1.91,1.91,0,0,1-.58,1.4L9.25,21ZM18.45,9,17,7.55Zm-12,3A5.31,5.31,0,0,0,4.9,8.1,5.31,5.31,0,0,0,1,6.5,5.31,5.31,0,0,0,4.9,4.9,5.31,5.31,0,0,0,6.5,1,5.31,5.31,0,0,0,8.1,4.9,5.31,5.31,0,0,0,12,6.5,5.46,5.46,0,0,0,6.5,12Z\"/>\n",
              "  </svg>\n",
              "    </button>\n",
              "    <script>\n",
              "      (() => {\n",
              "      const buttonEl =\n",
              "        document.querySelector('#id_6be74eaa-e808-45bb-960b-0e2212d7f860 button.colab-df-generate');\n",
              "      buttonEl.style.display =\n",
              "        google.colab.kernel.accessAllowed ? 'block' : 'none';\n",
              "\n",
              "      buttonEl.onclick = () => {\n",
              "        google.colab.notebook.generateWithVariable('hotRolledCoil_df');\n",
              "      }\n",
              "      })();\n",
              "    </script>\n",
              "  </div>\n",
              "\n",
              "    </div>\n",
              "  </div>\n"
            ],
            "application/vnd.google.colaboratory.intrinsic+json": {
              "type": "dataframe",
              "variable_name": "hotRolledCoil_df",
              "summary": "{\n  \"name\": \"hotRolledCoil_df\",\n  \"rows\": 663,\n  \"fields\": [\n    {\n      \"column\": \"Date\",\n      \"properties\": {\n        \"dtype\": \"object\",\n        \"num_unique_values\": 663,\n        \"samples\": [\n          \"April 1997\",\n          \"April 2018\",\n          \"October 2012\"\n        ],\n        \"semantic_type\": \"\",\n        \"description\": \"\"\n      }\n    },\n    {\n      \"column\": \"Low\",\n      \"properties\": {\n        \"dtype\": \"number\",\n        \"std\": 13.473844598805123,\n        \"min\": 6.95,\n        \"max\": 97.46095238095238,\n        \"num_unique_values\": 260,\n        \"samples\": [\n          22.05,\n          41.705,\n          63.20434782608696\n        ],\n        \"semantic_type\": \"\",\n        \"description\": \"\"\n      }\n    },\n    {\n      \"column\": \"Mid\",\n      \"properties\": {\n        \"dtype\": \"number\",\n        \"std\": 13.473844598805123,\n        \"min\": 6.95,\n        \"max\": 97.46095238095238,\n        \"num_unique_values\": 260,\n        \"samples\": [\n          22.05,\n          41.705,\n          63.20434782608696\n        ],\n        \"semantic_type\": \"\",\n        \"description\": \"\"\n      }\n    },\n    {\n      \"column\": \"High\",\n      \"properties\": {\n        \"dtype\": \"number\",\n        \"std\": 13.473844598805123,\n        \"min\": 6.95,\n        \"max\": 97.46095238095238,\n        \"num_unique_values\": 260,\n        \"samples\": [\n          22.05,\n          41.705,\n          63.20434782608696\n        ],\n        \"semantic_type\": \"\",\n        \"description\": \"\"\n      }\n    }\n  ]\n}"
            }
          },
          "metadata": {},
          "execution_count": 5
        }
      ]
    },
    {
      "cell_type": "markdown",
      "source": [
        "Ahora son 663 filas y 4 columnas."
      ],
      "metadata": {
        "id": "5p0Kmf8mlIrC"
      }
    },
    {
      "cell_type": "markdown",
      "source": [
        "#### Calidad de los datos"
      ],
      "metadata": {
        "id": "JGMP9n3LfBnd"
      }
    },
    {
      "cell_type": "code",
      "source": [
        "# Contar datos nulos de cada columna:\n",
        "valores_nulos_por_columna = hotRolledCoil_df.isnull().sum()\n",
        "valores_nulos_por_columna.name = 'Valores Nulos'\n",
        "valores_nulos_por_columna"
      ],
      "metadata": {
        "colab": {
          "base_uri": "https://localhost:8080/",
          "height": 210
        },
        "id": "TM2SbdogfC5Q",
        "outputId": "3c07e9e9-65ac-440e-c535-d38f81895f6c"
      },
      "execution_count": 6,
      "outputs": [
        {
          "output_type": "execute_result",
          "data": {
            "text/plain": [
              "Date     0\n",
              "Low     86\n",
              "Mid     86\n",
              "High    86\n",
              "Name: Valores Nulos, dtype: int64"
            ],
            "text/html": [
              "<div>\n",
              "<style scoped>\n",
              "    .dataframe tbody tr th:only-of-type {\n",
              "        vertical-align: middle;\n",
              "    }\n",
              "\n",
              "    .dataframe tbody tr th {\n",
              "        vertical-align: top;\n",
              "    }\n",
              "\n",
              "    .dataframe thead th {\n",
              "        text-align: right;\n",
              "    }\n",
              "</style>\n",
              "<table border=\"1\" class=\"dataframe\">\n",
              "  <thead>\n",
              "    <tr style=\"text-align: right;\">\n",
              "      <th></th>\n",
              "      <th>Valores Nulos</th>\n",
              "    </tr>\n",
              "  </thead>\n",
              "  <tbody>\n",
              "    <tr>\n",
              "      <th>Date</th>\n",
              "      <td>0</td>\n",
              "    </tr>\n",
              "    <tr>\n",
              "      <th>Low</th>\n",
              "      <td>86</td>\n",
              "    </tr>\n",
              "    <tr>\n",
              "      <th>Mid</th>\n",
              "      <td>86</td>\n",
              "    </tr>\n",
              "    <tr>\n",
              "      <th>High</th>\n",
              "      <td>86</td>\n",
              "    </tr>\n",
              "  </tbody>\n",
              "</table>\n",
              "</div><br><label><b>dtype:</b> int64</label>"
            ]
          },
          "metadata": {},
          "execution_count": 6
        }
      ]
    },
    {
      "cell_type": "markdown",
      "source": [
        "Los valores nulos se dan porque hay meses en el dataframe original en los que no hay cambio de precio, se hará una interpolación del último dato no nulo anterior y el primer dato no nulo posterior."
      ],
      "metadata": {
        "id": "VwikOsuxfKXw"
      }
    },
    {
      "cell_type": "code",
      "source": [
        "# Aplicar la interpolación lineal a las columnas 'Low', 'Mid' y 'High':\n",
        "hotRolledCoil_df[['Low', 'Mid', 'High']] = hotRolledCoil_df[['Low', 'Mid', 'High']].interpolate(method='linear', limit_direction='both')"
      ],
      "metadata": {
        "id": "Qev2MU8j8S9F"
      },
      "execution_count": 7,
      "outputs": []
    },
    {
      "cell_type": "code",
      "source": [
        "valores_nulos_por_columna = hotRolledCoil_df.isnull().sum()\n",
        "valores_nulos_por_columna.name = 'Valores Nulos'\n",
        "valores_nulos_por_columna"
      ],
      "metadata": {
        "colab": {
          "base_uri": "https://localhost:8080/",
          "height": 210
        },
        "id": "YNjgqdVn8YSV",
        "outputId": "decf7d42-d3e0-4e90-e5fd-1c25ff537e2c"
      },
      "execution_count": 8,
      "outputs": [
        {
          "output_type": "execute_result",
          "data": {
            "text/plain": [
              "Date    0\n",
              "Low     0\n",
              "Mid     0\n",
              "High    0\n",
              "Name: Valores Nulos, dtype: int64"
            ],
            "text/html": [
              "<div>\n",
              "<style scoped>\n",
              "    .dataframe tbody tr th:only-of-type {\n",
              "        vertical-align: middle;\n",
              "    }\n",
              "\n",
              "    .dataframe tbody tr th {\n",
              "        vertical-align: top;\n",
              "    }\n",
              "\n",
              "    .dataframe thead th {\n",
              "        text-align: right;\n",
              "    }\n",
              "</style>\n",
              "<table border=\"1\" class=\"dataframe\">\n",
              "  <thead>\n",
              "    <tr style=\"text-align: right;\">\n",
              "      <th></th>\n",
              "      <th>Valores Nulos</th>\n",
              "    </tr>\n",
              "  </thead>\n",
              "  <tbody>\n",
              "    <tr>\n",
              "      <th>Date</th>\n",
              "      <td>0</td>\n",
              "    </tr>\n",
              "    <tr>\n",
              "      <th>Low</th>\n",
              "      <td>0</td>\n",
              "    </tr>\n",
              "    <tr>\n",
              "      <th>Mid</th>\n",
              "      <td>0</td>\n",
              "    </tr>\n",
              "    <tr>\n",
              "      <th>High</th>\n",
              "      <td>0</td>\n",
              "    </tr>\n",
              "  </tbody>\n",
              "</table>\n",
              "</div><br><label><b>dtype:</b> int64</label>"
            ]
          },
          "metadata": {},
          "execution_count": 8
        }
      ]
    },
    {
      "cell_type": "markdown",
      "source": [
        "Ya no hay datos nulos."
      ],
      "metadata": {
        "id": "022oPFHB8a5N"
      }
    },
    {
      "cell_type": "code",
      "source": [
        "# Contar registros duplicados:\n",
        "num_duplicados = hotRolledCoil_df.duplicated().sum()\n",
        "print(f\"Número de registros duplicados: {num_duplicados}\")\n",
        "\n",
        "# Visualizar los registros duplicados (si existen):\n",
        "if num_duplicados > 0:\n",
        "    duplicados = hotRolledCoil_df[hotRolledCoil_df.duplicated()]\n",
        "    print(\"Registros duplicados:\")\n",
        "    print(duplicados)"
      ],
      "metadata": {
        "colab": {
          "base_uri": "https://localhost:8080/"
        },
        "id": "-P0WgrpEhTqG",
        "outputId": "703a5a70-eb44-4e4a-9258-11afcaa3377a"
      },
      "execution_count": 9,
      "outputs": [
        {
          "output_type": "stream",
          "name": "stdout",
          "text": [
            "Número de registros duplicados: 0\n"
          ]
        }
      ]
    },
    {
      "cell_type": "code",
      "source": [
        "# Detectar registros con valores fuera del rango esperado:\n",
        "erroneos = hotRolledCoil_df[(hotRolledCoil_df['Low'] < 0) | (hotRolledCoil_df['Mid'] < 0) | (hotRolledCoil_df['High'] < 0)]\n",
        "print(\"Registros con valores erróneos en 'Low':\")\n",
        "print(erroneos)"
      ],
      "metadata": {
        "colab": {
          "base_uri": "https://localhost:8080/"
        },
        "id": "BWZG05U5hlRP",
        "outputId": "c6abaa05-08b5-4db7-8f31-9a5858245340"
      },
      "execution_count": 10,
      "outputs": [
        {
          "output_type": "stream",
          "name": "stdout",
          "text": [
            "Registros con valores erróneos en 'Low':\n",
            "Empty DataFrame\n",
            "Columns: [Date, Low, Mid, High]\n",
            "Index: []\n"
          ]
        }
      ]
    },
    {
      "cell_type": "markdown",
      "source": [
        "Los precios están dentro del rango correcto."
      ],
      "metadata": {
        "id": "Hr-UBG-2h5oZ"
      }
    },
    {
      "cell_type": "code",
      "source": [
        "hotRolledCoil_df.dtypes # Tipos de dato."
      ],
      "metadata": {
        "colab": {
          "base_uri": "https://localhost:8080/",
          "height": 210
        },
        "id": "41ggyELhhxl3",
        "outputId": "ffa788db-4360-4a62-c6be-1c2001591f32"
      },
      "execution_count": 11,
      "outputs": [
        {
          "output_type": "execute_result",
          "data": {
            "text/plain": [
              "Date     object\n",
              "Low     float64\n",
              "Mid     float64\n",
              "High    float64\n",
              "dtype: object"
            ],
            "text/html": [
              "<div>\n",
              "<style scoped>\n",
              "    .dataframe tbody tr th:only-of-type {\n",
              "        vertical-align: middle;\n",
              "    }\n",
              "\n",
              "    .dataframe tbody tr th {\n",
              "        vertical-align: top;\n",
              "    }\n",
              "\n",
              "    .dataframe thead th {\n",
              "        text-align: right;\n",
              "    }\n",
              "</style>\n",
              "<table border=\"1\" class=\"dataframe\">\n",
              "  <thead>\n",
              "    <tr style=\"text-align: right;\">\n",
              "      <th></th>\n",
              "      <th>0</th>\n",
              "    </tr>\n",
              "  </thead>\n",
              "  <tbody>\n",
              "    <tr>\n",
              "      <th>Date</th>\n",
              "      <td>object</td>\n",
              "    </tr>\n",
              "    <tr>\n",
              "      <th>Low</th>\n",
              "      <td>float64</td>\n",
              "    </tr>\n",
              "    <tr>\n",
              "      <th>Mid</th>\n",
              "      <td>float64</td>\n",
              "    </tr>\n",
              "    <tr>\n",
              "      <th>High</th>\n",
              "      <td>float64</td>\n",
              "    </tr>\n",
              "  </tbody>\n",
              "</table>\n",
              "</div><br><label><b>dtype:</b> object</label>"
            ]
          },
          "metadata": {},
          "execution_count": 11
        }
      ]
    },
    {
      "cell_type": "markdown",
      "source": [
        "Todos los datos tienen el tipo correcto."
      ],
      "metadata": {
        "id": "pi_G7q-8h1w1"
      }
    },
    {
      "cell_type": "markdown",
      "source": [
        "#### Medidas estadísticas"
      ],
      "metadata": {
        "id": "pK0qZ-TMhChF"
      }
    },
    {
      "cell_type": "code",
      "source": [
        "# Lista de columnas cuantitativas:\n",
        "numeric_columns = ['Low', 'Mid', 'High']\n",
        "\n",
        "for col in numeric_columns:\n",
        "    print(f\"Variable: {col}\")\n",
        "    # Medidas de tendencia central:\n",
        "    media = hotRolledCoil_df[col].mean()\n",
        "    mediana = hotRolledCoil_df[col].median()\n",
        "    # La moda puede devolver más de un valor, por eso se imprime como Series:\n",
        "    moda = hotRolledCoil_df[col].mode()\n",
        "\n",
        "    # Medidas de dispersión:\n",
        "    rango = hotRolledCoil_df[col].max() - hotRolledCoil_df[col].min()\n",
        "    varianza = hotRolledCoil_df[col].var()\n",
        "    desv_estandar = hotRolledCoil_df[col].std()\n",
        "\n",
        "    print(f\"  Promedio/Media: {media}\")\n",
        "    print(f\"  Mediana: {mediana}\")\n",
        "    print(f\"  Moda: {list(moda)}\") # Serie a lista para mayor claridad.\n",
        "    print(f\"  Rango (max - min): {rango}\")\n",
        "    print(f\"  Varianza: {varianza}\")\n",
        "    print(f\"  Desviación Estándar: {desv_estandar}\\n\")"
      ],
      "metadata": {
        "colab": {
          "base_uri": "https://localhost:8080/"
        },
        "id": "BP1wAROJX9ur",
        "outputId": "de70cfb5-6def-4e58-8bc7-2ce00453666f"
      },
      "execution_count": 12,
      "outputs": [
        {
          "output_type": "stream",
          "name": "stdout",
          "text": [
            "Variable: Low\n",
            "  Promedio/Media: 24.44219835967117\n",
            "  Mediana: 22.25\n",
            "  Moda: [22.25]\n",
            "  Rango (max - min): 90.51095238095238\n",
            "  Varianza: 167.98817889002254\n",
            "  Desviación Estándar: 12.96102537957636\n",
            "\n",
            "Variable: Mid\n",
            "  Promedio/Media: 24.44219835967117\n",
            "  Mediana: 22.25\n",
            "  Moda: [22.25]\n",
            "  Rango (max - min): 90.51095238095238\n",
            "  Varianza: 167.98817889002254\n",
            "  Desviación Estándar: 12.96102537957636\n",
            "\n",
            "Variable: High\n",
            "  Promedio/Media: 24.44219835967117\n",
            "  Mediana: 22.25\n",
            "  Moda: [22.25]\n",
            "  Rango (max - min): 90.51095238095238\n",
            "  Varianza: 167.98817889002254\n",
            "  Desviación Estándar: 12.96102537957636\n",
            "\n"
          ]
        }
      ]
    },
    {
      "cell_type": "markdown",
      "source": [
        "Cada variable tiene sus medidas de tendencia central y dispersión iguales."
      ],
      "metadata": {
        "id": "60152uoLlzrA"
      }
    },
    {
      "cell_type": "code",
      "source": [
        "# Tabla de distribución de frecuencia para la variable 'Date':\n",
        "frecuencia_date = hotRolledCoil_df['Date'].value_counts().sort_index()\n",
        "print(\"Tabla de distribución de frecuencia (Date):\")\n",
        "print(frecuencia_date)\n",
        "print(\"\\n\")\n",
        "\n",
        "# Ahora, calcular la mediana de la columna 'Date':\n",
        "median_date = pd.to_datetime(hotRolledCoil_df['Date'], dayfirst=True).median()\n",
        "\n",
        "# Mostrar la mediana formateada:\n",
        "print(\"Mediana de las fechas:\", median_date.strftime(\"%B %Y\"))"
      ],
      "metadata": {
        "colab": {
          "base_uri": "https://localhost:8080/"
        },
        "id": "eUEun_pUZ0JD",
        "outputId": "80433f04-4116-4493-a9f1-c117a979617b"
      },
      "execution_count": 13,
      "outputs": [
        {
          "output_type": "stream",
          "name": "stderr",
          "text": [
            "<ipython-input-13-cf00c36e0404>:8: UserWarning: Could not infer format, so each element will be parsed individually, falling back to `dateutil`. To ensure parsing is consistent and as-expected, please specify a format.\n",
            "  median_date = pd.to_datetime(hotRolledCoil_df['Date'], dayfirst=True).median()\n"
          ]
        },
        {
          "output_type": "stream",
          "name": "stdout",
          "text": [
            "Tabla de distribución de frecuencia (Date):\n",
            "Date\n",
            "April 1970        1\n",
            "April 1971        1\n",
            "April 1972        1\n",
            "April 1973        1\n",
            "April 1974        1\n",
            "                 ..\n",
            "September 2020    1\n",
            "September 2021    1\n",
            "September 2022    1\n",
            "September 2023    1\n",
            "September 2024    1\n",
            "Name: count, Length: 663, dtype: int64\n",
            "\n",
            "\n",
            "Mediana de las fechas: August 1997\n"
          ]
        }
      ]
    },
    {
      "cell_type": "markdown",
      "source": [
        "Cada fecha es única."
      ],
      "metadata": {
        "id": "dAzG0OjrltQ3"
      }
    },
    {
      "cell_type": "markdown",
      "source": [
        "##### Exploración de datos"
      ],
      "metadata": {
        "id": "uQz2ArF9hM7Y"
      }
    },
    {
      "cell_type": "code",
      "source": [
        "# Cuartiles, medidas de posición no-central (no solo la mediana) y detección de outliers:\n",
        "print(\"Medidas de posición y dispersión (para variables numéricas):\")\n",
        "for col in ['Low', 'Mid', 'High']:\n",
        "    Q1 = hotRolledCoil_df[col].quantile(0.25)\n",
        "    Q3 = hotRolledCoil_df[col].quantile(0.75)\n",
        "    IQR = Q3 - Q1\n",
        "    outliers = hotRolledCoil_df[(hotRolledCoil_df[col] < (Q1 - 1.5 * IQR)) | (hotRolledCoil_df[col] > (Q3 + 1.5 * IQR))][col]\n",
        "\n",
        "    print(f\"\\nVariable: {col}\")\n",
        "    print(f\"  Cuartil 1 (Q1): {Q1}\")\n",
        "    print(f\"  Cuartil 3 (Q3): {Q3}\")\n",
        "    print(f\"  IQR: {IQR}\")\n",
        "    print(f\"  Outliers detectados: {list(outliers)}\")"
      ],
      "metadata": {
        "colab": {
          "base_uri": "https://localhost:8080/"
        },
        "id": "0n8-Iggxdwqh",
        "outputId": "141caa2a-3562-43e3-cca1-5f73433bb282"
      },
      "execution_count": 14,
      "outputs": [
        {
          "output_type": "stream",
          "name": "stdout",
          "text": [
            "Medidas de posición y dispersión (para variables numéricas):\n",
            "\n",
            "Variable: Low\n",
            "  Cuartil 1 (Q1): 16.0\n",
            "  Cuartil 3 (Q3): 29.875\n",
            "  IQR: 13.875\n",
            "  Outliers detectados: [55.375, 54.0, 53.0, 52.0, 54.932105263157894, 59.6921052631579, 64.50739130434783, 69.51809523809524, 77.636, 83.95409090909091, 90.75761904761904, 95.47590909090908, 97.46095238095238, 96.30047619047619, 91.6225, 82.16190476190475, 72.022, 54.809999999999995, 63.20434782608696, 73.761, 67.75333333333333, 54.362380952380946, 56.72826086956522, 58.571578947368415, 53.91, 53.525999999999996, 53.98809523809524]\n",
            "\n",
            "Variable: Mid\n",
            "  Cuartil 1 (Q1): 16.0\n",
            "  Cuartil 3 (Q3): 29.875\n",
            "  IQR: 13.875\n",
            "  Outliers detectados: [55.375, 54.0, 53.0, 52.0, 54.932105263157894, 59.6921052631579, 64.50739130434783, 69.51809523809524, 77.636, 83.95409090909091, 90.75761904761904, 95.47590909090908, 97.46095238095238, 96.30047619047619, 91.6225, 82.16190476190475, 72.022, 54.809999999999995, 63.20434782608696, 73.761, 67.75333333333333, 54.362380952380946, 56.72826086956522, 58.571578947368415, 53.91, 53.525999999999996, 53.98809523809524]\n",
            "\n",
            "Variable: High\n",
            "  Cuartil 1 (Q1): 16.0\n",
            "  Cuartil 3 (Q3): 29.875\n",
            "  IQR: 13.875\n",
            "  Outliers detectados: [55.375, 54.0, 53.0, 52.0, 54.932105263157894, 59.6921052631579, 64.50739130434783, 69.51809523809524, 77.636, 83.95409090909091, 90.75761904761904, 95.47590909090908, 97.46095238095238, 96.30047619047619, 91.6225, 82.16190476190475, 72.022, 54.809999999999995, 63.20434782608696, 73.761, 67.75333333333333, 54.362380952380946, 56.72826086956522, 58.571578947368415, 53.91, 53.525999999999996, 53.98809523809524]\n"
          ]
        }
      ]
    },
    {
      "cell_type": "markdown",
      "source": [
        "Cada variable tiene sus medidas de posición iguales."
      ],
      "metadata": {
        "id": "RWLwRdRImG3N"
      }
    },
    {
      "cell_type": "code",
      "source": [
        "# Boxplots para visualizar la distribución y detectar outliers:\n",
        "plt.figure(figsize=(12, 6))\n",
        "plt.suptitle(\"Boxplots de variables cuantitativas\", fontsize=16)\n",
        "for i, col in enumerate(['Low', 'Mid', 'High'], 1):\n",
        "    plt.subplot(2, 2, i)\n",
        "    sns.boxplot(y=hotRolledCoil_df[col])\n",
        "    plt.title(col)\n",
        "plt.tight_layout(rect=[0, 0, 1, 0.95])\n",
        "plt.show()"
      ],
      "metadata": {
        "colab": {
          "base_uri": "https://localhost:8080/",
          "height": 609
        },
        "id": "F9HMe6Itiznd",
        "outputId": "b07664ce-1827-4fad-9290-5a6894dab7a4"
      },
      "execution_count": 15,
      "outputs": [
        {
          "output_type": "display_data",
          "data": {
            "text/plain": [
              "<Figure size 1200x600 with 3 Axes>"
            ],
            "image/png": "[encoded data removed]"
          },
          "metadata": {}
        }
      ]
    },
    {
      "cell_type": "markdown",
      "source": [
        "Se observa en los boxplots que hay datos atípicos en la misma posición y que el primer cuartil está más cerca de la mediana que el tercer cuartil."
      ],
      "metadata": {
        "id": "UYQdkk-YndCV"
      }
    },
    {
      "cell_type": "code",
      "source": [
        "# Histogramas para analizar la distribución y ver la forma (simétrica/asimétrica):\n",
        "plt.figure(figsize=(12, 8))\n",
        "plt.suptitle(\"Histogramas de variables cuantitativas\", fontsize=16)\n",
        "for i, col in enumerate(['Low', 'Mid', 'High'], 1):\n",
        "    plt.subplot(2, 2, i)\n",
        "    sns.histplot(hotRolledCoil_df[col], kde=True, bins=90)\n",
        "    plt.title(col)\n",
        "plt.tight_layout(rect=[0, 0, 1, 0.93])\n",
        "plt.show()"
      ],
      "metadata": {
        "colab": {
          "base_uri": "https://localhost:8080/",
          "height": 805
        },
        "id": "_3jwemjZkodp",
        "outputId": "1139e4ab-2ac7-4269-a771-79e7ec96fd69"
      },
      "execution_count": 16,
      "outputs": [
        {
          "output_type": "display_data",
          "data": {
            "text/plain": [
              "<Figure size 1200x800 with 3 Axes>"
            ],
            "image/png": "[encoded data removed]"
          },
          "metadata": {}
        }
      ]
    },
    {
      "cell_type": "markdown",
      "source": [
        "Se observa un ligero sesgo a la derecha en la distribución, pues los datos más bajos se agrupan más cerca de la mediana."
      ],
      "metadata": {
        "id": "tSjRHCCkn1NV"
      }
    },
    {
      "cell_type": "code",
      "source": [
        "# Mapa de calor de la correlación entre variables numéricas:\n",
        "plt.figure(figsize=(8, 6))\n",
        "corr_matrix = hotRolledCoil_df[['Low', 'Mid', 'High']].corr()\n",
        "sns.heatmap(corr_matrix, annot=True, cmap=\"coolwarm\", fmt=\".2f\")\n",
        "plt.title(\"Mapa de calor de correlación\")\n",
        "plt.show()"
      ],
      "metadata": {
        "colab": {
          "base_uri": "https://localhost:8080/",
          "height": 545
        },
        "id": "feNFn3oSmJIc",
        "outputId": "5cea68e2-440d-4fd7-8a36-41e3654df048"
      },
      "execution_count": 17,
      "outputs": [
        {
          "output_type": "display_data",
          "data": {
            "text/plain": [
              "<Figure size 800x600 with 2 Axes>"
            ],
            "image/png": "[encoded data removed]"
          },
          "metadata": {}
        }
      ]
    },
    {
      "cell_type": "markdown",
      "source": [
        "Todas las variables tienen una correlación perfecta positiva."
      ],
      "metadata": {
        "id": "o6hRykjfqUvL"
      }
    },
    {
      "cell_type": "markdown",
      "source": [
        "Cada fecha es única, así que si se quieren ver distribuciones de la variable que no sean uniformes para obtener gráficos de barras y de pastel más interesantes, se puede realizar transformaciones a la variable 'Date'."
      ],
      "metadata": {
        "id": "yncv5F1rsKph"
      }
    },
    {
      "cell_type": "markdown",
      "source": [
        "#### Exportación de los datos"
      ],
      "metadata": {
        "id": "rz4qIEbIsw--"
      }
    },
    {
      "cell_type": "code",
      "source": [
        "def transformar_fecha_desde_date(df):\n",
        "    \"\"\"\n",
        "    Convierte en sitio la columna 'Date' (formato 'Mes Año' en inglés) en una\n",
        "    columna Period 'Fecha' (tipo period[M]), la pone primero y elimina la\n",
        "    original.\n",
        "    \"\"\"\n",
        "    # 1) Crear la columna 'Fecha':\n",
        "    df['Fecha'] = pd.to_datetime(df['Date'], format='%B %Y').dt.to_period('M')\n",
        "\n",
        "    # 2) Borrar la columna original 'Date':\n",
        "    df.drop(columns=['Date'], inplace=True)\n",
        "\n",
        "    # 3) Mover 'Fecha' al inicio:\n",
        "    fecha = df.pop('Fecha') # Extraer la serie y eliminarla.\n",
        "    df.insert(0, 'Fecha', fecha) # Insertarla al inicio."
      ],
      "metadata": {
        "id": "iVXlKsn4MqYF"
      },
      "execution_count": 18,
      "outputs": []
    },
    {
      "cell_type": "code",
      "source": [
        "# Dar formato a la fecha:\n",
        "transformar_fecha_desde_date(hotRolledCoil_df)"
      ],
      "metadata": {
        "id": "1WYATOitMsY1"
      },
      "execution_count": 19,
      "outputs": []
    },
    {
      "cell_type": "code",
      "source": [
        "hotRolledCoil_df.head() # Mostrar primeras filas."
      ],
      "metadata": {
        "colab": {
          "base_uri": "https://localhost:8080/",
          "height": 206
        },
        "id": "TMANdT5qNDLZ",
        "outputId": "8e944fbc-9ba2-413e-a5b8-0db1a0ead788"
      },
      "execution_count": 20,
      "outputs": [
        {
          "output_type": "execute_result",
          "data": {
            "text/plain": [
              "     Fecha   Low   Mid  High\n",
              "0  1970-01  6.95  6.95  6.95\n",
              "1  1970-02  6.95  6.95  6.95\n",
              "2  1970-03  6.95  6.95  6.95\n",
              "3  1970-04  6.95  6.95  6.95\n",
              "4  1970-05  6.95  6.95  6.95"
            ],
            "text/html": [
              "\n",
              "  <div id=\"df-2bb7a663-b712-4909-9b8a-aa2660a76e6b\" class=\"colab-df-container\">\n",
              "    <div>\n",
              "<style scoped>\n",
              "    .dataframe tbody tr th:only-of-type {\n",
              "        vertical-align: middle;\n",
              "    }\n",
              "\n",
              "    .dataframe tbody tr th {\n",
              "        vertical-align: top;\n",
              "    }\n",
              "\n",
              "    .dataframe thead th {\n",
              "        text-align: right;\n",
              "    }\n",
              "</style>\n",
              "<table border=\"1\" class=\"dataframe\">\n",
              "  <thead>\n",
              "    <tr style=\"text-align: right;\">\n",
              "      <th></th>\n",
              "      <th>Fecha</th>\n",
              "      <th>Low</th>\n",
              "      <th>Mid</th>\n",
              "      <th>High</th>\n",
              "    </tr>\n",
              "  </thead>\n",
              "  <tbody>\n",
              "    <tr>\n",
              "      <th>0</th>\n",
              "      <td>1970-01</td>\n",
              "      <td>6.95</td>\n",
              "      <td>6.95</td>\n",
              "      <td>6.95</td>\n",
              "    </tr>\n",
              "    <tr>\n",
              "      <th>1</th>\n",
              "      <td>1970-02</td>\n",
              "      <td>6.95</td>\n",
              "      <td>6.95</td>\n",
              "      <td>6.95</td>\n",
              "    </tr>\n",
              "    <tr>\n",
              "      <th>2</th>\n",
              "      <td>1970-03</td>\n",
              "      <td>6.95</td>\n",
              "      <td>6.95</td>\n",
              "      <td>6.95</td>\n",
              "    </tr>\n",
              "    <tr>\n",
              "      <th>3</th>\n",
              "      <td>1970-04</td>\n",
              "      <td>6.95</td>\n",
              "      <td>6.95</td>\n",
              "      <td>6.95</td>\n",
              "    </tr>\n",
              "    <tr>\n",
              "      <th>4</th>\n",
              "      <td>1970-05</td>\n",
              "      <td>6.95</td>\n",
              "      <td>6.95</td>\n",
              "      <td>6.95</td>\n",
              "    </tr>\n",
              "  </tbody>\n",
              "</table>\n",
              "</div>\n",
              "    <div class=\"colab-df-buttons\">\n",
              "\n",
              "  <div class=\"colab-df-container\">\n",
              "    <button class=\"colab-df-convert\" onclick=\"convertToInteractive('df-2bb7a663-b712-4909-9b8a-aa2660a76e6b')\"\n",
              "            title=\"Convert this dataframe to an interactive table.\"\n",
              "            style=\"display:none;\">\n",
              "\n",
              "  <svg xmlns=\"http://www.w3.org/2000/svg\" height=\"24px\" viewBox=\"0 -960 960 960\">\n",
              "    <path d=\"M120-120v-720h720v720H120Zm60-500h600v-160H180v160Zm220 220h160v-160H400v160Zm0 220h160v-160H400v160ZM180-400h160v-160H180v160Zm440 0h160v-160H620v160ZM180-180h160v-160H180v160Zm440 0h160v-160H620v160Z\"/>\n",
              "  </svg>\n",
              "    </button>\n",
              "\n",
              "  <style>\n",
              "    .colab-df-container {\n",
              "      display:flex;\n",
              "      gap: 12px;\n",
              "    }\n",
              "\n",
              "    .colab-df-convert {\n",
              "      background-color: #E8F0FE;\n",
              "      border: none;\n",
              "      border-radius: 50%;\n",
              "      cursor: pointer;\n",
              "      display: none;\n",
              "      fill: #1967D2;\n",
              "      height: 32px;\n",
              "      padding: 0 0 0 0;\n",
              "      width: 32px;\n",
              "    }\n",
              "\n",
              "    .colab-df-convert:hover {\n",
              "      background-color: #E2EBFA;\n",
              "      box-shadow: 0px 1px 2px rgba(60, 64, 67, 0.3), 0px 1px 3px 1px rgba(60, 64, 67, 0.15);\n",
              "      fill: #174EA6;\n",
              "    }\n",
              "\n",
              "    .colab-df-buttons div {\n",
              "      margin-bottom: 4px;\n",
              "    }\n",
              "\n",
              "    [theme=dark] .colab-df-convert {\n",
              "      background-color: #3B4455;\n",
              "      fill: #D2E3FC;\n",
              "    }\n",
              "\n",
              "    [theme=dark] .colab-df-convert:hover {\n",
              "      background-color: #434B5C;\n",
              "      box-shadow: 0px 1px 3px 1px rgba(0, 0, 0, 0.15);\n",
              "      filter: drop-shadow(0px 1px 2px rgba(0, 0, 0, 0.3));\n",
              "      fill: #FFFFFF;\n",
              "    }\n",
              "  </style>\n",
              "\n",
              "    <script>\n",
              "      const buttonEl =\n",
              "        document.querySelector('#df-2bb7a663-b712-4909-9b8a-aa2660a76e6b button.colab-df-convert');\n",
              "      buttonEl.style.display =\n",
              "        google.colab.kernel.accessAllowed ? 'block' : 'none';\n",
              "\n",
              "      async function convertToInteractive(key) {\n",
              "        const element = document.querySelector('#df-2bb7a663-b712-4909-9b8a-aa2660a76e6b');\n",
              "        const dataTable =\n",
              "          await google.colab.kernel.invokeFunction('convertToInteractive',\n",
              "                                                    [key], {});\n",
              "        if (!dataTable) return;\n",
              "\n",
              "        const docLinkHtml = 'Like what you see? Visit the ' +\n",
              "          '<a target=\"_blank\" href=https://colab.research.google.com/notebooks/data_table.ipynb>data table notebook</a>'\n",
              "          + ' to learn more about interactive tables.';\n",
              "        element.innerHTML = '';\n",
              "        dataTable['output_type'] = 'display_data';\n",
              "        await google.colab.output.renderOutput(dataTable, element);\n",
              "        const docLink = document.createElement('div');\n",
              "        docLink.innerHTML = docLinkHtml;\n",
              "        element.appendChild(docLink);\n",
              "      }\n",
              "    </script>\n",
              "  </div>\n",
              "\n",
              "\n",
              "    <div id=\"df-7b370b77-e703-41cd-91ca-b86b1e2d5fe0\">\n",
              "      <button class=\"colab-df-quickchart\" onclick=\"quickchart('df-7b370b77-e703-41cd-91ca-b86b1e2d5fe0')\"\n",
              "                title=\"Suggest charts\"\n",
              "                style=\"display:none;\">\n",
              "\n",
              "<svg xmlns=\"http://www.w3.org/2000/svg\" height=\"24px\"viewBox=\"0 0 24 24\"\n",
              "     width=\"24px\">\n",
              "    <g>\n",
              "        <path d=\"M19 3H5c-1.1 0-2 .9-2 2v14c0 1.1.9 2 2 2h14c1.1 0 2-.9 2-2V5c0-1.1-.9-2-2-2zM9 17H7v-7h2v7zm4 0h-2V7h2v10zm4 0h-2v-4h2v4z\"/>\n",
              "    </g>\n",
              "</svg>\n",
              "      </button>\n",
              "\n",
              "<style>\n",
              "  .colab-df-quickchart {\n",
              "      --bg-color: #E8F0FE;\n",
              "      --fill-color: #1967D2;\n",
              "      --hover-bg-color: #E2EBFA;\n",
              "      --hover-fill-color: #174EA6;\n",
              "      --disabled-fill-color: #AAA;\n",
              "      --disabled-bg-color: #DDD;\n",
              "  }\n",
              "\n",
              "  [theme=dark] .colab-df-quickchart {\n",
              "      --bg-color: #3B4455;\n",
              "      --fill-color: #D2E3FC;\n",
              "      --hover-bg-color: #434B5C;\n",
              "      --hover-fill-color: #FFFFFF;\n",
              "      --disabled-bg-color: #3B4455;\n",
              "      --disabled-fill-color: #666;\n",
              "  }\n",
              "\n",
              "  .colab-df-quickchart {\n",
              "    background-color: var(--bg-color);\n",
              "    border: none;\n",
              "    border-radius: 50%;\n",
              "    cursor: pointer;\n",
              "    display: none;\n",
              "    fill: var(--fill-color);\n",
              "    height: 32px;\n",
              "    padding: 0;\n",
              "    width: 32px;\n",
              "  }\n",
              "\n",
              "  .colab-df-quickchart:hover {\n",
              "    background-color: var(--hover-bg-color);\n",
              "    box-shadow: 0 1px 2px rgba(60, 64, 67, 0.3), 0 1px 3px 1px rgba(60, 64, 67, 0.15);\n",
              "    fill: var(--button-hover-fill-color);\n",
              "  }\n",
              "\n",
              "  .colab-df-quickchart-complete:disabled,\n",
              "  .colab-df-quickchart-complete:disabled:hover {\n",
              "    background-color: var(--disabled-bg-color);\n",
              "    fill: var(--disabled-fill-color);\n",
              "    box-shadow: none;\n",
              "  }\n",
              "\n",
              "  .colab-df-spinner {\n",
              "    border: 2px solid var(--fill-color);\n",
              "    border-color: transparent;\n",
              "    border-bottom-color: var(--fill-color);\n",
              "    animation:\n",
              "      spin 1s steps(1) infinite;\n",
              "  }\n",
              "\n",
              "  @keyframes spin {\n",
              "    0% {\n",
              "      border-color: transparent;\n",
              "      border-bottom-color: var(--fill-color);\n",
              "      border-left-color: var(--fill-color);\n",
              "    }\n",
              "    20% {\n",
              "      border-color: transparent;\n",
              "      border-left-color: var(--fill-color);\n",
              "      border-top-color: var(--fill-color);\n",
              "    }\n",
              "    30% {\n",
              "      border-color: transparent;\n",
              "      border-left-color: var(--fill-color);\n",
              "      border-top-color: var(--fill-color);\n",
              "      border-right-color: var(--fill-color);\n",
              "    }\n",
              "    40% {\n",
              "      border-color: transparent;\n",
              "      border-right-color: var(--fill-color);\n",
              "      border-top-color: var(--fill-color);\n",
              "    }\n",
              "    60% {\n",
              "      border-color: transparent;\n",
              "      border-right-color: var(--fill-color);\n",
              "    }\n",
              "    80% {\n",
              "      border-color: transparent;\n",
              "      border-right-color: var(--fill-color);\n",
              "      border-bottom-color: var(--fill-color);\n",
              "    }\n",
              "    90% {\n",
              "      border-color: transparent;\n",
              "      border-bottom-color: var(--fill-color);\n",
              "    }\n",
              "  }\n",
              "</style>\n",
              "\n",
              "      <script>\n",
              "        async function quickchart(key) {\n",
              "          const quickchartButtonEl =\n",
              "            document.querySelector('#' + key + ' button');\n",
              "          quickchartButtonEl.disabled = true;  // To prevent multiple clicks.\n",
              "          quickchartButtonEl.classList.add('colab-df-spinner');\n",
              "          try {\n",
              "            const charts = await google.colab.kernel.invokeFunction(\n",
              "                'suggestCharts', [key], {});\n",
              "          } catch (error) {\n",
              "            console.error('Error during call to suggestCharts:', error);\n",
              "          }\n",
              "          quickchartButtonEl.classList.remove('colab-df-spinner');\n",
              "          quickchartButtonEl.classList.add('colab-df-quickchart-complete');\n",
              "        }\n",
              "        (() => {\n",
              "          let quickchartButtonEl =\n",
              "            document.querySelector('#df-7b370b77-e703-41cd-91ca-b86b1e2d5fe0 button');\n",
              "          quickchartButtonEl.style.display =\n",
              "            google.colab.kernel.accessAllowed ? 'block' : 'none';\n",
              "        })();\n",
              "      </script>\n",
              "    </div>\n",
              "\n",
              "    </div>\n",
              "  </div>\n"
            ],
            "application/vnd.google.colaboratory.intrinsic+json": {
              "type": "dataframe",
              "variable_name": "hotRolledCoil_df",
              "summary": "{\n  \"name\": \"hotRolledCoil_df\",\n  \"rows\": 663,\n  \"fields\": [\n    {\n      \"column\": \"Fecha\",\n      \"properties\": {\n        \"dtype\": \"period[M]\",\n        \"num_unique_values\": 663,\n        \"samples\": [\n          \"1997-04\",\n          \"2018-04\",\n          \"2012-10\"\n        ],\n        \"semantic_type\": \"\",\n        \"description\": \"\"\n      }\n    },\n    {\n      \"column\": \"Low\",\n      \"properties\": {\n        \"dtype\": \"number\",\n        \"std\": 12.96102537957636,\n        \"min\": 6.95,\n        \"max\": 97.46095238095238,\n        \"num_unique_values\": 328,\n        \"samples\": [\n          23.875,\n          13.083333333333334,\n          41.25\n        ],\n        \"semantic_type\": \"\",\n        \"description\": \"\"\n      }\n    },\n    {\n      \"column\": \"Mid\",\n      \"properties\": {\n        \"dtype\": \"number\",\n        \"std\": 12.96102537957636,\n        \"min\": 6.95,\n        \"max\": 97.46095238095238,\n        \"num_unique_values\": 328,\n        \"samples\": [\n          23.875,\n          13.083333333333334,\n          41.25\n        ],\n        \"semantic_type\": \"\",\n        \"description\": \"\"\n      }\n    },\n    {\n      \"column\": \"High\",\n      \"properties\": {\n        \"dtype\": \"number\",\n        \"std\": 12.96102537957636,\n        \"min\": 6.95,\n        \"max\": 97.46095238095238,\n        \"num_unique_values\": 328,\n        \"samples\": [\n          23.875,\n          13.083333333333334,\n          41.25\n        ],\n        \"semantic_type\": \"\",\n        \"description\": \"\"\n      }\n    }\n  ]\n}"
            }
          },
          "metadata": {},
          "execution_count": 20
        }
      ]
    },
    {
      "cell_type": "code",
      "source": [
        "# Exportar a CSV:\n",
        "hotRolledCoil_df.to_csv('hotRolledCoil.csv', index=False)"
      ],
      "metadata": {
        "id": "xtMkuC-HtwJd"
      },
      "execution_count": 21,
      "outputs": []
    }
  ]
}