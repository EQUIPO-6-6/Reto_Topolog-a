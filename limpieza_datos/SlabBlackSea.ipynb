{
  "nbformat": 4,
  "nbformat_minor": 0,
  "metadata": {
    "colab": {
      "provenance": []
    },
    "kernelspec": {
      "name": "python3",
      "display_name": "Python 3"
    },
    "language_info": {
      "name": "python"
    }
  },
  "cells": [
    {
      "cell_type": "markdown",
      "source": [
        "# Etapa 2 - Conociendo los datos\n",
        "## Histórico de Precios: Slab (Productos Semiterminado)\n",
        "### Slab BlackSea\n",
        "El conjunto de datos se refiere al precio de las losas de acero exportadas desde el Mar Negro, en la región de la Comunidad de Estados Independientes (CIS). Estas losas de acero se comercializan en el mercado internacional bajo condiciones FOB (Free on Board), lo que significa que el vendedor entrega las mercancías en el puerto de carga y el comprador asume los costos y riesgos desde ese punto en adelante."
      ],
      "metadata": {
        "id": "dIOgzUGVjCvh"
      }
    },
    {
      "cell_type": "markdown",
      "source": [
        "#### Variables\n",
        "- $Date$: Fecha en que se registró el precio del producto. Es categórica y sus valores posibles están en formato \"d/m/aaaa\", desde el primer registro hasta el presente.\n",
        "- $Low$: Precio más bajo registrado para el producto en la fecha especificada. Es numérica y sus valores posibles están en dólares estadounidenses por tonelada, desde 0 hasta el máximo registrado.\n",
        "- $Mid$: Precio medio registrado para el producto en la fecha especificada. Es numérica y sus valores posibles están en dólares estadounidenses por tonelada, desde 0 hasta el máximo registrado.\n",
        "- $High$: Precio más alto registrado para el producto en la fecha especificada. Es numérica y sus valores posibles están en dólares estadounidenses por tonelada, desde 0 hasta el máximo registrado.\n",
        "- $Mid$ $Change$ $\\%$: Cambio porcentual en el precio medio en comparación con el período anterior (nuevo-anterior)/anterior. Es numérica y sus valores posibles están enre -1 (-100%) y el máximo cambio positivo registrado."
      ],
      "metadata": {
        "id": "jgvK0TmArGxP"
      }
    },
    {
      "cell_type": "markdown",
      "source": [
        "#### Librerías"
      ],
      "metadata": {
        "id": "xe1oKRRgkVcv"
      }
    },
    {
      "cell_type": "code",
      "source": [
        "import pandas as pd # Análisis de datos.\n",
        "import matplotlib.pyplot as plt # Gráficos.\n",
        "import seaborn as sns # Formato de los gráficos."
      ],
      "metadata": {
        "id": "6XO4m0RRa5_K"
      },
      "execution_count": 21,
      "outputs": []
    },
    {
      "cell_type": "markdown",
      "source": [
        "#### Comprensión de los datos"
      ],
      "metadata": {
        "id": "MIc0D_JXtgpt"
      }
    },
    {
      "cell_type": "code",
      "execution_count": 22,
      "metadata": {
        "colab": {
          "base_uri": "https://localhost:8080/",
          "height": 424
        },
        "id": "DLIX0XiXaM3E",
        "outputId": "5a7876b5-12f9-492c-f687-d5785d63696c"
      },
      "outputs": [
        {
          "output_type": "execute_result",
          "data": {
            "text/plain": [
              "           Date  Low    Mid  High  Mid Change %\n",
              "0     17/3/2025  448  456.5   465      0.007726\n",
              "1     11/3/2025  443  453.0   463      0.005549\n",
              "2      3/3/2025  438  450.5   463      0.023864\n",
              "3     24/2/2025  435  440.0   445      0.004566\n",
              "4     17/2/2025  426  438.0   450      0.012717\n",
              "...         ...  ...    ...   ...           ...\n",
              "1626  28/9/1994  150  155.0   160      0.000000\n",
              "1627  21/9/1994  150  155.0   160      0.000000\n",
              "1628  14/9/1994  150  155.0   160      0.000000\n",
              "1629   7/9/1994  150  155.0   160      0.000000\n",
              "1630  31/8/1994  150  155.0   160           NaN\n",
              "\n",
              "[1631 rows x 5 columns]"
            ],
            "text/html": [
              "\n",
              "  <div id=\"df-979f3515-5c40-416c-af70-163965c63149\" class=\"colab-df-container\">\n",
              "    <div>\n",
              "<style scoped>\n",
              "    .dataframe tbody tr th:only-of-type {\n",
              "        vertical-align: middle;\n",
              "    }\n",
              "\n",
              "    .dataframe tbody tr th {\n",
              "        vertical-align: top;\n",
              "    }\n",
              "\n",
              "    .dataframe thead th {\n",
              "        text-align: right;\n",
              "    }\n",
              "</style>\n",
              "<table border=\"1\" class=\"dataframe\">\n",
              "  <thead>\n",
              "    <tr style=\"text-align: right;\">\n",
              "      <th></th>\n",
              "      <th>Date</th>\n",
              "      <th>Low</th>\n",
              "      <th>Mid</th>\n",
              "      <th>High</th>\n",
              "      <th>Mid Change %</th>\n",
              "    </tr>\n",
              "  </thead>\n",
              "  <tbody>\n",
              "    <tr>\n",
              "      <th>0</th>\n",
              "      <td>17/3/2025</td>\n",
              "      <td>448</td>\n",
              "      <td>456.5</td>\n",
              "      <td>465</td>\n",
              "      <td>0.007726</td>\n",
              "    </tr>\n",
              "    <tr>\n",
              "      <th>1</th>\n",
              "      <td>11/3/2025</td>\n",
              "      <td>443</td>\n",
              "      <td>453.0</td>\n",
              "      <td>463</td>\n",
              "      <td>0.005549</td>\n",
              "    </tr>\n",
              "    <tr>\n",
              "      <th>2</th>\n",
              "      <td>3/3/2025</td>\n",
              "      <td>438</td>\n",
              "      <td>450.5</td>\n",
              "      <td>463</td>\n",
              "      <td>0.023864</td>\n",
              "    </tr>\n",
              "    <tr>\n",
              "      <th>3</th>\n",
              "      <td>24/2/2025</td>\n",
              "      <td>435</td>\n",
              "      <td>440.0</td>\n",
              "      <td>445</td>\n",
              "      <td>0.004566</td>\n",
              "    </tr>\n",
              "    <tr>\n",
              "      <th>4</th>\n",
              "      <td>17/2/2025</td>\n",
              "      <td>426</td>\n",
              "      <td>438.0</td>\n",
              "      <td>450</td>\n",
              "      <td>0.012717</td>\n",
              "    </tr>\n",
              "    <tr>\n",
              "      <th>...</th>\n",
              "      <td>...</td>\n",
              "      <td>...</td>\n",
              "      <td>...</td>\n",
              "      <td>...</td>\n",
              "      <td>...</td>\n",
              "    </tr>\n",
              "    <tr>\n",
              "      <th>1626</th>\n",
              "      <td>28/9/1994</td>\n",
              "      <td>150</td>\n",
              "      <td>155.0</td>\n",
              "      <td>160</td>\n",
              "      <td>0.000000</td>\n",
              "    </tr>\n",
              "    <tr>\n",
              "      <th>1627</th>\n",
              "      <td>21/9/1994</td>\n",
              "      <td>150</td>\n",
              "      <td>155.0</td>\n",
              "      <td>160</td>\n",
              "      <td>0.000000</td>\n",
              "    </tr>\n",
              "    <tr>\n",
              "      <th>1628</th>\n",
              "      <td>14/9/1994</td>\n",
              "      <td>150</td>\n",
              "      <td>155.0</td>\n",
              "      <td>160</td>\n",
              "      <td>0.000000</td>\n",
              "    </tr>\n",
              "    <tr>\n",
              "      <th>1629</th>\n",
              "      <td>7/9/1994</td>\n",
              "      <td>150</td>\n",
              "      <td>155.0</td>\n",
              "      <td>160</td>\n",
              "      <td>0.000000</td>\n",
              "    </tr>\n",
              "    <tr>\n",
              "      <th>1630</th>\n",
              "      <td>31/8/1994</td>\n",
              "      <td>150</td>\n",
              "      <td>155.0</td>\n",
              "      <td>160</td>\n",
              "      <td>NaN</td>\n",
              "    </tr>\n",
              "  </tbody>\n",
              "</table>\n",
              "<p>1631 rows × 5 columns</p>\n",
              "</div>\n",
              "    <div class=\"colab-df-buttons\">\n",
              "\n",
              "  <div class=\"colab-df-container\">\n",
              "    <button class=\"colab-df-convert\" onclick=\"convertToInteractive('df-979f3515-5c40-416c-af70-163965c63149')\"\n",
              "            title=\"Convert this dataframe to an interactive table.\"\n",
              "            style=\"display:none;\">\n",
              "\n",
              "  <svg xmlns=\"http://www.w3.org/2000/svg\" height=\"24px\" viewBox=\"0 -960 960 960\">\n",
              "    <path d=\"M120-120v-720h720v720H120Zm60-500h600v-160H180v160Zm220 220h160v-160H400v160Zm0 220h160v-160H400v160ZM180-400h160v-160H180v160Zm440 0h160v-160H620v160ZM180-180h160v-160H180v160Zm440 0h160v-160H620v160Z\"/>\n",
              "  </svg>\n",
              "    </button>\n",
              "\n",
              "  <style>\n",
              "    .colab-df-container {\n",
              "      display:flex;\n",
              "      gap: 12px;\n",
              "    }\n",
              "\n",
              "    .colab-df-convert {\n",
              "      background-color: #E8F0FE;\n",
              "      border: none;\n",
              "      border-radius: 50%;\n",
              "      cursor: pointer;\n",
              "      display: none;\n",
              "      fill: #1967D2;\n",
              "      height: 32px;\n",
              "      padding: 0 0 0 0;\n",
              "      width: 32px;\n",
              "    }\n",
              "\n",
              "    .colab-df-convert:hover {\n",
              "      background-color: #E2EBFA;\n",
              "      box-shadow: 0px 1px 2px rgba(60, 64, 67, 0.3), 0px 1px 3px 1px rgba(60, 64, 67, 0.15);\n",
              "      fill: #174EA6;\n",
              "    }\n",
              "\n",
              "    .colab-df-buttons div {\n",
              "      margin-bottom: 4px;\n",
              "    }\n",
              "\n",
              "    [theme=dark] .colab-df-convert {\n",
              "      background-color: #3B4455;\n",
              "      fill: #D2E3FC;\n",
              "    }\n",
              "\n",
              "    [theme=dark] .colab-df-convert:hover {\n",
              "      background-color: #434B5C;\n",
              "      box-shadow: 0px 1px 3px 1px rgba(0, 0, 0, 0.15);\n",
              "      filter: drop-shadow(0px 1px 2px rgba(0, 0, 0, 0.3));\n",
              "      fill: #FFFFFF;\n",
              "    }\n",
              "  </style>\n",
              "\n",
              "    <script>\n",
              "      const buttonEl =\n",
              "        document.querySelector('#df-979f3515-5c40-416c-af70-163965c63149 button.colab-df-convert');\n",
              "      buttonEl.style.display =\n",
              "        google.colab.kernel.accessAllowed ? 'block' : 'none';\n",
              "\n",
              "      async function convertToInteractive(key) {\n",
              "        const element = document.querySelector('#df-979f3515-5c40-416c-af70-163965c63149');\n",
              "        const dataTable =\n",
              "          await google.colab.kernel.invokeFunction('convertToInteractive',\n",
              "                                                    [key], {});\n",
              "        if (!dataTable) return;\n",
              "\n",
              "        const docLinkHtml = 'Like what you see? Visit the ' +\n",
              "          '<a target=\"_blank\" href=https://colab.research.google.com/notebooks/data_table.ipynb>data table notebook</a>'\n",
              "          + ' to learn more about interactive tables.';\n",
              "        element.innerHTML = '';\n",
              "        dataTable['output_type'] = 'display_data';\n",
              "        await google.colab.output.renderOutput(dataTable, element);\n",
              "        const docLink = document.createElement('div');\n",
              "        docLink.innerHTML = docLinkHtml;\n",
              "        element.appendChild(docLink);\n",
              "      }\n",
              "    </script>\n",
              "  </div>\n",
              "\n",
              "\n",
              "<div id=\"df-0020049e-a086-42ef-80c2-d4f9c63f9d11\">\n",
              "  <button class=\"colab-df-quickchart\" onclick=\"quickchart('df-0020049e-a086-42ef-80c2-d4f9c63f9d11')\"\n",
              "            title=\"Suggest charts\"\n",
              "            style=\"display:none;\">\n",
              "\n",
              "<svg xmlns=\"http://www.w3.org/2000/svg\" height=\"24px\"viewBox=\"0 0 24 24\"\n",
              "     width=\"24px\">\n",
              "    <g>\n",
              "        <path d=\"M19 3H5c-1.1 0-2 .9-2 2v14c0 1.1.9 2 2 2h14c1.1 0 2-.9 2-2V5c0-1.1-.9-2-2-2zM9 17H7v-7h2v7zm4 0h-2V7h2v10zm4 0h-2v-4h2v4z\"/>\n",
              "    </g>\n",
              "</svg>\n",
              "  </button>\n",
              "\n",
              "<style>\n",
              "  .colab-df-quickchart {\n",
              "      --bg-color: #E8F0FE;\n",
              "      --fill-color: #1967D2;\n",
              "      --hover-bg-color: #E2EBFA;\n",
              "      --hover-fill-color: #174EA6;\n",
              "      --disabled-fill-color: #AAA;\n",
              "      --disabled-bg-color: #DDD;\n",
              "  }\n",
              "\n",
              "  [theme=dark] .colab-df-quickchart {\n",
              "      --bg-color: #3B4455;\n",
              "      --fill-color: #D2E3FC;\n",
              "      --hover-bg-color: #434B5C;\n",
              "      --hover-fill-color: #FFFFFF;\n",
              "      --disabled-bg-color: #3B4455;\n",
              "      --disabled-fill-color: #666;\n",
              "  }\n",
              "\n",
              "  .colab-df-quickchart {\n",
              "    background-color: var(--bg-color);\n",
              "    border: none;\n",
              "    border-radius: 50%;\n",
              "    cursor: pointer;\n",
              "    display: none;\n",
              "    fill: var(--fill-color);\n",
              "    height: 32px;\n",
              "    padding: 0;\n",
              "    width: 32px;\n",
              "  }\n",
              "\n",
              "  .colab-df-quickchart:hover {\n",
              "    background-color: var(--hover-bg-color);\n",
              "    box-shadow: 0 1px 2px rgba(60, 64, 67, 0.3), 0 1px 3px 1px rgba(60, 64, 67, 0.15);\n",
              "    fill: var(--button-hover-fill-color);\n",
              "  }\n",
              "\n",
              "  .colab-df-quickchart-complete:disabled,\n",
              "  .colab-df-quickchart-complete:disabled:hover {\n",
              "    background-color: var(--disabled-bg-color);\n",
              "    fill: var(--disabled-fill-color);\n",
              "    box-shadow: none;\n",
              "  }\n",
              "\n",
              "  .colab-df-spinner {\n",
              "    border: 2px solid var(--fill-color);\n",
              "    border-color: transparent;\n",
              "    border-bottom-color: var(--fill-color);\n",
              "    animation:\n",
              "      spin 1s steps(1) infinite;\n",
              "  }\n",
              "\n",
              "  @keyframes spin {\n",
              "    0% {\n",
              "      border-color: transparent;\n",
              "      border-bottom-color: var(--fill-color);\n",
              "      border-left-color: var(--fill-color);\n",
              "    }\n",
              "    20% {\n",
              "      border-color: transparent;\n",
              "      border-left-color: var(--fill-color);\n",
              "      border-top-color: var(--fill-color);\n",
              "    }\n",
              "    30% {\n",
              "      border-color: transparent;\n",
              "      border-left-color: var(--fill-color);\n",
              "      border-top-color: var(--fill-color);\n",
              "      border-right-color: var(--fill-color);\n",
              "    }\n",
              "    40% {\n",
              "      border-color: transparent;\n",
              "      border-right-color: var(--fill-color);\n",
              "      border-top-color: var(--fill-color);\n",
              "    }\n",
              "    60% {\n",
              "      border-color: transparent;\n",
              "      border-right-color: var(--fill-color);\n",
              "    }\n",
              "    80% {\n",
              "      border-color: transparent;\n",
              "      border-right-color: var(--fill-color);\n",
              "      border-bottom-color: var(--fill-color);\n",
              "    }\n",
              "    90% {\n",
              "      border-color: transparent;\n",
              "      border-bottom-color: var(--fill-color);\n",
              "    }\n",
              "  }\n",
              "</style>\n",
              "\n",
              "  <script>\n",
              "    async function quickchart(key) {\n",
              "      const quickchartButtonEl =\n",
              "        document.querySelector('#' + key + ' button');\n",
              "      quickchartButtonEl.disabled = true;  // To prevent multiple clicks.\n",
              "      quickchartButtonEl.classList.add('colab-df-spinner');\n",
              "      try {\n",
              "        const charts = await google.colab.kernel.invokeFunction(\n",
              "            'suggestCharts', [key], {});\n",
              "      } catch (error) {\n",
              "        console.error('Error during call to suggestCharts:', error);\n",
              "      }\n",
              "      quickchartButtonEl.classList.remove('colab-df-spinner');\n",
              "      quickchartButtonEl.classList.add('colab-df-quickchart-complete');\n",
              "    }\n",
              "    (() => {\n",
              "      let quickchartButtonEl =\n",
              "        document.querySelector('#df-0020049e-a086-42ef-80c2-d4f9c63f9d11 button');\n",
              "      quickchartButtonEl.style.display =\n",
              "        google.colab.kernel.accessAllowed ? 'block' : 'none';\n",
              "    })();\n",
              "  </script>\n",
              "</div>\n",
              "\n",
              "  <div id=\"id_c5f3636c-232c-4488-a7fd-35f1fff95ca6\">\n",
              "    <style>\n",
              "      .colab-df-generate {\n",
              "        background-color: #E8F0FE;\n",
              "        border: none;\n",
              "        border-radius: 50%;\n",
              "        cursor: pointer;\n",
              "        display: none;\n",
              "        fill: #1967D2;\n",
              "        height: 32px;\n",
              "        padding: 0 0 0 0;\n",
              "        width: 32px;\n",
              "      }\n",
              "\n",
              "      .colab-df-generate:hover {\n",
              "        background-color: #E2EBFA;\n",
              "        box-shadow: 0px 1px 2px rgba(60, 64, 67, 0.3), 0px 1px 3px 1px rgba(60, 64, 67, 0.15);\n",
              "        fill: #174EA6;\n",
              "      }\n",
              "\n",
              "      [theme=dark] .colab-df-generate {\n",
              "        background-color: #3B4455;\n",
              "        fill: #D2E3FC;\n",
              "      }\n",
              "\n",
              "      [theme=dark] .colab-df-generate:hover {\n",
              "        background-color: #434B5C;\n",
              "        box-shadow: 0px 1px 3px 1px rgba(0, 0, 0, 0.15);\n",
              "        filter: drop-shadow(0px 1px 2px rgba(0, 0, 0, 0.3));\n",
              "        fill: #FFFFFF;\n",
              "      }\n",
              "    </style>\n",
              "    <button class=\"colab-df-generate\" onclick=\"generateWithVariable('slabBlackSea_df')\"\n",
              "            title=\"Generate code using this dataframe.\"\n",
              "            style=\"display:none;\">\n",
              "\n",
              "  <svg xmlns=\"http://www.w3.org/2000/svg\" height=\"24px\"viewBox=\"0 0 24 24\"\n",
              "       width=\"24px\">\n",
              "    <path d=\"M7,19H8.4L18.45,9,17,7.55,7,17.6ZM5,21V16.75L18.45,3.32a2,2,0,0,1,2.83,0l1.4,1.43a1.91,1.91,0,0,1,.58,1.4,1.91,1.91,0,0,1-.58,1.4L9.25,21ZM18.45,9,17,7.55Zm-12,3A5.31,5.31,0,0,0,4.9,8.1,5.31,5.31,0,0,0,1,6.5,5.31,5.31,0,0,0,4.9,4.9,5.31,5.31,0,0,0,6.5,1,5.31,5.31,0,0,0,8.1,4.9,5.31,5.31,0,0,0,12,6.5,5.46,5.46,0,0,0,6.5,12Z\"/>\n",
              "  </svg>\n",
              "    </button>\n",
              "    <script>\n",
              "      (() => {\n",
              "      const buttonEl =\n",
              "        document.querySelector('#id_c5f3636c-232c-4488-a7fd-35f1fff95ca6 button.colab-df-generate');\n",
              "      buttonEl.style.display =\n",
              "        google.colab.kernel.accessAllowed ? 'block' : 'none';\n",
              "\n",
              "      buttonEl.onclick = () => {\n",
              "        google.colab.notebook.generateWithVariable('slabBlackSea_df');\n",
              "      }\n",
              "      })();\n",
              "    </script>\n",
              "  </div>\n",
              "\n",
              "    </div>\n",
              "  </div>\n"
            ],
            "application/vnd.google.colaboratory.intrinsic+json": {
              "type": "dataframe",
              "variable_name": "slabBlackSea_df",
              "summary": "{\n  \"name\": \"slabBlackSea_df\",\n  \"rows\": 1631,\n  \"fields\": [\n    {\n      \"column\": \"Date\",\n      \"properties\": {\n        \"dtype\": \"object\",\n        \"num_unique_values\": 1631,\n        \"samples\": [\n          \"8/9/1999\",\n          \"11/7/2001\",\n          \"16/10/1996\"\n        ],\n        \"semantic_type\": \"\",\n        \"description\": \"\"\n      }\n    },\n    {\n      \"column\": \"Low\",\n      \"properties\": {\n        \"dtype\": \"number\",\n        \"std\": 184,\n        \"min\": 128,\n        \"max\": 1055,\n        \"num_unique_values\": 149,\n        \"samples\": [\n          570,\n          535,\n          270\n        ],\n        \"semantic_type\": \"\",\n        \"description\": \"\"\n      }\n    },\n    {\n      \"column\": \"Mid\",\n      \"properties\": {\n        \"dtype\": \"number\",\n        \"std\": 186.09862939754754,\n        \"min\": 131.5,\n        \"max\": 1085.0,\n        \"num_unique_values\": 245,\n        \"samples\": [\n          520.0,\n          429.0,\n          555.0\n        ],\n        \"semantic_type\": \"\",\n        \"description\": \"\"\n      }\n    },\n    {\n      \"column\": \"High\",\n      \"properties\": {\n        \"dtype\": \"number\",\n        \"std\": 188,\n        \"min\": 135,\n        \"max\": 1115,\n        \"num_unique_values\": 147,\n        \"samples\": [\n          395,\n          775,\n          140\n        ],\n        \"semantic_type\": \"\",\n        \"description\": \"\"\n      }\n    },\n    {\n      \"column\": \"Mid Change %\",\n      \"properties\": {\n        \"dtype\": \"number\",\n        \"std\": 0.036040302997202636,\n        \"min\": -0.447853,\n        \"max\": 0.460317,\n        \"num_unique_values\": 512,\n        \"samples\": [\n          0.03937,\n          0.093506,\n          0.061224\n        ],\n        \"semantic_type\": \"\",\n        \"description\": \"\"\n      }\n    }\n  ]\n}"
            }
          },
          "metadata": {},
          "execution_count": 22
        }
      ],
      "source": [
        "# Leer el archivo Excel:\n",
        "slabBlackSea_df = pd.read_excel('Slab BlackSea.xlsx',\n",
        "  skiprows=9, nrows=1641-9, engine='openpyxl')\n",
        "\n",
        "# Mostrar las primeras filas del DataFrame:\n",
        "slabBlackSea_df"
      ]
    },
    {
      "cell_type": "markdown",
      "source": [
        "Son 1631 filas y 5 columnas."
      ],
      "metadata": {
        "id": "Z19EU581lEra"
      }
    },
    {
      "cell_type": "markdown",
      "source": [
        "Se agruparán los datos anteriores por mes, y se quitará la columna de 'Mid Change %', pues no es de interés para los objetivos de nuestro proyecto. De las demás columnas se obtendrá un promedio mensual."
      ],
      "metadata": {
        "id": "3ShwuKlLkajD"
      }
    },
    {
      "cell_type": "code",
      "source": [
        "# Convertir la columna 'Date' a tipo datetime, considerando el formato d/m/aaaa:\n",
        "slabBlackSea_df['Date'] = pd.to_datetime(slabBlackSea_df['Date'], dayfirst=True)\n",
        "\n",
        "# Establecer 'Date' como índice:\n",
        "slabBlackSea_df.set_index('Date', inplace=True)\n",
        "\n",
        "# Re-muestrear los datos a nivel mensual y obtener el promedio de las columnas 'Low', 'Mid' y 'High':\n",
        "slabBlackSea_df = slabBlackSea_df.resample('M')[['Low', 'Mid', 'High']].mean()\n",
        "\n",
        "# Opcional: Reiniciar el índice para tener 'Date' como columna nuevamente:\n",
        "slabBlackSea_df = slabBlackSea_df.reset_index()\n",
        "\n",
        "# Formatear la columna 'Date' para mostrar 'NombreMes Año':\n",
        "slabBlackSea_df['Date'] = slabBlackSea_df['Date'].dt.strftime('%B %Y')\n",
        "\n",
        "# Mostrar el DataFrame resultante:\n",
        "slabBlackSea_df"
      ],
      "metadata": {
        "colab": {
          "base_uri": "https://localhost:8080/",
          "height": 460
        },
        "id": "QEk35dPscLt9",
        "outputId": "2039c221-add0-4279-c13a-a10ed1cc8802"
      },
      "execution_count": 23,
      "outputs": [
        {
          "output_type": "stream",
          "name": "stderr",
          "text": [
            "<ipython-input-23-a2eb39ceae79>:8: FutureWarning: 'M' is deprecated and will be removed in a future version, please use 'ME' instead.\n",
            "  slabBlackSea_df = slabBlackSea_df.resample('M')[['Low', 'Mid', 'High']].mean()\n"
          ]
        },
        {
          "output_type": "execute_result",
          "data": {
            "text/plain": [
              "               Date         Low         Mid        High\n",
              "0       August 1994  150.000000  155.000000  160.000000\n",
              "1    September 1994  150.000000  155.000000  160.000000\n",
              "2      October 1994  151.666667  173.333333  195.000000\n",
              "3     November 1994  155.000000  160.000000  165.000000\n",
              "4     December 1994  155.000000  160.000000  165.000000\n",
              "..              ...         ...         ...         ...\n",
              "363   November 2024  450.000000  457.500000  465.000000\n",
              "364   December 2024  420.000000  438.500000  457.000000\n",
              "365    January 2025  415.000000  430.375000  445.750000\n",
              "366   February 2025  422.750000  435.750000  448.750000\n",
              "367      March 2025  443.000000  453.333333  463.666667\n",
              "\n",
              "[368 rows x 4 columns]"
            ],
            "text/html": [
              "\n",
              "  <div id=\"df-3863b0d6-5f45-4107-beb7-a7bd7ab438b6\" class=\"colab-df-container\">\n",
              "    <div>\n",
              "<style scoped>\n",
              "    .dataframe tbody tr th:only-of-type {\n",
              "        vertical-align: middle;\n",
              "    }\n",
              "\n",
              "    .dataframe tbody tr th {\n",
              "        vertical-align: top;\n",
              "    }\n",
              "\n",
              "    .dataframe thead th {\n",
              "        text-align: right;\n",
              "    }\n",
              "</style>\n",
              "<table border=\"1\" class=\"dataframe\">\n",
              "  <thead>\n",
              "    <tr style=\"text-align: right;\">\n",
              "      <th></th>\n",
              "      <th>Date</th>\n",
              "      <th>Low</th>\n",
              "      <th>Mid</th>\n",
              "      <th>High</th>\n",
              "    </tr>\n",
              "  </thead>\n",
              "  <tbody>\n",
              "    <tr>\n",
              "      <th>0</th>\n",
              "      <td>August 1994</td>\n",
              "      <td>150.000000</td>\n",
              "      <td>155.000000</td>\n",
              "      <td>160.000000</td>\n",
              "    </tr>\n",
              "    <tr>\n",
              "      <th>1</th>\n",
              "      <td>September 1994</td>\n",
              "      <td>150.000000</td>\n",
              "      <td>155.000000</td>\n",
              "      <td>160.000000</td>\n",
              "    </tr>\n",
              "    <tr>\n",
              "      <th>2</th>\n",
              "      <td>October 1994</td>\n",
              "      <td>151.666667</td>\n",
              "      <td>173.333333</td>\n",
              "      <td>195.000000</td>\n",
              "    </tr>\n",
              "    <tr>\n",
              "      <th>3</th>\n",
              "      <td>November 1994</td>\n",
              "      <td>155.000000</td>\n",
              "      <td>160.000000</td>\n",
              "      <td>165.000000</td>\n",
              "    </tr>\n",
              "    <tr>\n",
              "      <th>4</th>\n",
              "      <td>December 1994</td>\n",
              "      <td>155.000000</td>\n",
              "      <td>160.000000</td>\n",
              "      <td>165.000000</td>\n",
              "    </tr>\n",
              "    <tr>\n",
              "      <th>...</th>\n",
              "      <td>...</td>\n",
              "      <td>...</td>\n",
              "      <td>...</td>\n",
              "      <td>...</td>\n",
              "    </tr>\n",
              "    <tr>\n",
              "      <th>363</th>\n",
              "      <td>November 2024</td>\n",
              "      <td>450.000000</td>\n",
              "      <td>457.500000</td>\n",
              "      <td>465.000000</td>\n",
              "    </tr>\n",
              "    <tr>\n",
              "      <th>364</th>\n",
              "      <td>December 2024</td>\n",
              "      <td>420.000000</td>\n",
              "      <td>438.500000</td>\n",
              "      <td>457.000000</td>\n",
              "    </tr>\n",
              "    <tr>\n",
              "      <th>365</th>\n",
              "      <td>January 2025</td>\n",
              "      <td>415.000000</td>\n",
              "      <td>430.375000</td>\n",
              "      <td>445.750000</td>\n",
              "    </tr>\n",
              "    <tr>\n",
              "      <th>366</th>\n",
              "      <td>February 2025</td>\n",
              "      <td>422.750000</td>\n",
              "      <td>435.750000</td>\n",
              "      <td>448.750000</td>\n",
              "    </tr>\n",
              "    <tr>\n",
              "      <th>367</th>\n",
              "      <td>March 2025</td>\n",
              "      <td>443.000000</td>\n",
              "      <td>453.333333</td>\n",
              "      <td>463.666667</td>\n",
              "    </tr>\n",
              "  </tbody>\n",
              "</table>\n",
              "<p>368 rows × 4 columns</p>\n",
              "</div>\n",
              "    <div class=\"colab-df-buttons\">\n",
              "\n",
              "  <div class=\"colab-df-container\">\n",
              "    <button class=\"colab-df-convert\" onclick=\"convertToInteractive('df-3863b0d6-5f45-4107-beb7-a7bd7ab438b6')\"\n",
              "            title=\"Convert this dataframe to an interactive table.\"\n",
              "            style=\"display:none;\">\n",
              "\n",
              "  <svg xmlns=\"http://www.w3.org/2000/svg\" height=\"24px\" viewBox=\"0 -960 960 960\">\n",
              "    <path d=\"M120-120v-720h720v720H120Zm60-500h600v-160H180v160Zm220 220h160v-160H400v160Zm0 220h160v-160H400v160ZM180-400h160v-160H180v160Zm440 0h160v-160H620v160ZM180-180h160v-160H180v160Zm440 0h160v-160H620v160Z\"/>\n",
              "  </svg>\n",
              "    </button>\n",
              "\n",
              "  <style>\n",
              "    .colab-df-container {\n",
              "      display:flex;\n",
              "      gap: 12px;\n",
              "    }\n",
              "\n",
              "    .colab-df-convert {\n",
              "      background-color: #E8F0FE;\n",
              "      border: none;\n",
              "      border-radius: 50%;\n",
              "      cursor: pointer;\n",
              "      display: none;\n",
              "      fill: #1967D2;\n",
              "      height: 32px;\n",
              "      padding: 0 0 0 0;\n",
              "      width: 32px;\n",
              "    }\n",
              "\n",
              "    .colab-df-convert:hover {\n",
              "      background-color: #E2EBFA;\n",
              "      box-shadow: 0px 1px 2px rgba(60, 64, 67, 0.3), 0px 1px 3px 1px rgba(60, 64, 67, 0.15);\n",
              "      fill: #174EA6;\n",
              "    }\n",
              "\n",
              "    .colab-df-buttons div {\n",
              "      margin-bottom: 4px;\n",
              "    }\n",
              "\n",
              "    [theme=dark] .colab-df-convert {\n",
              "      background-color: #3B4455;\n",
              "      fill: #D2E3FC;\n",
              "    }\n",
              "\n",
              "    [theme=dark] .colab-df-convert:hover {\n",
              "      background-color: #434B5C;\n",
              "      box-shadow: 0px 1px 3px 1px rgba(0, 0, 0, 0.15);\n",
              "      filter: drop-shadow(0px 1px 2px rgba(0, 0, 0, 0.3));\n",
              "      fill: #FFFFFF;\n",
              "    }\n",
              "  </style>\n",
              "\n",
              "    <script>\n",
              "      const buttonEl =\n",
              "        document.querySelector('#df-3863b0d6-5f45-4107-beb7-a7bd7ab438b6 button.colab-df-convert');\n",
              "      buttonEl.style.display =\n",
              "        google.colab.kernel.accessAllowed ? 'block' : 'none';\n",
              "\n",
              "      async function convertToInteractive(key) {\n",
              "        const element = document.querySelector('#df-3863b0d6-5f45-4107-beb7-a7bd7ab438b6');\n",
              "        const dataTable =\n",
              "          await google.colab.kernel.invokeFunction('convertToInteractive',\n",
              "                                                    [key], {});\n",
              "        if (!dataTable) return;\n",
              "\n",
              "        const docLinkHtml = 'Like what you see? Visit the ' +\n",
              "          '<a target=\"_blank\" href=https://colab.research.google.com/notebooks/data_table.ipynb>data table notebook</a>'\n",
              "          + ' to learn more about interactive tables.';\n",
              "        element.innerHTML = '';\n",
              "        dataTable['output_type'] = 'display_data';\n",
              "        await google.colab.output.renderOutput(dataTable, element);\n",
              "        const docLink = document.createElement('div');\n",
              "        docLink.innerHTML = docLinkHtml;\n",
              "        element.appendChild(docLink);\n",
              "      }\n",
              "    </script>\n",
              "  </div>\n",
              "\n",
              "\n",
              "<div id=\"df-09c38551-e751-4ba9-8c59-25f2d60ed587\">\n",
              "  <button class=\"colab-df-quickchart\" onclick=\"quickchart('df-09c38551-e751-4ba9-8c59-25f2d60ed587')\"\n",
              "            title=\"Suggest charts\"\n",
              "            style=\"display:none;\">\n",
              "\n",
              "<svg xmlns=\"http://www.w3.org/2000/svg\" height=\"24px\"viewBox=\"0 0 24 24\"\n",
              "     width=\"24px\">\n",
              "    <g>\n",
              "        <path d=\"M19 3H5c-1.1 0-2 .9-2 2v14c0 1.1.9 2 2 2h14c1.1 0 2-.9 2-2V5c0-1.1-.9-2-2-2zM9 17H7v-7h2v7zm4 0h-2V7h2v10zm4 0h-2v-4h2v4z\"/>\n",
              "    </g>\n",
              "</svg>\n",
              "  </button>\n",
              "\n",
              "<style>\n",
              "  .colab-df-quickchart {\n",
              "      --bg-color: #E8F0FE;\n",
              "      --fill-color: #1967D2;\n",
              "      --hover-bg-color: #E2EBFA;\n",
              "      --hover-fill-color: #174EA6;\n",
              "      --disabled-fill-color: #AAA;\n",
              "      --disabled-bg-color: #DDD;\n",
              "  }\n",
              "\n",
              "  [theme=dark] .colab-df-quickchart {\n",
              "      --bg-color: #3B4455;\n",
              "      --fill-color: #D2E3FC;\n",
              "      --hover-bg-color: #434B5C;\n",
              "      --hover-fill-color: #FFFFFF;\n",
              "      --disabled-bg-color: #3B4455;\n",
              "      --disabled-fill-color: #666;\n",
              "  }\n",
              "\n",
              "  .colab-df-quickchart {\n",
              "    background-color: var(--bg-color);\n",
              "    border: none;\n",
              "    border-radius: 50%;\n",
              "    cursor: pointer;\n",
              "    display: none;\n",
              "    fill: var(--fill-color);\n",
              "    height: 32px;\n",
              "    padding: 0;\n",
              "    width: 32px;\n",
              "  }\n",
              "\n",
              "  .colab-df-quickchart:hover {\n",
              "    background-color: var(--hover-bg-color);\n",
              "    box-shadow: 0 1px 2px rgba(60, 64, 67, 0.3), 0 1px 3px 1px rgba(60, 64, 67, 0.15);\n",
              "    fill: var(--button-hover-fill-color);\n",
              "  }\n",
              "\n",
              "  .colab-df-quickchart-complete:disabled,\n",
              "  .colab-df-quickchart-complete:disabled:hover {\n",
              "    background-color: var(--disabled-bg-color);\n",
              "    fill: var(--disabled-fill-color);\n",
              "    box-shadow: none;\n",
              "  }\n",
              "\n",
              "  .colab-df-spinner {\n",
              "    border: 2px solid var(--fill-color);\n",
              "    border-color: transparent;\n",
              "    border-bottom-color: var(--fill-color);\n",
              "    animation:\n",
              "      spin 1s steps(1) infinite;\n",
              "  }\n",
              "\n",
              "  @keyframes spin {\n",
              "    0% {\n",
              "      border-color: transparent;\n",
              "      border-bottom-color: var(--fill-color);\n",
              "      border-left-color: var(--fill-color);\n",
              "    }\n",
              "    20% {\n",
              "      border-color: transparent;\n",
              "      border-left-color: var(--fill-color);\n",
              "      border-top-color: var(--fill-color);\n",
              "    }\n",
              "    30% {\n",
              "      border-color: transparent;\n",
              "      border-left-color: var(--fill-color);\n",
              "      border-top-color: var(--fill-color);\n",
              "      border-right-color: var(--fill-color);\n",
              "    }\n",
              "    40% {\n",
              "      border-color: transparent;\n",
              "      border-right-color: var(--fill-color);\n",
              "      border-top-color: var(--fill-color);\n",
              "    }\n",
              "    60% {\n",
              "      border-color: transparent;\n",
              "      border-right-color: var(--fill-color);\n",
              "    }\n",
              "    80% {\n",
              "      border-color: transparent;\n",
              "      border-right-color: var(--fill-color);\n",
              "      border-bottom-color: var(--fill-color);\n",
              "    }\n",
              "    90% {\n",
              "      border-color: transparent;\n",
              "      border-bottom-color: var(--fill-color);\n",
              "    }\n",
              "  }\n",
              "</style>\n",
              "\n",
              "  <script>\n",
              "    async function quickchart(key) {\n",
              "      const quickchartButtonEl =\n",
              "        document.querySelector('#' + key + ' button');\n",
              "      quickchartButtonEl.disabled = true;  // To prevent multiple clicks.\n",
              "      quickchartButtonEl.classList.add('colab-df-spinner');\n",
              "      try {\n",
              "        const charts = await google.colab.kernel.invokeFunction(\n",
              "            'suggestCharts', [key], {});\n",
              "      } catch (error) {\n",
              "        console.error('Error during call to suggestCharts:', error);\n",
              "      }\n",
              "      quickchartButtonEl.classList.remove('colab-df-spinner');\n",
              "      quickchartButtonEl.classList.add('colab-df-quickchart-complete');\n",
              "    }\n",
              "    (() => {\n",
              "      let quickchartButtonEl =\n",
              "        document.querySelector('#df-09c38551-e751-4ba9-8c59-25f2d60ed587 button');\n",
              "      quickchartButtonEl.style.display =\n",
              "        google.colab.kernel.accessAllowed ? 'block' : 'none';\n",
              "    })();\n",
              "  </script>\n",
              "</div>\n",
              "\n",
              "  <div id=\"id_903bcf55-82de-46fd-8169-596a8c87720c\">\n",
              "    <style>\n",
              "      .colab-df-generate {\n",
              "        background-color: #E8F0FE;\n",
              "        border: none;\n",
              "        border-radius: 50%;\n",
              "        cursor: pointer;\n",
              "        display: none;\n",
              "        fill: #1967D2;\n",
              "        height: 32px;\n",
              "        padding: 0 0 0 0;\n",
              "        width: 32px;\n",
              "      }\n",
              "\n",
              "      .colab-df-generate:hover {\n",
              "        background-color: #E2EBFA;\n",
              "        box-shadow: 0px 1px 2px rgba(60, 64, 67, 0.3), 0px 1px 3px 1px rgba(60, 64, 67, 0.15);\n",
              "        fill: #174EA6;\n",
              "      }\n",
              "\n",
              "      [theme=dark] .colab-df-generate {\n",
              "        background-color: #3B4455;\n",
              "        fill: #D2E3FC;\n",
              "      }\n",
              "\n",
              "      [theme=dark] .colab-df-generate:hover {\n",
              "        background-color: #434B5C;\n",
              "        box-shadow: 0px 1px 3px 1px rgba(0, 0, 0, 0.15);\n",
              "        filter: drop-shadow(0px 1px 2px rgba(0, 0, 0, 0.3));\n",
              "        fill: #FFFFFF;\n",
              "      }\n",
              "    </style>\n",
              "    <button class=\"colab-df-generate\" onclick=\"generateWithVariable('slabBlackSea_df')\"\n",
              "            title=\"Generate code using this dataframe.\"\n",
              "            style=\"display:none;\">\n",
              "\n",
              "  <svg xmlns=\"http://www.w3.org/2000/svg\" height=\"24px\"viewBox=\"0 0 24 24\"\n",
              "       width=\"24px\">\n",
              "    <path d=\"M7,19H8.4L18.45,9,17,7.55,7,17.6ZM5,21V16.75L18.45,3.32a2,2,0,0,1,2.83,0l1.4,1.43a1.91,1.91,0,0,1,.58,1.4,1.91,1.91,0,0,1-.58,1.4L9.25,21ZM18.45,9,17,7.55Zm-12,3A5.31,5.31,0,0,0,4.9,8.1,5.31,5.31,0,0,0,1,6.5,5.31,5.31,0,0,0,4.9,4.9,5.31,5.31,0,0,0,6.5,1,5.31,5.31,0,0,0,8.1,4.9,5.31,5.31,0,0,0,12,6.5,5.46,5.46,0,0,0,6.5,12Z\"/>\n",
              "  </svg>\n",
              "    </button>\n",
              "    <script>\n",
              "      (() => {\n",
              "      const buttonEl =\n",
              "        document.querySelector('#id_903bcf55-82de-46fd-8169-596a8c87720c button.colab-df-generate');\n",
              "      buttonEl.style.display =\n",
              "        google.colab.kernel.accessAllowed ? 'block' : 'none';\n",
              "\n",
              "      buttonEl.onclick = () => {\n",
              "        google.colab.notebook.generateWithVariable('slabBlackSea_df');\n",
              "      }\n",
              "      })();\n",
              "    </script>\n",
              "  </div>\n",
              "\n",
              "    </div>\n",
              "  </div>\n"
            ],
            "application/vnd.google.colaboratory.intrinsic+json": {
              "type": "dataframe",
              "variable_name": "slabBlackSea_df",
              "summary": "{\n  \"name\": \"slabBlackSea_df\",\n  \"rows\": 368,\n  \"fields\": [\n    {\n      \"column\": \"Date\",\n      \"properties\": {\n        \"dtype\": \"object\",\n        \"num_unique_values\": 368,\n        \"samples\": [\n          \"May 2008\",\n          \"May 1997\",\n          \"November 1995\"\n        ],\n        \"semantic_type\": \"\",\n        \"description\": \"\"\n      }\n    },\n    {\n      \"column\": \"Low\",\n      \"properties\": {\n        \"dtype\": \"number\",\n        \"std\": 183.38810701683195,\n        \"min\": 129.75,\n        \"max\": 1055.0,\n        \"num_unique_values\": 228,\n        \"samples\": [\n          426.25,\n          285.0,\n          197.5\n        ],\n        \"semantic_type\": \"\",\n        \"description\": \"\"\n      }\n    },\n    {\n      \"column\": \"Mid\",\n      \"properties\": {\n        \"dtype\": \"number\",\n        \"std\": 185.4204191577276,\n        \"min\": 133.625,\n        \"max\": 1085.0,\n        \"num_unique_values\": 272,\n        \"samples\": [\n          170.83333333333334,\n          632.5,\n          490.5\n        ],\n        \"semantic_type\": \"\",\n        \"description\": \"\"\n      }\n    },\n    {\n      \"column\": \"High\",\n      \"properties\": {\n        \"dtype\": \"number\",\n        \"std\": 187.83350182732056,\n        \"min\": 137.5,\n        \"max\": 1115.0,\n        \"num_unique_values\": 230,\n        \"samples\": [\n          493.75,\n          320.0,\n          202.5\n        ],\n        \"semantic_type\": \"\",\n        \"description\": \"\"\n      }\n    }\n  ]\n}"
            }
          },
          "metadata": {},
          "execution_count": 23
        }
      ]
    },
    {
      "cell_type": "markdown",
      "source": [
        "Ahora son 368 filas y 4 columnas."
      ],
      "metadata": {
        "id": "5p0Kmf8mlIrC"
      }
    },
    {
      "cell_type": "markdown",
      "source": [
        "#### Calidad de los datos"
      ],
      "metadata": {
        "id": "JGMP9n3LfBnd"
      }
    },
    {
      "cell_type": "code",
      "source": [
        "# Contar datos nulos de cada columna:\n",
        "valores_nulos_por_columna = slabBlackSea_df.isnull().sum()\n",
        "valores_nulos_por_columna.name = 'Valores Nulos'\n",
        "valores_nulos_por_columna"
      ],
      "metadata": {
        "colab": {
          "base_uri": "https://localhost:8080/",
          "height": 210
        },
        "id": "TM2SbdogfC5Q",
        "outputId": "ab52cd6e-c395-4360-e537-86a711e80353"
      },
      "execution_count": 24,
      "outputs": [
        {
          "output_type": "execute_result",
          "data": {
            "text/plain": [
              "Date    0\n",
              "Low     0\n",
              "Mid     0\n",
              "High    0\n",
              "Name: Valores Nulos, dtype: int64"
            ],
            "text/html": [
              "<div>\n",
              "<style scoped>\n",
              "    .dataframe tbody tr th:only-of-type {\n",
              "        vertical-align: middle;\n",
              "    }\n",
              "\n",
              "    .dataframe tbody tr th {\n",
              "        vertical-align: top;\n",
              "    }\n",
              "\n",
              "    .dataframe thead th {\n",
              "        text-align: right;\n",
              "    }\n",
              "</style>\n",
              "<table border=\"1\" class=\"dataframe\">\n",
              "  <thead>\n",
              "    <tr style=\"text-align: right;\">\n",
              "      <th></th>\n",
              "      <th>Valores Nulos</th>\n",
              "    </tr>\n",
              "  </thead>\n",
              "  <tbody>\n",
              "    <tr>\n",
              "      <th>Date</th>\n",
              "      <td>0</td>\n",
              "    </tr>\n",
              "    <tr>\n",
              "      <th>Low</th>\n",
              "      <td>0</td>\n",
              "    </tr>\n",
              "    <tr>\n",
              "      <th>Mid</th>\n",
              "      <td>0</td>\n",
              "    </tr>\n",
              "    <tr>\n",
              "      <th>High</th>\n",
              "      <td>0</td>\n",
              "    </tr>\n",
              "  </tbody>\n",
              "</table>\n",
              "</div><br><label><b>dtype:</b> int64</label>"
            ]
          },
          "metadata": {},
          "execution_count": 24
        }
      ]
    },
    {
      "cell_type": "markdown",
      "source": [
        "Los valores nulos no existen en este dataframe."
      ],
      "metadata": {
        "id": "VwikOsuxfKXw"
      }
    },
    {
      "cell_type": "code",
      "source": [
        "# Contar registros duplicados:\n",
        "num_duplicados = slabBlackSea_df.duplicated().sum()\n",
        "print(f\"Número de registros duplicados: {num_duplicados}\")\n",
        "\n",
        "# Visualizar los registros duplicados (si existen):\n",
        "if num_duplicados > 0:\n",
        "    duplicados = slabBlackSea_df[slabBlackSea_df.duplicated()]\n",
        "    print(\"Registros duplicados:\")\n",
        "    print(duplicados)"
      ],
      "metadata": {
        "colab": {
          "base_uri": "https://localhost:8080/"
        },
        "id": "-P0WgrpEhTqG",
        "outputId": "baefb629-8f66-48df-f4ee-fdde6aec51b8"
      },
      "execution_count": 25,
      "outputs": [
        {
          "output_type": "stream",
          "name": "stdout",
          "text": [
            "Número de registros duplicados: 0\n"
          ]
        }
      ]
    },
    {
      "cell_type": "code",
      "source": [
        "# Detectar registros con valores fuera del rango esperado:\n",
        "erroneos = slabBlackSea_df[(slabBlackSea_df['Low'] < 0) | (slabBlackSea_df['Mid'] < 0) | (slabBlackSea_df['High'] < 0)]\n",
        "print(\"Registros con valores erróneos en 'Low':\")\n",
        "print(erroneos)"
      ],
      "metadata": {
        "colab": {
          "base_uri": "https://localhost:8080/"
        },
        "id": "BWZG05U5hlRP",
        "outputId": "55b55e2c-de3b-435b-a237-adfbd3afcaf6"
      },
      "execution_count": 26,
      "outputs": [
        {
          "output_type": "stream",
          "name": "stdout",
          "text": [
            "Registros con valores erróneos en 'Low':\n",
            "Empty DataFrame\n",
            "Columns: [Date, Low, Mid, High]\n",
            "Index: []\n"
          ]
        }
      ]
    },
    {
      "cell_type": "markdown",
      "source": [
        "Los precios están dentro del rango correcto."
      ],
      "metadata": {
        "id": "Hr-UBG-2h5oZ"
      }
    },
    {
      "cell_type": "code",
      "source": [
        "slabBlackSea_df.dtypes # Tipos de dato."
      ],
      "metadata": {
        "colab": {
          "base_uri": "https://localhost:8080/",
          "height": 210
        },
        "id": "41ggyELhhxl3",
        "outputId": "c6c0cf1f-1da1-426f-d391-9f8debbb0857"
      },
      "execution_count": 27,
      "outputs": [
        {
          "output_type": "execute_result",
          "data": {
            "text/plain": [
              "Date     object\n",
              "Low     float64\n",
              "Mid     float64\n",
              "High    float64\n",
              "dtype: object"
            ],
            "text/html": [
              "<div>\n",
              "<style scoped>\n",
              "    .dataframe tbody tr th:only-of-type {\n",
              "        vertical-align: middle;\n",
              "    }\n",
              "\n",
              "    .dataframe tbody tr th {\n",
              "        vertical-align: top;\n",
              "    }\n",
              "\n",
              "    .dataframe thead th {\n",
              "        text-align: right;\n",
              "    }\n",
              "</style>\n",
              "<table border=\"1\" class=\"dataframe\">\n",
              "  <thead>\n",
              "    <tr style=\"text-align: right;\">\n",
              "      <th></th>\n",
              "      <th>0</th>\n",
              "    </tr>\n",
              "  </thead>\n",
              "  <tbody>\n",
              "    <tr>\n",
              "      <th>Date</th>\n",
              "      <td>object</td>\n",
              "    </tr>\n",
              "    <tr>\n",
              "      <th>Low</th>\n",
              "      <td>float64</td>\n",
              "    </tr>\n",
              "    <tr>\n",
              "      <th>Mid</th>\n",
              "      <td>float64</td>\n",
              "    </tr>\n",
              "    <tr>\n",
              "      <th>High</th>\n",
              "      <td>float64</td>\n",
              "    </tr>\n",
              "  </tbody>\n",
              "</table>\n",
              "</div><br><label><b>dtype:</b> object</label>"
            ]
          },
          "metadata": {},
          "execution_count": 27
        }
      ]
    },
    {
      "cell_type": "markdown",
      "source": [
        "Todos los datos tienen el tipo correcto."
      ],
      "metadata": {
        "id": "pi_G7q-8h1w1"
      }
    },
    {
      "cell_type": "markdown",
      "source": [
        "#### Medidas estadísticas"
      ],
      "metadata": {
        "id": "pK0qZ-TMhChF"
      }
    },
    {
      "cell_type": "code",
      "source": [
        "# Lista de columnas cuantitativas:\n",
        "numeric_columns = ['Low', 'Mid', 'High']\n",
        "\n",
        "for col in numeric_columns:\n",
        "    print(f\"Variable: {col}\")\n",
        "    # Medidas de tendencia central:\n",
        "    media = slabBlackSea_df[col].mean()\n",
        "    mediana = slabBlackSea_df[col].median()\n",
        "    # La moda puede devolver más de un valor, por eso se imprime como Series:\n",
        "    moda = slabBlackSea_df[col].mode()\n",
        "\n",
        "    # Medidas de dispersión:\n",
        "    rango = slabBlackSea_df[col].max() - slabBlackSea_df[col].min()\n",
        "    varianza = slabBlackSea_df[col].var()\n",
        "    desv_estandar = slabBlackSea_df[col].std()\n",
        "\n",
        "    print(f\"  Promedio/Media: {media}\")\n",
        "    print(f\"  Mediana: {mediana}\")\n",
        "    print(f\"  Moda: {list(moda)}\") # Serie a lista para mayor claridad.\n",
        "    print(f\"  Rango (max - min): {rango}\")\n",
        "    print(f\"  Varianza: {varianza}\")\n",
        "    print(f\"  Desviación Estándar: {desv_estandar}\\n\")"
      ],
      "metadata": {
        "colab": {
          "base_uri": "https://localhost:8080/"
        },
        "id": "BP1wAROJX9ur",
        "outputId": "3e2e78df-f8fd-41b6-bf60-9ededaead471"
      },
      "execution_count": 28,
      "outputs": [
        {
          "output_type": "stream",
          "name": "stdout",
          "text": [
            "Variable: Low\n",
            "  Promedio/Media: 387.7401721014493\n",
            "  Mediana: 410.0\n",
            "  Moda: [135.0, 190.0]\n",
            "  Rango (max - min): 925.25\n",
            "  Varianza: 33631.19779521701\n",
            "  Desviación Estándar: 183.38810701683195\n",
            "\n",
            "Variable: Mid\n",
            "  Promedio/Media: 398.5550174689441\n",
            "  Mediana: 422.1875\n",
            "  Moda: [140.0]\n",
            "  Rango (max - min): 951.375\n",
            "  Varianza: 34380.73184062739\n",
            "  Desviación Estándar: 185.4204191577276\n",
            "\n",
            "Variable: High\n",
            "  Promedio/Media: 409.369862836439\n",
            "  Mediana: 426.875\n",
            "  Moda: [230.0]\n",
            "  Rango (max - min): 977.5\n",
            "  Varianza: 35281.42440871404\n",
            "  Desviación Estándar: 187.83350182732056\n",
            "\n"
          ]
        }
      ]
    },
    {
      "cell_type": "markdown",
      "source": [
        "Cada variable tiene sus medidas de tendencia central y dispersión en un rango cercano, 'Low' es bimodal."
      ],
      "metadata": {
        "id": "60152uoLlzrA"
      }
    },
    {
      "cell_type": "code",
      "source": [
        "# Tabla de distribución de frecuencia para la variable 'Date':\n",
        "frecuencia_date = slabBlackSea_df['Date'].value_counts().sort_index()\n",
        "print(\"Tabla de distribución de frecuencia (Date):\")\n",
        "print(frecuencia_date)\n",
        "print(\"\\n\")\n",
        "\n",
        "# Ahora, calcular la mediana de la columna 'Date':\n",
        "median_date = pd.to_datetime(slabBlackSea_df['Date'], dayfirst=True).median()\n",
        "\n",
        "# Mostrar la mediana formateada:\n",
        "print(\"Mediana de las fechas:\", median_date.strftime(\"%B %Y\"))"
      ],
      "metadata": {
        "colab": {
          "base_uri": "https://localhost:8080/"
        },
        "id": "eUEun_pUZ0JD",
        "outputId": "67db3e0c-de76-4cb1-b153-dc2381faaed2"
      },
      "execution_count": 29,
      "outputs": [
        {
          "output_type": "stream",
          "name": "stdout",
          "text": [
            "Tabla de distribución de frecuencia (Date):\n",
            "Date\n",
            "April 1995        1\n",
            "April 1996        1\n",
            "April 1997        1\n",
            "April 1998        1\n",
            "April 1999        1\n",
            "                 ..\n",
            "September 2020    1\n",
            "September 2021    1\n",
            "September 2022    1\n",
            "September 2023    1\n",
            "September 2024    1\n",
            "Name: count, Length: 368, dtype: int64\n",
            "\n",
            "\n",
            "Mediana de las fechas: November 2009\n"
          ]
        },
        {
          "output_type": "stream",
          "name": "stderr",
          "text": [
            "<ipython-input-29-8aff8c8e6371>:8: UserWarning: Could not infer format, so each element will be parsed individually, falling back to `dateutil`. To ensure parsing is consistent and as-expected, please specify a format.\n",
            "  median_date = pd.to_datetime(slabBlackSea_df['Date'], dayfirst=True).median()\n"
          ]
        }
      ]
    },
    {
      "cell_type": "markdown",
      "source": [
        "Cada fecha es única."
      ],
      "metadata": {
        "id": "dAzG0OjrltQ3"
      }
    },
    {
      "cell_type": "markdown",
      "source": [
        "##### Exploración de datos"
      ],
      "metadata": {
        "id": "uQz2ArF9hM7Y"
      }
    },
    {
      "cell_type": "code",
      "source": [
        "# Cuartiles, medidas de posición no-central (no solo la mediana) y detección de outliers:\n",
        "print(\"Medidas de posición y dispersión (para variables numéricas):\")\n",
        "for col in ['Low', 'Mid', 'High']:\n",
        "    Q1 = slabBlackSea_df[col].quantile(0.25)\n",
        "    Q3 = slabBlackSea_df[col].quantile(0.75)\n",
        "    IQR = Q3 - Q1\n",
        "    outliers = slabBlackSea_df[(slabBlackSea_df[col] < (Q1 - 1.5 * IQR)) | (slabBlackSea_df[col] > (Q3 + 1.5 * IQR))][col]\n",
        "\n",
        "    print(f\"\\nVariable: {col}\")\n",
        "    print(f\"  Cuartil 1 (Q1): {Q1}\")\n",
        "    print(f\"  Cuartil 3 (Q3): {Q3}\")\n",
        "    print(f\"  IQR: {IQR}\")\n",
        "    print(f\"  Outliers detectados: {list(outliers)}\")"
      ],
      "metadata": {
        "colab": {
          "base_uri": "https://localhost:8080/"
        },
        "id": "0n8-Iggxdwqh",
        "outputId": "0a32f796-274f-4592-c031-fe7a8093c749"
      },
      "execution_count": 30,
      "outputs": [
        {
          "output_type": "stream",
          "name": "stdout",
          "text": [
            "Medidas de posición y dispersión (para variables numéricas):\n",
            "\n",
            "Variable: Low\n",
            "  Cuartil 1 (Q1): 211.5\n",
            "  Cuartil 3 (Q3): 495.0\n",
            "  IQR: 283.5\n",
            "  Outliers detectados: [991.25, 1055.0, 1055.0, 923.75]\n",
            "\n",
            "Variable: Mid\n",
            "  Cuartil 1 (Q1): 217.34375\n",
            "  Cuartil 3 (Q3): 507.5\n",
            "  IQR: 290.15625\n",
            "  Outliers detectados: [945.0, 1028.75, 1085.0, 1085.0]\n",
            "\n",
            "Variable: High\n",
            "  Cuartil 1 (Q1): 230.0\n",
            "  Cuartil 3 (Q3): 520.0\n",
            "  IQR: 290.0\n",
            "  Outliers detectados: [970.0, 1066.25, 1115.0, 1115.0]\n"
          ]
        }
      ]
    },
    {
      "cell_type": "markdown",
      "source": [
        "Cada variable tiene sus medidas de posición en un rango similar."
      ],
      "metadata": {
        "id": "RWLwRdRImG3N"
      }
    },
    {
      "cell_type": "code",
      "source": [
        "# Boxplots para visualizar la distribución y detectar outliers:\n",
        "plt.figure(figsize=(12, 6))\n",
        "plt.suptitle(\"Boxplots de variables cuantitativas\", fontsize=16)\n",
        "for i, col in enumerate(['Low', 'Mid', 'High'], 1):\n",
        "    plt.subplot(2, 2, i)\n",
        "    sns.boxplot(y=slabBlackSea_df[col])\n",
        "    plt.title(col)\n",
        "plt.tight_layout(rect=[0, 0, 1, 0.95])\n",
        "plt.show()"
      ],
      "metadata": {
        "colab": {
          "base_uri": "https://localhost:8080/",
          "height": 609
        },
        "id": "F9HMe6Itiznd",
        "outputId": "486f9ee7-21b4-43ae-8600-3a3a85bda8aa"
      },
      "execution_count": 31,
      "outputs": [
        {
          "output_type": "display_data",
          "data": {
            "text/plain": [
              "<Figure size 1200x600 with 3 Axes>"
            ],
            "image/png": "[encoded data removed]"
          },
          "metadata": {}
        }
      ]
    },
    {
      "cell_type": "markdown",
      "source": [
        "Se observa en los boxplots que los datos atípicos se encuentran en los valores altos y que el tercer cuartil está más cerca de la mediana que el primer cuartil."
      ],
      "metadata": {
        "id": "UYQdkk-YndCV"
      }
    },
    {
      "cell_type": "code",
      "source": [
        "# Histogramas para analizar la distribución y ver la forma (simétrica/asimétrica):\n",
        "plt.figure(figsize=(12, 8))\n",
        "plt.suptitle(\"Histogramas de variables cuantitativas\", fontsize=16)\n",
        "for i, col in enumerate(['Low', 'Mid', 'High'], 1):\n",
        "    plt.subplot(2, 2, i)\n",
        "    sns.histplot(slabBlackSea_df[col], kde=True, bins=53)\n",
        "    plt.title(col)\n",
        "plt.tight_layout(rect=[0, 0, 1, 0.93])\n",
        "plt.show()"
      ],
      "metadata": {
        "colab": {
          "base_uri": "https://localhost:8080/",
          "height": 805
        },
        "id": "_3jwemjZkodp",
        "outputId": "618e26cf-0de5-46b4-b1ff-68c4163401f9"
      },
      "execution_count": 32,
      "outputs": [
        {
          "output_type": "display_data",
          "data": {
            "text/plain": [
              "<Figure size 1200x800 with 3 Axes>"
            ],
            "image/png": "[encoded data removed]"
          },
          "metadata": {}
        }
      ]
    },
    {
      "cell_type": "markdown",
      "source": [
        "Se observa un ligero sesgo a la izquierda en la distribución, pues los datos más altos se agrupan más cerca de la mediana."
      ],
      "metadata": {
        "id": "tSjRHCCkn1NV"
      }
    },
    {
      "cell_type": "code",
      "source": [
        "# Mapa de calor de la correlación entre variables numéricas:\n",
        "plt.figure(figsize=(8, 6))\n",
        "corr_matrix = slabBlackSea_df[['Low', 'Mid', 'High']].corr()\n",
        "sns.heatmap(corr_matrix, annot=True, cmap=\"coolwarm\", fmt=\".2f\")\n",
        "plt.title(\"Mapa de calor de correlación\")\n",
        "plt.show()"
      ],
      "metadata": {
        "colab": {
          "base_uri": "https://localhost:8080/",
          "height": 545
        },
        "id": "feNFn3oSmJIc",
        "outputId": "a89644dc-e9fa-4799-b0d8-0db1f8338a3b"
      },
      "execution_count": 33,
      "outputs": [
        {
          "output_type": "display_data",
          "data": {
            "text/plain": [
              "<Figure size 800x600 with 2 Axes>"
            ],
            "image/png": "[encoded data removed]"
          },
          "metadata": {}
        }
      ]
    },
    {
      "cell_type": "markdown",
      "source": [
        "Todas las variables tienen una casi correlación perfecta positiva."
      ],
      "metadata": {
        "id": "o6hRykjfqUvL"
      }
    },
    {
      "cell_type": "markdown",
      "source": [
        "Cada fecha es única, así que si se quieren ver distribuciones de la variable que no sean uniformes para obtener gráficos de barras y de pastel más interesantes, se puede realizar transformaciones a la variable 'Date'."
      ],
      "metadata": {
        "id": "yncv5F1rsKph"
      }
    },
    {
      "cell_type": "markdown",
      "source": [
        "#### Exportación de los datos"
      ],
      "metadata": {
        "id": "rz4qIEbIsw--"
      }
    },
    {
      "cell_type": "code",
      "source": [
        "# Exportar a CSV:\n",
        "slabBlackSea_df.to_csv('slabBlackSea.csv', index=False)"
      ],
      "metadata": {
        "id": "xtMkuC-HtwJd"
      },
      "execution_count": 34,
      "outputs": []
    }
  ]
}
