{
  "nbformat": 4,
  "nbformat_minor": 0,
  "metadata": {
    "colab": {
      "provenance": []
    },
    "kernelspec": {
      "name": "python3",
      "display_name": "Python 3"
    },
    "language_info": {
      "name": "python"
    }
  },
  "cells": [
    {
      "cell_type": "markdown",
      "source": [
        "# Etapa 2 - Conociendo los datos\n",
        "## Histórico de Precios: Productos Terminados\n",
        "### Plate (Placa de Hoja)\n",
        "El conjunto de datos se refiere al precio de placas de acero al carbono cortadas a medida, bajo condiciones FOB (Free on Board) en molino en los Estados Unidos. Estas placas son utilizadas en diversas aplicaciones industriales y estructurales."
      ],
      "metadata": {
        "id": "dIOgzUGVjCvh"
      }
    },
    {
      "cell_type": "markdown",
      "source": [
        "#### Variables\n",
        "- $Date$: Fecha en que se registró el precio del producto. Es categórica y sus valores posibles están en formato \"d/m/aaaa\", desde el primer registro hasta el presente.\n",
        "- $Low$: Precio más bajo registrado para el producto en la fecha especificada. Es numérica y sus valores posibles están en dólares estadounidenses por quintal (cwt), desde 0 hasta el máximo registrado.\n",
        "- $Mid$: Precio medio registrado para el producto en la fecha especificada. Es numérica y sus valores posibles están en dólares estadounidenses por quintal (cwt), desde 0 hasta el máximo registrado.\n",
        "- $High$: Precio más alto registrado para el producto en la fecha especificada. Es numérica y sus valores posibles están en dólares estadounidenses por quintal (cwt), desde 0 hasta el máximo registrado.\n",
        "- $Mid$ $Change$ $\\%$: Cambio porcentual en el precio medio en comparación con el período anterior (nuevo-anterior)/anterior. Es numérica y sus valores posibles están enre -1 (-100%) y el máximo cambio positivo registrado."
      ],
      "metadata": {
        "id": "jgvK0TmArGxP"
      }
    },
    {
      "cell_type": "markdown",
      "source": [
        "#### Librerías"
      ],
      "metadata": {
        "id": "xe1oKRRgkVcv"
      }
    },
    {
      "cell_type": "code",
      "source": [
        "import pandas as pd # Análisis de datos.\n",
        "import matplotlib.pyplot as plt # Gráficos.\n",
        "import seaborn as sns # Formato de los gráficos."
      ],
      "metadata": {
        "id": "6XO4m0RRa5_K"
      },
      "execution_count": null,
      "outputs": []
    },
    {
      "cell_type": "markdown",
      "source": [
        "#### Comprensión de los datos"
      ],
      "metadata": {
        "id": "MIc0D_JXtgpt"
      }
    },
    {
      "cell_type": "code",
      "execution_count": null,
      "metadata": {
        "colab": {
          "base_uri": "https://localhost:8080/",
          "height": 424
        },
        "id": "DLIX0XiXaM3E",
        "outputId": "331df052-1dfc-4c94-b063-4bef43102bd7"
      },
      "outputs": [
        {
          "output_type": "execute_result",
          "data": {
            "text/plain": [
              "           Date   Low   Mid  High  Mid Change %\n",
              "0     18/3/2025  60.0  60.0  60.0      0.000000\n",
              "1     11/3/2025  60.0  60.0  60.0      0.000000\n",
              "2      4/3/2025  60.0  60.0  60.0      0.132075\n",
              "3     25/2/2025  53.0  53.0  53.0      0.177778\n",
              "4     18/2/2025  45.0  45.0  45.0      0.000000\n",
              "..          ...   ...   ...   ...           ...\n",
              "656  21/12/2000  12.0  12.0  12.0     -0.250000\n",
              "657    6/4/2000  16.0  16.0  16.0      0.066667\n",
              "658   21/9/1999  15.0  15.0  15.0     -0.117647\n",
              "659   19/3/1999  17.0  17.0  17.0      0.000000\n",
              "660    5/2/1999  17.0  17.0  17.0           NaN\n",
              "\n",
              "[661 rows x 5 columns]"
            ],
            "text/html": [
              "\n",
              "  <div id=\"df-bce40eb2-3214-4cf4-8ab1-fc1154f0e774\" class=\"colab-df-container\">\n",
              "    <div>\n",
              "<style scoped>\n",
              "    .dataframe tbody tr th:only-of-type {\n",
              "        vertical-align: middle;\n",
              "    }\n",
              "\n",
              "    .dataframe tbody tr th {\n",
              "        vertical-align: top;\n",
              "    }\n",
              "\n",
              "    .dataframe thead th {\n",
              "        text-align: right;\n",
              "    }\n",
              "</style>\n",
              "<table border=\"1\" class=\"dataframe\">\n",
              "  <thead>\n",
              "    <tr style=\"text-align: right;\">\n",
              "      <th></th>\n",
              "      <th>Date</th>\n",
              "      <th>Low</th>\n",
              "      <th>Mid</th>\n",
              "      <th>High</th>\n",
              "      <th>Mid Change %</th>\n",
              "    </tr>\n",
              "  </thead>\n",
              "  <tbody>\n",
              "    <tr>\n",
              "      <th>0</th>\n",
              "      <td>18/3/2025</td>\n",
              "      <td>60.0</td>\n",
              "      <td>60.0</td>\n",
              "      <td>60.0</td>\n",
              "      <td>0.000000</td>\n",
              "    </tr>\n",
              "    <tr>\n",
              "      <th>1</th>\n",
              "      <td>11/3/2025</td>\n",
              "      <td>60.0</td>\n",
              "      <td>60.0</td>\n",
              "      <td>60.0</td>\n",
              "      <td>0.000000</td>\n",
              "    </tr>\n",
              "    <tr>\n",
              "      <th>2</th>\n",
              "      <td>4/3/2025</td>\n",
              "      <td>60.0</td>\n",
              "      <td>60.0</td>\n",
              "      <td>60.0</td>\n",
              "      <td>0.132075</td>\n",
              "    </tr>\n",
              "    <tr>\n",
              "      <th>3</th>\n",
              "      <td>25/2/2025</td>\n",
              "      <td>53.0</td>\n",
              "      <td>53.0</td>\n",
              "      <td>53.0</td>\n",
              "      <td>0.177778</td>\n",
              "    </tr>\n",
              "    <tr>\n",
              "      <th>4</th>\n",
              "      <td>18/2/2025</td>\n",
              "      <td>45.0</td>\n",
              "      <td>45.0</td>\n",
              "      <td>45.0</td>\n",
              "      <td>0.000000</td>\n",
              "    </tr>\n",
              "    <tr>\n",
              "      <th>...</th>\n",
              "      <td>...</td>\n",
              "      <td>...</td>\n",
              "      <td>...</td>\n",
              "      <td>...</td>\n",
              "      <td>...</td>\n",
              "    </tr>\n",
              "    <tr>\n",
              "      <th>656</th>\n",
              "      <td>21/12/2000</td>\n",
              "      <td>12.0</td>\n",
              "      <td>12.0</td>\n",
              "      <td>12.0</td>\n",
              "      <td>-0.250000</td>\n",
              "    </tr>\n",
              "    <tr>\n",
              "      <th>657</th>\n",
              "      <td>6/4/2000</td>\n",
              "      <td>16.0</td>\n",
              "      <td>16.0</td>\n",
              "      <td>16.0</td>\n",
              "      <td>0.066667</td>\n",
              "    </tr>\n",
              "    <tr>\n",
              "      <th>658</th>\n",
              "      <td>21/9/1999</td>\n",
              "      <td>15.0</td>\n",
              "      <td>15.0</td>\n",
              "      <td>15.0</td>\n",
              "      <td>-0.117647</td>\n",
              "    </tr>\n",
              "    <tr>\n",
              "      <th>659</th>\n",
              "      <td>19/3/1999</td>\n",
              "      <td>17.0</td>\n",
              "      <td>17.0</td>\n",
              "      <td>17.0</td>\n",
              "      <td>0.000000</td>\n",
              "    </tr>\n",
              "    <tr>\n",
              "      <th>660</th>\n",
              "      <td>5/2/1999</td>\n",
              "      <td>17.0</td>\n",
              "      <td>17.0</td>\n",
              "      <td>17.0</td>\n",
              "      <td>NaN</td>\n",
              "    </tr>\n",
              "  </tbody>\n",
              "</table>\n",
              "<p>661 rows × 5 columns</p>\n",
              "</div>\n",
              "    <div class=\"colab-df-buttons\">\n",
              "\n",
              "  <div class=\"colab-df-container\">\n",
              "    <button class=\"colab-df-convert\" onclick=\"convertToInteractive('df-bce40eb2-3214-4cf4-8ab1-fc1154f0e774')\"\n",
              "            title=\"Convert this dataframe to an interactive table.\"\n",
              "            style=\"display:none;\">\n",
              "\n",
              "  <svg xmlns=\"http://www.w3.org/2000/svg\" height=\"24px\" viewBox=\"0 -960 960 960\">\n",
              "    <path d=\"M120-120v-720h720v720H120Zm60-500h600v-160H180v160Zm220 220h160v-160H400v160Zm0 220h160v-160H400v160ZM180-400h160v-160H180v160Zm440 0h160v-160H620v160ZM180-180h160v-160H180v160Zm440 0h160v-160H620v160Z\"/>\n",
              "  </svg>\n",
              "    </button>\n",
              "\n",
              "  <style>\n",
              "    .colab-df-container {\n",
              "      display:flex;\n",
              "      gap: 12px;\n",
              "    }\n",
              "\n",
              "    .colab-df-convert {\n",
              "      background-color: #E8F0FE;\n",
              "      border: none;\n",
              "      border-radius: 50%;\n",
              "      cursor: pointer;\n",
              "      display: none;\n",
              "      fill: #1967D2;\n",
              "      height: 32px;\n",
              "      padding: 0 0 0 0;\n",
              "      width: 32px;\n",
              "    }\n",
              "\n",
              "    .colab-df-convert:hover {\n",
              "      background-color: #E2EBFA;\n",
              "      box-shadow: 0px 1px 2px rgba(60, 64, 67, 0.3), 0px 1px 3px 1px rgba(60, 64, 67, 0.15);\n",
              "      fill: #174EA6;\n",
              "    }\n",
              "\n",
              "    .colab-df-buttons div {\n",
              "      margin-bottom: 4px;\n",
              "    }\n",
              "\n",
              "    [theme=dark] .colab-df-convert {\n",
              "      background-color: #3B4455;\n",
              "      fill: #D2E3FC;\n",
              "    }\n",
              "\n",
              "    [theme=dark] .colab-df-convert:hover {\n",
              "      background-color: #434B5C;\n",
              "      box-shadow: 0px 1px 3px 1px rgba(0, 0, 0, 0.15);\n",
              "      filter: drop-shadow(0px 1px 2px rgba(0, 0, 0, 0.3));\n",
              "      fill: #FFFFFF;\n",
              "    }\n",
              "  </style>\n",
              "\n",
              "    <script>\n",
              "      const buttonEl =\n",
              "        document.querySelector('#df-bce40eb2-3214-4cf4-8ab1-fc1154f0e774 button.colab-df-convert');\n",
              "      buttonEl.style.display =\n",
              "        google.colab.kernel.accessAllowed ? 'block' : 'none';\n",
              "\n",
              "      async function convertToInteractive(key) {\n",
              "        const element = document.querySelector('#df-bce40eb2-3214-4cf4-8ab1-fc1154f0e774');\n",
              "        const dataTable =\n",
              "          await google.colab.kernel.invokeFunction('convertToInteractive',\n",
              "                                                    [key], {});\n",
              "        if (!dataTable) return;\n",
              "\n",
              "        const docLinkHtml = 'Like what you see? Visit the ' +\n",
              "          '<a target=\"_blank\" href=https://colab.research.google.com/notebooks/data_table.ipynb>data table notebook</a>'\n",
              "          + ' to learn more about interactive tables.';\n",
              "        element.innerHTML = '';\n",
              "        dataTable['output_type'] = 'display_data';\n",
              "        await google.colab.output.renderOutput(dataTable, element);\n",
              "        const docLink = document.createElement('div');\n",
              "        docLink.innerHTML = docLinkHtml;\n",
              "        element.appendChild(docLink);\n",
              "      }\n",
              "    </script>\n",
              "  </div>\n",
              "\n",
              "\n",
              "<div id=\"df-cb5ed878-8766-4c5f-bec8-e3c73e507230\">\n",
              "  <button class=\"colab-df-quickchart\" onclick=\"quickchart('df-cb5ed878-8766-4c5f-bec8-e3c73e507230')\"\n",
              "            title=\"Suggest charts\"\n",
              "            style=\"display:none;\">\n",
              "\n",
              "<svg xmlns=\"http://www.w3.org/2000/svg\" height=\"24px\"viewBox=\"0 0 24 24\"\n",
              "     width=\"24px\">\n",
              "    <g>\n",
              "        <path d=\"M19 3H5c-1.1 0-2 .9-2 2v14c0 1.1.9 2 2 2h14c1.1 0 2-.9 2-2V5c0-1.1-.9-2-2-2zM9 17H7v-7h2v7zm4 0h-2V7h2v10zm4 0h-2v-4h2v4z\"/>\n",
              "    </g>\n",
              "</svg>\n",
              "  </button>\n",
              "\n",
              "<style>\n",
              "  .colab-df-quickchart {\n",
              "      --bg-color: #E8F0FE;\n",
              "      --fill-color: #1967D2;\n",
              "      --hover-bg-color: #E2EBFA;\n",
              "      --hover-fill-color: #174EA6;\n",
              "      --disabled-fill-color: #AAA;\n",
              "      --disabled-bg-color: #DDD;\n",
              "  }\n",
              "\n",
              "  [theme=dark] .colab-df-quickchart {\n",
              "      --bg-color: #3B4455;\n",
              "      --fill-color: #D2E3FC;\n",
              "      --hover-bg-color: #434B5C;\n",
              "      --hover-fill-color: #FFFFFF;\n",
              "      --disabled-bg-color: #3B4455;\n",
              "      --disabled-fill-color: #666;\n",
              "  }\n",
              "\n",
              "  .colab-df-quickchart {\n",
              "    background-color: var(--bg-color);\n",
              "    border: none;\n",
              "    border-radius: 50%;\n",
              "    cursor: pointer;\n",
              "    display: none;\n",
              "    fill: var(--fill-color);\n",
              "    height: 32px;\n",
              "    padding: 0;\n",
              "    width: 32px;\n",
              "  }\n",
              "\n",
              "  .colab-df-quickchart:hover {\n",
              "    background-color: var(--hover-bg-color);\n",
              "    box-shadow: 0 1px 2px rgba(60, 64, 67, 0.3), 0 1px 3px 1px rgba(60, 64, 67, 0.15);\n",
              "    fill: var(--button-hover-fill-color);\n",
              "  }\n",
              "\n",
              "  .colab-df-quickchart-complete:disabled,\n",
              "  .colab-df-quickchart-complete:disabled:hover {\n",
              "    background-color: var(--disabled-bg-color);\n",
              "    fill: var(--disabled-fill-color);\n",
              "    box-shadow: none;\n",
              "  }\n",
              "\n",
              "  .colab-df-spinner {\n",
              "    border: 2px solid var(--fill-color);\n",
              "    border-color: transparent;\n",
              "    border-bottom-color: var(--fill-color);\n",
              "    animation:\n",
              "      spin 1s steps(1) infinite;\n",
              "  }\n",
              "\n",
              "  @keyframes spin {\n",
              "    0% {\n",
              "      border-color: transparent;\n",
              "      border-bottom-color: var(--fill-color);\n",
              "      border-left-color: var(--fill-color);\n",
              "    }\n",
              "    20% {\n",
              "      border-color: transparent;\n",
              "      border-left-color: var(--fill-color);\n",
              "      border-top-color: var(--fill-color);\n",
              "    }\n",
              "    30% {\n",
              "      border-color: transparent;\n",
              "      border-left-color: var(--fill-color);\n",
              "      border-top-color: var(--fill-color);\n",
              "      border-right-color: var(--fill-color);\n",
              "    }\n",
              "    40% {\n",
              "      border-color: transparent;\n",
              "      border-right-color: var(--fill-color);\n",
              "      border-top-color: var(--fill-color);\n",
              "    }\n",
              "    60% {\n",
              "      border-color: transparent;\n",
              "      border-right-color: var(--fill-color);\n",
              "    }\n",
              "    80% {\n",
              "      border-color: transparent;\n",
              "      border-right-color: var(--fill-color);\n",
              "      border-bottom-color: var(--fill-color);\n",
              "    }\n",
              "    90% {\n",
              "      border-color: transparent;\n",
              "      border-bottom-color: var(--fill-color);\n",
              "    }\n",
              "  }\n",
              "</style>\n",
              "\n",
              "  <script>\n",
              "    async function quickchart(key) {\n",
              "      const quickchartButtonEl =\n",
              "        document.querySelector('#' + key + ' button');\n",
              "      quickchartButtonEl.disabled = true;  // To prevent multiple clicks.\n",
              "      quickchartButtonEl.classList.add('colab-df-spinner');\n",
              "      try {\n",
              "        const charts = await google.colab.kernel.invokeFunction(\n",
              "            'suggestCharts', [key], {});\n",
              "      } catch (error) {\n",
              "        console.error('Error during call to suggestCharts:', error);\n",
              "      }\n",
              "      quickchartButtonEl.classList.remove('colab-df-spinner');\n",
              "      quickchartButtonEl.classList.add('colab-df-quickchart-complete');\n",
              "    }\n",
              "    (() => {\n",
              "      let quickchartButtonEl =\n",
              "        document.querySelector('#df-cb5ed878-8766-4c5f-bec8-e3c73e507230 button');\n",
              "      quickchartButtonEl.style.display =\n",
              "        google.colab.kernel.accessAllowed ? 'block' : 'none';\n",
              "    })();\n",
              "  </script>\n",
              "</div>\n",
              "\n",
              "  <div id=\"id_cba9bdd0-c508-4e3d-a8be-deba58cd8fe6\">\n",
              "    <style>\n",
              "      .colab-df-generate {\n",
              "        background-color: #E8F0FE;\n",
              "        border: none;\n",
              "        border-radius: 50%;\n",
              "        cursor: pointer;\n",
              "        display: none;\n",
              "        fill: #1967D2;\n",
              "        height: 32px;\n",
              "        padding: 0 0 0 0;\n",
              "        width: 32px;\n",
              "      }\n",
              "\n",
              "      .colab-df-generate:hover {\n",
              "        background-color: #E2EBFA;\n",
              "        box-shadow: 0px 1px 2px rgba(60, 64, 67, 0.3), 0px 1px 3px 1px rgba(60, 64, 67, 0.15);\n",
              "        fill: #174EA6;\n",
              "      }\n",
              "\n",
              "      [theme=dark] .colab-df-generate {\n",
              "        background-color: #3B4455;\n",
              "        fill: #D2E3FC;\n",
              "      }\n",
              "\n",
              "      [theme=dark] .colab-df-generate:hover {\n",
              "        background-color: #434B5C;\n",
              "        box-shadow: 0px 1px 3px 1px rgba(0, 0, 0, 0.15);\n",
              "        filter: drop-shadow(0px 1px 2px rgba(0, 0, 0, 0.3));\n",
              "        fill: #FFFFFF;\n",
              "      }\n",
              "    </style>\n",
              "    <button class=\"colab-df-generate\" onclick=\"generateWithVariable('platePlacaDeHoja_df')\"\n",
              "            title=\"Generate code using this dataframe.\"\n",
              "            style=\"display:none;\">\n",
              "\n",
              "  <svg xmlns=\"http://www.w3.org/2000/svg\" height=\"24px\"viewBox=\"0 0 24 24\"\n",
              "       width=\"24px\">\n",
              "    <path d=\"M7,19H8.4L18.45,9,17,7.55,7,17.6ZM5,21V16.75L18.45,3.32a2,2,0,0,1,2.83,0l1.4,1.43a1.91,1.91,0,0,1,.58,1.4,1.91,1.91,0,0,1-.58,1.4L9.25,21ZM18.45,9,17,7.55Zm-12,3A5.31,5.31,0,0,0,4.9,8.1,5.31,5.31,0,0,0,1,6.5,5.31,5.31,0,0,0,4.9,4.9,5.31,5.31,0,0,0,6.5,1,5.31,5.31,0,0,0,8.1,4.9,5.31,5.31,0,0,0,12,6.5,5.46,5.46,0,0,0,6.5,12Z\"/>\n",
              "  </svg>\n",
              "    </button>\n",
              "    <script>\n",
              "      (() => {\n",
              "      const buttonEl =\n",
              "        document.querySelector('#id_cba9bdd0-c508-4e3d-a8be-deba58cd8fe6 button.colab-df-generate');\n",
              "      buttonEl.style.display =\n",
              "        google.colab.kernel.accessAllowed ? 'block' : 'none';\n",
              "\n",
              "      buttonEl.onclick = () => {\n",
              "        google.colab.notebook.generateWithVariable('platePlacaDeHoja_df');\n",
              "      }\n",
              "      })();\n",
              "    </script>\n",
              "  </div>\n",
              "\n",
              "    </div>\n",
              "  </div>\n"
            ],
            "application/vnd.google.colaboratory.intrinsic+json": {
              "type": "dataframe",
              "variable_name": "platePlacaDeHoja_df",
              "summary": "{\n  \"name\": \"platePlacaDeHoja_df\",\n  \"rows\": 661,\n  \"fields\": [\n    {\n      \"column\": \"Date\",\n      \"properties\": {\n        \"dtype\": \"object\",\n        \"num_unique_values\": 661,\n        \"samples\": [\n          \"17/1/2008\",\n          \"10/1/2020\",\n          \"16/8/2022\"\n        ],\n        \"semantic_type\": \"\",\n        \"description\": \"\"\n      }\n    },\n    {\n      \"column\": \"Low\",\n      \"properties\": {\n        \"dtype\": \"number\",\n        \"std\": 20.1504478071797,\n        \"min\": 12.0,\n        \"max\": 95.0,\n        \"num_unique_values\": 144,\n        \"samples\": [\n          29.25,\n          59.0,\n          35.5\n        ],\n        \"semantic_type\": \"\",\n        \"description\": \"\"\n      }\n    },\n    {\n      \"column\": \"Mid\",\n      \"properties\": {\n        \"dtype\": \"number\",\n        \"std\": 20.145084903427076,\n        \"min\": 12.0,\n        \"max\": 95.0,\n        \"num_unique_values\": 146,\n        \"samples\": [\n          88.0,\n          36.75,\n          68.0\n        ],\n        \"semantic_type\": \"\",\n        \"description\": \"\"\n      }\n    },\n    {\n      \"column\": \"High\",\n      \"properties\": {\n        \"dtype\": \"number\",\n        \"std\": 20.140859405116604,\n        \"min\": 12.0,\n        \"max\": 95.0,\n        \"num_unique_values\": 144,\n        \"samples\": [\n          29.25,\n          59.0,\n          35.5\n        ],\n        \"semantic_type\": \"\",\n        \"description\": \"\"\n      }\n    },\n    {\n      \"column\": \"Mid Change %\",\n      \"properties\": {\n        \"dtype\": \"number\",\n        \"std\": 0.04020875494811692,\n        \"min\": -0.25,\n        \"max\": 0.419355,\n        \"num_unique_values\": 277,\n        \"samples\": [\n          -0.007519,\n          0.010638,\n          -0.01088\n        ],\n        \"semantic_type\": \"\",\n        \"description\": \"\"\n      }\n    }\n  ]\n}"
            }
          },
          "metadata": {},
          "execution_count": 18
        }
      ],
      "source": [
        "# Leer el archivo Excel:\n",
        "platePlacaDeHoja_df = pd.read_excel('Plate (Placa de Hoja).xlsx',\n",
        "  skiprows=9, nrows=671-9, engine='openpyxl')\n",
        "\n",
        "# Mostrar las primeras filas del DataFrame:\n",
        "platePlacaDeHoja_df"
      ]
    },
    {
      "cell_type": "markdown",
      "source": [
        "Son 661 filas y 5 columnas."
      ],
      "metadata": {
        "id": "Z19EU581lEra"
      }
    },
    {
      "cell_type": "markdown",
      "source": [
        "Se agruparán los datos anteriores por mes, y se quitará la columna de 'Mid Change %', pues no es de interés para los objetivos de nuestro proyecto. De las demás columnas se obtendrá un promedio mensual."
      ],
      "metadata": {
        "id": "3ShwuKlLkajD"
      }
    },
    {
      "cell_type": "code",
      "source": [
        "# Convertir la columna 'Date' a tipo datetime, considerando el formato d/m/aaaa:\n",
        "platePlacaDeHoja_df['Date'] = pd.to_datetime(platePlacaDeHoja_df['Date'], dayfirst=True)\n",
        "\n",
        "# Establecer 'Date' como índice:\n",
        "platePlacaDeHoja_df.set_index('Date', inplace=True)\n",
        "\n",
        "# Re-muestrear los datos a nivel mensual y obtener el promedio de las columnas 'Low', 'Mid' y 'High':\n",
        "platePlacaDeHoja_df = platePlacaDeHoja_df.resample('M')[['Low', 'Mid', 'High']].mean()\n",
        "\n",
        "# Opcional: Reiniciar el índice para tener 'Date' como columna nuevamente:\n",
        "platePlacaDeHoja_df = platePlacaDeHoja_df.reset_index()\n",
        "\n",
        "# Formatear la columna 'Date' para mostrar 'NombreMes Año':\n",
        "platePlacaDeHoja_df['Date'] = platePlacaDeHoja_df['Date'].dt.strftime('%B %Y')\n",
        "\n",
        "# Mostrar el DataFrame resultante:\n",
        "platePlacaDeHoja_df"
      ],
      "metadata": {
        "colab": {
          "base_uri": "https://localhost:8080/",
          "height": 460
        },
        "id": "QEk35dPscLt9",
        "outputId": "5a412568-61ad-453a-bbef-ed07086e5d58"
      },
      "execution_count": null,
      "outputs": [
        {
          "output_type": "stream",
          "name": "stderr",
          "text": [
            "<ipython-input-19-8f353ba9b921>:8: FutureWarning: 'M' is deprecated and will be removed in a future version, please use 'ME' instead.\n",
            "  platePlacaDeHoja_df = platePlacaDeHoja_df.resample('M')[['Low', 'Mid', 'High']].mean()\n"
          ]
        },
        {
          "output_type": "execute_result",
          "data": {
            "text/plain": [
              "              Date    Low    Mid   High\n",
              "0    February 1999  17.00  17.00  17.00\n",
              "1       March 1999  17.00  17.00  17.00\n",
              "2       April 1999    NaN    NaN    NaN\n",
              "3         May 1999    NaN    NaN    NaN\n",
              "4        June 1999    NaN    NaN    NaN\n",
              "..             ...    ...    ...    ...\n",
              "309  November 2024  42.50  42.50  42.50\n",
              "310  December 2024  42.20  42.20  42.20\n",
              "311   January 2025  42.25  42.25  42.25\n",
              "312  February 2025  46.75  46.75  46.75\n",
              "313     March 2025  60.00  60.00  60.00\n",
              "\n",
              "[314 rows x 4 columns]"
            ],
            "text/html": [
              "\n",
              "  <div id=\"df-a828804e-752f-4f6f-8b34-4250aa1e8cce\" class=\"colab-df-container\">\n",
              "    <div>\n",
              "<style scoped>\n",
              "    .dataframe tbody tr th:only-of-type {\n",
              "        vertical-align: middle;\n",
              "    }\n",
              "\n",
              "    .dataframe tbody tr th {\n",
              "        vertical-align: top;\n",
              "    }\n",
              "\n",
              "    .dataframe thead th {\n",
              "        text-align: right;\n",
              "    }\n",
              "</style>\n",
              "<table border=\"1\" class=\"dataframe\">\n",
              "  <thead>\n",
              "    <tr style=\"text-align: right;\">\n",
              "      <th></th>\n",
              "      <th>Date</th>\n",
              "      <th>Low</th>\n",
              "      <th>Mid</th>\n",
              "      <th>High</th>\n",
              "    </tr>\n",
              "  </thead>\n",
              "  <tbody>\n",
              "    <tr>\n",
              "      <th>0</th>\n",
              "      <td>February 1999</td>\n",
              "      <td>17.00</td>\n",
              "      <td>17.00</td>\n",
              "      <td>17.00</td>\n",
              "    </tr>\n",
              "    <tr>\n",
              "      <th>1</th>\n",
              "      <td>March 1999</td>\n",
              "      <td>17.00</td>\n",
              "      <td>17.00</td>\n",
              "      <td>17.00</td>\n",
              "    </tr>\n",
              "    <tr>\n",
              "      <th>2</th>\n",
              "      <td>April 1999</td>\n",
              "      <td>NaN</td>\n",
              "      <td>NaN</td>\n",
              "      <td>NaN</td>\n",
              "    </tr>\n",
              "    <tr>\n",
              "      <th>3</th>\n",
              "      <td>May 1999</td>\n",
              "      <td>NaN</td>\n",
              "      <td>NaN</td>\n",
              "      <td>NaN</td>\n",
              "    </tr>\n",
              "    <tr>\n",
              "      <th>4</th>\n",
              "      <td>June 1999</td>\n",
              "      <td>NaN</td>\n",
              "      <td>NaN</td>\n",
              "      <td>NaN</td>\n",
              "    </tr>\n",
              "    <tr>\n",
              "      <th>...</th>\n",
              "      <td>...</td>\n",
              "      <td>...</td>\n",
              "      <td>...</td>\n",
              "      <td>...</td>\n",
              "    </tr>\n",
              "    <tr>\n",
              "      <th>309</th>\n",
              "      <td>November 2024</td>\n",
              "      <td>42.50</td>\n",
              "      <td>42.50</td>\n",
              "      <td>42.50</td>\n",
              "    </tr>\n",
              "    <tr>\n",
              "      <th>310</th>\n",
              "      <td>December 2024</td>\n",
              "      <td>42.20</td>\n",
              "      <td>42.20</td>\n",
              "      <td>42.20</td>\n",
              "    </tr>\n",
              "    <tr>\n",
              "      <th>311</th>\n",
              "      <td>January 2025</td>\n",
              "      <td>42.25</td>\n",
              "      <td>42.25</td>\n",
              "      <td>42.25</td>\n",
              "    </tr>\n",
              "    <tr>\n",
              "      <th>312</th>\n",
              "      <td>February 2025</td>\n",
              "      <td>46.75</td>\n",
              "      <td>46.75</td>\n",
              "      <td>46.75</td>\n",
              "    </tr>\n",
              "    <tr>\n",
              "      <th>313</th>\n",
              "      <td>March 2025</td>\n",
              "      <td>60.00</td>\n",
              "      <td>60.00</td>\n",
              "      <td>60.00</td>\n",
              "    </tr>\n",
              "  </tbody>\n",
              "</table>\n",
              "<p>314 rows × 4 columns</p>\n",
              "</div>\n",
              "    <div class=\"colab-df-buttons\">\n",
              "\n",
              "  <div class=\"colab-df-container\">\n",
              "    <button class=\"colab-df-convert\" onclick=\"convertToInteractive('df-a828804e-752f-4f6f-8b34-4250aa1e8cce')\"\n",
              "            title=\"Convert this dataframe to an interactive table.\"\n",
              "            style=\"display:none;\">\n",
              "\n",
              "  <svg xmlns=\"http://www.w3.org/2000/svg\" height=\"24px\" viewBox=\"0 -960 960 960\">\n",
              "    <path d=\"M120-120v-720h720v720H120Zm60-500h600v-160H180v160Zm220 220h160v-160H400v160Zm0 220h160v-160H400v160ZM180-400h160v-160H180v160Zm440 0h160v-160H620v160ZM180-180h160v-160H180v160Zm440 0h160v-160H620v160Z\"/>\n",
              "  </svg>\n",
              "    </button>\n",
              "\n",
              "  <style>\n",
              "    .colab-df-container {\n",
              "      display:flex;\n",
              "      gap: 12px;\n",
              "    }\n",
              "\n",
              "    .colab-df-convert {\n",
              "      background-color: #E8F0FE;\n",
              "      border: none;\n",
              "      border-radius: 50%;\n",
              "      cursor: pointer;\n",
              "      display: none;\n",
              "      fill: #1967D2;\n",
              "      height: 32px;\n",
              "      padding: 0 0 0 0;\n",
              "      width: 32px;\n",
              "    }\n",
              "\n",
              "    .colab-df-convert:hover {\n",
              "      background-color: #E2EBFA;\n",
              "      box-shadow: 0px 1px 2px rgba(60, 64, 67, 0.3), 0px 1px 3px 1px rgba(60, 64, 67, 0.15);\n",
              "      fill: #174EA6;\n",
              "    }\n",
              "\n",
              "    .colab-df-buttons div {\n",
              "      margin-bottom: 4px;\n",
              "    }\n",
              "\n",
              "    [theme=dark] .colab-df-convert {\n",
              "      background-color: #3B4455;\n",
              "      fill: #D2E3FC;\n",
              "    }\n",
              "\n",
              "    [theme=dark] .colab-df-convert:hover {\n",
              "      background-color: #434B5C;\n",
              "      box-shadow: 0px 1px 3px 1px rgba(0, 0, 0, 0.15);\n",
              "      filter: drop-shadow(0px 1px 2px rgba(0, 0, 0, 0.3));\n",
              "      fill: #FFFFFF;\n",
              "    }\n",
              "  </style>\n",
              "\n",
              "    <script>\n",
              "      const buttonEl =\n",
              "        document.querySelector('#df-a828804e-752f-4f6f-8b34-4250aa1e8cce button.colab-df-convert');\n",
              "      buttonEl.style.display =\n",
              "        google.colab.kernel.accessAllowed ? 'block' : 'none';\n",
              "\n",
              "      async function convertToInteractive(key) {\n",
              "        const element = document.querySelector('#df-a828804e-752f-4f6f-8b34-4250aa1e8cce');\n",
              "        const dataTable =\n",
              "          await google.colab.kernel.invokeFunction('convertToInteractive',\n",
              "                                                    [key], {});\n",
              "        if (!dataTable) return;\n",
              "\n",
              "        const docLinkHtml = 'Like what you see? Visit the ' +\n",
              "          '<a target=\"_blank\" href=https://colab.research.google.com/notebooks/data_table.ipynb>data table notebook</a>'\n",
              "          + ' to learn more about interactive tables.';\n",
              "        element.innerHTML = '';\n",
              "        dataTable['output_type'] = 'display_data';\n",
              "        await google.colab.output.renderOutput(dataTable, element);\n",
              "        const docLink = document.createElement('div');\n",
              "        docLink.innerHTML = docLinkHtml;\n",
              "        element.appendChild(docLink);\n",
              "      }\n",
              "    </script>\n",
              "  </div>\n",
              "\n",
              "\n",
              "<div id=\"df-c36ea1b8-3a07-4489-8677-f506bffef81e\">\n",
              "  <button class=\"colab-df-quickchart\" onclick=\"quickchart('df-c36ea1b8-3a07-4489-8677-f506bffef81e')\"\n",
              "            title=\"Suggest charts\"\n",
              "            style=\"display:none;\">\n",
              "\n",
              "<svg xmlns=\"http://www.w3.org/2000/svg\" height=\"24px\"viewBox=\"0 0 24 24\"\n",
              "     width=\"24px\">\n",
              "    <g>\n",
              "        <path d=\"M19 3H5c-1.1 0-2 .9-2 2v14c0 1.1.9 2 2 2h14c1.1 0 2-.9 2-2V5c0-1.1-.9-2-2-2zM9 17H7v-7h2v7zm4 0h-2V7h2v10zm4 0h-2v-4h2v4z\"/>\n",
              "    </g>\n",
              "</svg>\n",
              "  </button>\n",
              "\n",
              "<style>\n",
              "  .colab-df-quickchart {\n",
              "      --bg-color: #E8F0FE;\n",
              "      --fill-color: #1967D2;\n",
              "      --hover-bg-color: #E2EBFA;\n",
              "      --hover-fill-color: #174EA6;\n",
              "      --disabled-fill-color: #AAA;\n",
              "      --disabled-bg-color: #DDD;\n",
              "  }\n",
              "\n",
              "  [theme=dark] .colab-df-quickchart {\n",
              "      --bg-color: #3B4455;\n",
              "      --fill-color: #D2E3FC;\n",
              "      --hover-bg-color: #434B5C;\n",
              "      --hover-fill-color: #FFFFFF;\n",
              "      --disabled-bg-color: #3B4455;\n",
              "      --disabled-fill-color: #666;\n",
              "  }\n",
              "\n",
              "  .colab-df-quickchart {\n",
              "    background-color: var(--bg-color);\n",
              "    border: none;\n",
              "    border-radius: 50%;\n",
              "    cursor: pointer;\n",
              "    display: none;\n",
              "    fill: var(--fill-color);\n",
              "    height: 32px;\n",
              "    padding: 0;\n",
              "    width: 32px;\n",
              "  }\n",
              "\n",
              "  .colab-df-quickchart:hover {\n",
              "    background-color: var(--hover-bg-color);\n",
              "    box-shadow: 0 1px 2px rgba(60, 64, 67, 0.3), 0 1px 3px 1px rgba(60, 64, 67, 0.15);\n",
              "    fill: var(--button-hover-fill-color);\n",
              "  }\n",
              "\n",
              "  .colab-df-quickchart-complete:disabled,\n",
              "  .colab-df-quickchart-complete:disabled:hover {\n",
              "    background-color: var(--disabled-bg-color);\n",
              "    fill: var(--disabled-fill-color);\n",
              "    box-shadow: none;\n",
              "  }\n",
              "\n",
              "  .colab-df-spinner {\n",
              "    border: 2px solid var(--fill-color);\n",
              "    border-color: transparent;\n",
              "    border-bottom-color: var(--fill-color);\n",
              "    animation:\n",
              "      spin 1s steps(1) infinite;\n",
              "  }\n",
              "\n",
              "  @keyframes spin {\n",
              "    0% {\n",
              "      border-color: transparent;\n",
              "      border-bottom-color: var(--fill-color);\n",
              "      border-left-color: var(--fill-color);\n",
              "    }\n",
              "    20% {\n",
              "      border-color: transparent;\n",
              "      border-left-color: var(--fill-color);\n",
              "      border-top-color: var(--fill-color);\n",
              "    }\n",
              "    30% {\n",
              "      border-color: transparent;\n",
              "      border-left-color: var(--fill-color);\n",
              "      border-top-color: var(--fill-color);\n",
              "      border-right-color: var(--fill-color);\n",
              "    }\n",
              "    40% {\n",
              "      border-color: transparent;\n",
              "      border-right-color: var(--fill-color);\n",
              "      border-top-color: var(--fill-color);\n",
              "    }\n",
              "    60% {\n",
              "      border-color: transparent;\n",
              "      border-right-color: var(--fill-color);\n",
              "    }\n",
              "    80% {\n",
              "      border-color: transparent;\n",
              "      border-right-color: var(--fill-color);\n",
              "      border-bottom-color: var(--fill-color);\n",
              "    }\n",
              "    90% {\n",
              "      border-color: transparent;\n",
              "      border-bottom-color: var(--fill-color);\n",
              "    }\n",
              "  }\n",
              "</style>\n",
              "\n",
              "  <script>\n",
              "    async function quickchart(key) {\n",
              "      const quickchartButtonEl =\n",
              "        document.querySelector('#' + key + ' button');\n",
              "      quickchartButtonEl.disabled = true;  // To prevent multiple clicks.\n",
              "      quickchartButtonEl.classList.add('colab-df-spinner');\n",
              "      try {\n",
              "        const charts = await google.colab.kernel.invokeFunction(\n",
              "            'suggestCharts', [key], {});\n",
              "      } catch (error) {\n",
              "        console.error('Error during call to suggestCharts:', error);\n",
              "      }\n",
              "      quickchartButtonEl.classList.remove('colab-df-spinner');\n",
              "      quickchartButtonEl.classList.add('colab-df-quickchart-complete');\n",
              "    }\n",
              "    (() => {\n",
              "      let quickchartButtonEl =\n",
              "        document.querySelector('#df-c36ea1b8-3a07-4489-8677-f506bffef81e button');\n",
              "      quickchartButtonEl.style.display =\n",
              "        google.colab.kernel.accessAllowed ? 'block' : 'none';\n",
              "    })();\n",
              "  </script>\n",
              "</div>\n",
              "\n",
              "  <div id=\"id_f0dcda3b-e60e-4b37-b1a3-34e601b1cda0\">\n",
              "    <style>\n",
              "      .colab-df-generate {\n",
              "        background-color: #E8F0FE;\n",
              "        border: none;\n",
              "        border-radius: 50%;\n",
              "        cursor: pointer;\n",
              "        display: none;\n",
              "        fill: #1967D2;\n",
              "        height: 32px;\n",
              "        padding: 0 0 0 0;\n",
              "        width: 32px;\n",
              "      }\n",
              "\n",
              "      .colab-df-generate:hover {\n",
              "        background-color: #E2EBFA;\n",
              "        box-shadow: 0px 1px 2px rgba(60, 64, 67, 0.3), 0px 1px 3px 1px rgba(60, 64, 67, 0.15);\n",
              "        fill: #174EA6;\n",
              "      }\n",
              "\n",
              "      [theme=dark] .colab-df-generate {\n",
              "        background-color: #3B4455;\n",
              "        fill: #D2E3FC;\n",
              "      }\n",
              "\n",
              "      [theme=dark] .colab-df-generate:hover {\n",
              "        background-color: #434B5C;\n",
              "        box-shadow: 0px 1px 3px 1px rgba(0, 0, 0, 0.15);\n",
              "        filter: drop-shadow(0px 1px 2px rgba(0, 0, 0, 0.3));\n",
              "        fill: #FFFFFF;\n",
              "      }\n",
              "    </style>\n",
              "    <button class=\"colab-df-generate\" onclick=\"generateWithVariable('platePlacaDeHoja_df')\"\n",
              "            title=\"Generate code using this dataframe.\"\n",
              "            style=\"display:none;\">\n",
              "\n",
              "  <svg xmlns=\"http://www.w3.org/2000/svg\" height=\"24px\"viewBox=\"0 0 24 24\"\n",
              "       width=\"24px\">\n",
              "    <path d=\"M7,19H8.4L18.45,9,17,7.55,7,17.6ZM5,21V16.75L18.45,3.32a2,2,0,0,1,2.83,0l1.4,1.43a1.91,1.91,0,0,1,.58,1.4,1.91,1.91,0,0,1-.58,1.4L9.25,21ZM18.45,9,17,7.55Zm-12,3A5.31,5.31,0,0,0,4.9,8.1,5.31,5.31,0,0,0,1,6.5,5.31,5.31,0,0,0,4.9,4.9,5.31,5.31,0,0,0,6.5,1,5.31,5.31,0,0,0,8.1,4.9,5.31,5.31,0,0,0,12,6.5,5.46,5.46,0,0,0,6.5,12Z\"/>\n",
              "  </svg>\n",
              "    </button>\n",
              "    <script>\n",
              "      (() => {\n",
              "      const buttonEl =\n",
              "        document.querySelector('#id_f0dcda3b-e60e-4b37-b1a3-34e601b1cda0 button.colab-df-generate');\n",
              "      buttonEl.style.display =\n",
              "        google.colab.kernel.accessAllowed ? 'block' : 'none';\n",
              "\n",
              "      buttonEl.onclick = () => {\n",
              "        google.colab.notebook.generateWithVariable('platePlacaDeHoja_df');\n",
              "      }\n",
              "      })();\n",
              "    </script>\n",
              "  </div>\n",
              "\n",
              "    </div>\n",
              "  </div>\n"
            ],
            "application/vnd.google.colaboratory.intrinsic+json": {
              "type": "dataframe",
              "variable_name": "platePlacaDeHoja_df",
              "summary": "{\n  \"name\": \"platePlacaDeHoja_df\",\n  \"rows\": 314,\n  \"fields\": [\n    {\n      \"column\": \"Date\",\n      \"properties\": {\n        \"dtype\": \"object\",\n        \"num_unique_values\": 314,\n        \"samples\": [\n          \"February 2010\",\n          \"November 2001\",\n          \"August 2017\"\n        ],\n        \"semantic_type\": \"\",\n        \"description\": \"\"\n      }\n    },\n    {\n      \"column\": \"Low\",\n      \"properties\": {\n        \"dtype\": \"number\",\n        \"std\": 18.618689116082294,\n        \"min\": 12.0,\n        \"max\": 94.8,\n        \"num_unique_values\": 161,\n        \"samples\": [\n          46.7,\n          34.375,\n          77.0\n        ],\n        \"semantic_type\": \"\",\n        \"description\": \"\"\n      }\n    },\n    {\n      \"column\": \"Mid\",\n      \"properties\": {\n        \"dtype\": \"number\",\n        \"std\": 18.60889592082405,\n        \"min\": 12.0,\n        \"max\": 94.8,\n        \"num_unique_values\": 162,\n        \"samples\": [\n          42.2,\n          34.375,\n          90.75\n        ],\n        \"semantic_type\": \"\",\n        \"description\": \"\"\n      }\n    },\n    {\n      \"column\": \"High\",\n      \"properties\": {\n        \"dtype\": \"number\",\n        \"std\": 18.602423481965403,\n        \"min\": 12.0,\n        \"max\": 94.8,\n        \"num_unique_values\": 163,\n        \"samples\": [\n          89.5,\n          25.75,\n          90.5625\n        ],\n        \"semantic_type\": \"\",\n        \"description\": \"\"\n      }\n    }\n  ]\n}"
            }
          },
          "metadata": {},
          "execution_count": 19
        }
      ]
    },
    {
      "cell_type": "markdown",
      "source": [
        "Ahora son 314 filas y 4 columnas."
      ],
      "metadata": {
        "id": "5p0Kmf8mlIrC"
      }
    },
    {
      "cell_type": "markdown",
      "source": [
        "#### Calidad de los datos"
      ],
      "metadata": {
        "id": "JGMP9n3LfBnd"
      }
    },
    {
      "cell_type": "code",
      "source": [
        "# Contar datos nulos de cada columna:\n",
        "valores_nulos_por_columna = platePlacaDeHoja_df.isnull().sum()\n",
        "valores_nulos_por_columna.name = 'Valores Nulos'\n",
        "valores_nulos_por_columna"
      ],
      "metadata": {
        "colab": {
          "base_uri": "https://localhost:8080/",
          "height": 210
        },
        "id": "TM2SbdogfC5Q",
        "outputId": "847c5e0a-db41-4f1c-ced1-03ee2beffebf"
      },
      "execution_count": null,
      "outputs": [
        {
          "output_type": "execute_result",
          "data": {
            "text/plain": [
              "Date     0\n",
              "Low     96\n",
              "Mid     96\n",
              "High    96\n",
              "Name: Valores Nulos, dtype: int64"
            ],
            "text/html": [
              "<div>\n",
              "<style scoped>\n",
              "    .dataframe tbody tr th:only-of-type {\n",
              "        vertical-align: middle;\n",
              "    }\n",
              "\n",
              "    .dataframe tbody tr th {\n",
              "        vertical-align: top;\n",
              "    }\n",
              "\n",
              "    .dataframe thead th {\n",
              "        text-align: right;\n",
              "    }\n",
              "</style>\n",
              "<table border=\"1\" class=\"dataframe\">\n",
              "  <thead>\n",
              "    <tr style=\"text-align: right;\">\n",
              "      <th></th>\n",
              "      <th>Valores Nulos</th>\n",
              "    </tr>\n",
              "  </thead>\n",
              "  <tbody>\n",
              "    <tr>\n",
              "      <th>Date</th>\n",
              "      <td>0</td>\n",
              "    </tr>\n",
              "    <tr>\n",
              "      <th>Low</th>\n",
              "      <td>96</td>\n",
              "    </tr>\n",
              "    <tr>\n",
              "      <th>Mid</th>\n",
              "      <td>96</td>\n",
              "    </tr>\n",
              "    <tr>\n",
              "      <th>High</th>\n",
              "      <td>96</td>\n",
              "    </tr>\n",
              "  </tbody>\n",
              "</table>\n",
              "</div><br><label><b>dtype:</b> int64</label>"
            ]
          },
          "metadata": {},
          "execution_count": 20
        }
      ]
    },
    {
      "cell_type": "markdown",
      "source": [
        "Los valores nulos se dan porque hay meses en el dataframe original en los que no hay cambio de precio, se hará una interpolación del último dato no nulo anterior y el primer dato no nulo posterior."
      ],
      "metadata": {
        "id": "VwikOsuxfKXw"
      }
    },
    {
      "cell_type": "code",
      "source": [
        "# Aplicar la interpolación lineal a las columnas 'Low', 'Mid' y 'High':\n",
        "platePlacaDeHoja_df[['Low', 'Mid', 'High']] = platePlacaDeHoja_df[['Low', 'Mid', 'High']].interpolate(method='linear', limit_direction='both')"
      ],
      "metadata": {
        "id": "_eowzgLbf42_"
      },
      "execution_count": null,
      "outputs": []
    },
    {
      "cell_type": "code",
      "source": [
        "valores_nulos_por_columna = platePlacaDeHoja_df.isnull().sum()\n",
        "valores_nulos_por_columna.name = 'Valores Nulos'\n",
        "valores_nulos_por_columna"
      ],
      "metadata": {
        "colab": {
          "base_uri": "https://localhost:8080/",
          "height": 210
        },
        "id": "wvfe6vRHggCU",
        "outputId": "9dda9930-c1c9-41df-a0ee-997e796cd087"
      },
      "execution_count": null,
      "outputs": [
        {
          "output_type": "execute_result",
          "data": {
            "text/plain": [
              "Date    0\n",
              "Low     0\n",
              "Mid     0\n",
              "High    0\n",
              "Name: Valores Nulos, dtype: int64"
            ],
            "text/html": [
              "<div>\n",
              "<style scoped>\n",
              "    .dataframe tbody tr th:only-of-type {\n",
              "        vertical-align: middle;\n",
              "    }\n",
              "\n",
              "    .dataframe tbody tr th {\n",
              "        vertical-align: top;\n",
              "    }\n",
              "\n",
              "    .dataframe thead th {\n",
              "        text-align: right;\n",
              "    }\n",
              "</style>\n",
              "<table border=\"1\" class=\"dataframe\">\n",
              "  <thead>\n",
              "    <tr style=\"text-align: right;\">\n",
              "      <th></th>\n",
              "      <th>Valores Nulos</th>\n",
              "    </tr>\n",
              "  </thead>\n",
              "  <tbody>\n",
              "    <tr>\n",
              "      <th>Date</th>\n",
              "      <td>0</td>\n",
              "    </tr>\n",
              "    <tr>\n",
              "      <th>Low</th>\n",
              "      <td>0</td>\n",
              "    </tr>\n",
              "    <tr>\n",
              "      <th>Mid</th>\n",
              "      <td>0</td>\n",
              "    </tr>\n",
              "    <tr>\n",
              "      <th>High</th>\n",
              "      <td>0</td>\n",
              "    </tr>\n",
              "  </tbody>\n",
              "</table>\n",
              "</div><br><label><b>dtype:</b> int64</label>"
            ]
          },
          "metadata": {},
          "execution_count": 22
        }
      ]
    },
    {
      "cell_type": "markdown",
      "source": [
        "Ya no hay datos nulos."
      ],
      "metadata": {
        "id": "Sr8ohTqvghl8"
      }
    },
    {
      "cell_type": "code",
      "source": [
        "# Contar registros duplicados:\n",
        "num_duplicados = platePlacaDeHoja_df.duplicated().sum()\n",
        "print(f\"Número de registros duplicados: {num_duplicados}\")\n",
        "\n",
        "# Visualizar los registros duplicados (si existen):\n",
        "if num_duplicados > 0:\n",
        "    duplicados = platePlacaDeHoja_df[platePlacaDeHoja_df.duplicated()]\n",
        "    print(\"Registros duplicados:\")\n",
        "    print(duplicados)"
      ],
      "metadata": {
        "colab": {
          "base_uri": "https://localhost:8080/"
        },
        "id": "-P0WgrpEhTqG",
        "outputId": "c2d90ca8-9945-42a1-f0a5-ce819ee331ca"
      },
      "execution_count": null,
      "outputs": [
        {
          "output_type": "stream",
          "name": "stdout",
          "text": [
            "Número de registros duplicados: 0\n"
          ]
        }
      ]
    },
    {
      "cell_type": "code",
      "source": [
        "# Detectar registros con valores fuera del rango esperado:\n",
        "erroneos = platePlacaDeHoja_df[(platePlacaDeHoja_df['Low'] < 0) | (platePlacaDeHoja_df['Mid'] < 0) | (platePlacaDeHoja_df['High'] < 0)]\n",
        "print(\"Registros con valores erróneos en 'Low':\")\n",
        "print(erroneos)"
      ],
      "metadata": {
        "colab": {
          "base_uri": "https://localhost:8080/"
        },
        "id": "BWZG05U5hlRP",
        "outputId": "38947108-e4f1-4158-8356-5e6da6ea8260"
      },
      "execution_count": null,
      "outputs": [
        {
          "output_type": "stream",
          "name": "stdout",
          "text": [
            "Registros con valores erróneos en 'Low':\n",
            "Empty DataFrame\n",
            "Columns: [Date, Low, Mid, High]\n",
            "Index: []\n"
          ]
        }
      ]
    },
    {
      "cell_type": "markdown",
      "source": [
        "Los precios están dentro del rango correcto."
      ],
      "metadata": {
        "id": "Hr-UBG-2h5oZ"
      }
    },
    {
      "cell_type": "code",
      "source": [
        "platePlacaDeHoja_df.dtypes # Tipos de dato."
      ],
      "metadata": {
        "colab": {
          "base_uri": "https://localhost:8080/",
          "height": 210
        },
        "id": "41ggyELhhxl3",
        "outputId": "ca7d9b31-e57d-4a7d-8c0b-43e9b98330d6"
      },
      "execution_count": null,
      "outputs": [
        {
          "output_type": "execute_result",
          "data": {
            "text/plain": [
              "Date     object\n",
              "Low     float64\n",
              "Mid     float64\n",
              "High    float64\n",
              "dtype: object"
            ],
            "text/html": [
              "<div>\n",
              "<style scoped>\n",
              "    .dataframe tbody tr th:only-of-type {\n",
              "        vertical-align: middle;\n",
              "    }\n",
              "\n",
              "    .dataframe tbody tr th {\n",
              "        vertical-align: top;\n",
              "    }\n",
              "\n",
              "    .dataframe thead th {\n",
              "        text-align: right;\n",
              "    }\n",
              "</style>\n",
              "<table border=\"1\" class=\"dataframe\">\n",
              "  <thead>\n",
              "    <tr style=\"text-align: right;\">\n",
              "      <th></th>\n",
              "      <th>0</th>\n",
              "    </tr>\n",
              "  </thead>\n",
              "  <tbody>\n",
              "    <tr>\n",
              "      <th>Date</th>\n",
              "      <td>object</td>\n",
              "    </tr>\n",
              "    <tr>\n",
              "      <th>Low</th>\n",
              "      <td>float64</td>\n",
              "    </tr>\n",
              "    <tr>\n",
              "      <th>Mid</th>\n",
              "      <td>float64</td>\n",
              "    </tr>\n",
              "    <tr>\n",
              "      <th>High</th>\n",
              "      <td>float64</td>\n",
              "    </tr>\n",
              "  </tbody>\n",
              "</table>\n",
              "</div><br><label><b>dtype:</b> object</label>"
            ]
          },
          "metadata": {},
          "execution_count": 25
        }
      ]
    },
    {
      "cell_type": "markdown",
      "source": [
        "Todos los datos tienen el tipo correcto."
      ],
      "metadata": {
        "id": "pi_G7q-8h1w1"
      }
    },
    {
      "cell_type": "markdown",
      "source": [
        "#### Medidas estadísticas"
      ],
      "metadata": {
        "id": "pK0qZ-TMhChF"
      }
    },
    {
      "cell_type": "code",
      "source": [
        "# Lista de columnas cuantitativas:\n",
        "numeric_columns = ['Low', 'Mid', 'High']\n",
        "\n",
        "for col in numeric_columns:\n",
        "    print(f\"Variable: {col}\")\n",
        "    # Medidas de tendencia central:\n",
        "    media = platePlacaDeHoja_df[col].mean()\n",
        "    mediana = platePlacaDeHoja_df[col].median()\n",
        "    # La moda puede devolver más de un valor, por eso se imprime como Series:\n",
        "    moda = platePlacaDeHoja_df[col].mode()\n",
        "\n",
        "    # Medidas de dispersión:\n",
        "    rango = platePlacaDeHoja_df[col].max() - platePlacaDeHoja_df[col].min()\n",
        "    varianza = platePlacaDeHoja_df[col].var()\n",
        "    desv_estandar = platePlacaDeHoja_df[col].std()\n",
        "\n",
        "    print(f\"  Promedio/Media: {media}\")\n",
        "    print(f\"  Mediana: {mediana}\")\n",
        "    print(f\"  Moda: {list(moda)}\") # Serie a lista para mayor claridad.\n",
        "    print(f\"  Rango (max - min): {rango}\")\n",
        "    print(f\"  Varianza: {varianza}\")\n",
        "    print(f\"  Desviación Estándar: {desv_estandar}\\n\")"
      ],
      "metadata": {
        "colab": {
          "base_uri": "https://localhost:8080/"
        },
        "id": "BP1wAROJX9ur",
        "outputId": "4b9725b6-00fc-44c0-931f-988088548e60"
      },
      "execution_count": null,
      "outputs": [
        {
          "output_type": "stream",
          "name": "stdout",
          "text": [
            "Variable: Low\n",
            "  Promedio/Media: 39.6278237791932\n",
            "  Mediana: 38.68333333333334\n",
            "  Moda: [40.0]\n",
            "  Rango (max - min): 82.8\n",
            "  Varianza: 359.115365676085\n",
            "  Desviación Estándar: 18.95033946070848\n",
            "\n",
            "Variable: Mid\n",
            "  Promedio/Media: 39.735307855626324\n",
            "  Mediana: 38.9375\n",
            "  Moda: [32.0, 40.5]\n",
            "  Rango (max - min): 82.8\n",
            "  Varianza: 359.4012700125861\n",
            "  Desviación Estándar: 18.957881474800555\n",
            "\n",
            "Variable: High\n",
            "  Promedio/Media: 39.84279193205944\n",
            "  Mediana: 39.0\n",
            "  Moda: [42.0]\n",
            "  Rango (max - min): 82.8\n",
            "  Varianza: 359.85078490058436\n",
            "  Desviación Estándar: 18.969733390340107\n",
            "\n"
          ]
        }
      ]
    },
    {
      "cell_type": "markdown",
      "source": [
        "Cada variable tiene sus medidas de tendencia central y dispersión muy similares."
      ],
      "metadata": {
        "id": "60152uoLlzrA"
      }
    },
    {
      "cell_type": "code",
      "source": [
        "# Tabla de distribución de frecuencia para la variable 'Date':\n",
        "frecuencia_date = platePlacaDeHoja_df['Date'].value_counts().sort_index()\n",
        "print(\"Tabla de distribución de frecuencia (Date):\")\n",
        "print(frecuencia_date)\n",
        "print(\"\\n\")\n",
        "\n",
        "# Ahora, calcular la mediana de la columna 'Date':\n",
        "median_date = pd.to_datetime(platePlacaDeHoja_df['Date'], dayfirst=True).median()\n",
        "\n",
        "# Mostrar la mediana formateada:\n",
        "print(\"Mediana de las fechas:\", median_date.strftime(\"%B %Y\"))"
      ],
      "metadata": {
        "colab": {
          "base_uri": "https://localhost:8080/"
        },
        "id": "eUEun_pUZ0JD",
        "outputId": "94d4affd-a124-468a-d2ec-7e2c90632c48"
      },
      "execution_count": null,
      "outputs": [
        {
          "output_type": "stream",
          "name": "stdout",
          "text": [
            "Tabla de distribución de frecuencia (Date):\n",
            "Date\n",
            "April 1999        1\n",
            "April 2000        1\n",
            "April 2001        1\n",
            "April 2002        1\n",
            "April 2003        1\n",
            "                 ..\n",
            "September 2020    1\n",
            "September 2021    1\n",
            "September 2022    1\n",
            "September 2023    1\n",
            "September 2024    1\n",
            "Name: count, Length: 314, dtype: int64\n",
            "\n",
            "\n",
            "Mediana de las fechas: February 2012\n"
          ]
        },
        {
          "output_type": "stream",
          "name": "stderr",
          "text": [
            "<ipython-input-27-38ce5c9a9e00>:8: UserWarning: Could not infer format, so each element will be parsed individually, falling back to `dateutil`. To ensure parsing is consistent and as-expected, please specify a format.\n",
            "  median_date = pd.to_datetime(platePlacaDeHoja_df['Date'], dayfirst=True).median()\n"
          ]
        }
      ]
    },
    {
      "cell_type": "markdown",
      "source": [
        "Cada fecha es única."
      ],
      "metadata": {
        "id": "dAzG0OjrltQ3"
      }
    },
    {
      "cell_type": "markdown",
      "source": [
        "##### Exploración de datos"
      ],
      "metadata": {
        "id": "uQz2ArF9hM7Y"
      }
    },
    {
      "cell_type": "code",
      "source": [
        "# Cuartiles, medidas de posición no-central (no solo la mediana) y detección de outliers:\n",
        "print(\"Medidas de posición y dispersión (para variables numéricas):\")\n",
        "for col in ['Low', 'Mid', 'High']:\n",
        "    Q1 = platePlacaDeHoja_df[col].quantile(0.25)\n",
        "    Q3 = platePlacaDeHoja_df[col].quantile(0.75)\n",
        "    IQR = Q3 - Q1\n",
        "    outliers = platePlacaDeHoja_df[(platePlacaDeHoja_df[col] < (Q1 - 1.5 * IQR)) | (platePlacaDeHoja_df[col] > (Q3 + 1.5 * IQR))][col]\n",
        "\n",
        "    print(f\"\\nVariable: {col}\")\n",
        "    print(f\"  Cuartil 1 (Q1): {Q1}\")\n",
        "    print(f\"  Cuartil 3 (Q3): {Q3}\")\n",
        "    print(f\"  IQR: {IQR}\")\n",
        "    print(f\"  Outliers detectados: {list(outliers)}\")"
      ],
      "metadata": {
        "colab": {
          "base_uri": "https://localhost:8080/"
        },
        "id": "0n8-Iggxdwqh",
        "outputId": "668db373-0d7d-47ec-fc1d-a12b3edfa5fa"
      },
      "execution_count": null,
      "outputs": [
        {
          "output_type": "stream",
          "name": "stdout",
          "text": [
            "Medidas de posición y dispersión (para variables numéricas):\n",
            "\n",
            "Variable: Low\n",
            "  Cuartil 1 (Q1): 28.18125\n",
            "  Cuartil 3 (Q3): 46.453125\n",
            "  IQR: 18.271875\n",
            "  Outliers detectados: [75.0, 74.0, 77.4, 84.0, 87.25, 89.0, 90.1875, 90.75, 90.75, 90.5625, 91.5, 94.55, 94.8, 90.75, 89.5, 87.0, 84.25, 79.25, 78.8, 75.375, 77.0, 77.8, 76.0, 75.0, 74.9, 74.125]\n",
            "\n",
            "Variable: Mid\n",
            "  Cuartil 1 (Q1): 28.18125\n",
            "  Cuartil 3 (Q3): 46.453125\n",
            "  IQR: 18.271875\n",
            "  Outliers detectados: [75.0, 74.0, 77.4, 84.0, 87.25, 89.0, 90.1875, 90.75, 90.75, 90.5625, 91.5, 94.55, 94.8, 90.75, 89.5, 87.0, 84.25, 79.25, 78.8, 75.375, 77.0, 77.8, 76.0, 75.0, 74.9, 74.125]\n",
            "\n",
            "Variable: High\n",
            "  Cuartil 1 (Q1): 28.18125\n",
            "  Cuartil 3 (Q3): 46.5\n",
            "  IQR: 18.31875\n",
            "  Outliers detectados: [75.0, 74.0, 77.4, 84.0, 87.25, 89.0, 90.1875, 90.75, 90.75, 90.5625, 91.5, 94.55, 94.8, 90.75, 89.5, 87.0, 84.25, 79.25, 78.8, 75.375, 77.0, 77.8, 76.0, 75.0, 74.9, 74.125]\n"
          ]
        }
      ]
    },
    {
      "cell_type": "markdown",
      "source": [
        "Cada variable tiene sus medidas de posición muy similares"
      ],
      "metadata": {
        "id": "RWLwRdRImG3N"
      }
    },
    {
      "cell_type": "code",
      "source": [
        "# Boxplots para visualizar la distribución y detectar outliers:\n",
        "plt.figure(figsize=(12, 6))\n",
        "plt.suptitle(\"Boxplots de variables cuantitativas\", fontsize=16)\n",
        "for i, col in enumerate(['Low', 'Mid', 'High'], 1):\n",
        "    plt.subplot(2, 2, i)\n",
        "    sns.boxplot(y=platePlacaDeHoja_df[col])\n",
        "    plt.title(col)\n",
        "plt.tight_layout(rect=[0, 0, 1, 0.95])\n",
        "plt.show()"
      ],
      "metadata": {
        "colab": {
          "base_uri": "https://localhost:8080/",
          "height": 609
        },
        "id": "F9HMe6Itiznd",
        "outputId": "57cecae7-f4b2-4cb6-e656-7dec9a60f762"
      },
      "execution_count": null,
      "outputs": [
        {
          "output_type": "display_data",
          "data": {
            "text/plain": [
              "<Figure size 1200x600 with 3 Axes>"
            ],
            "image/png": "[encoded data removed]"
          },
          "metadata": {}
        }
      ]
    },
    {
      "cell_type": "markdown",
      "source": [
        "Se observa en los boxplots que los datos atípicos están en la misma posición y que el tercer cuartil está más cerca de la mediana que el primer cuartil."
      ],
      "metadata": {
        "id": "UYQdkk-YndCV"
      }
    },
    {
      "cell_type": "code",
      "source": [
        "# Histogramas para analizar la distribución y ver la forma (simétrica/asimétrica):\n",
        "plt.figure(figsize=(12, 8))\n",
        "plt.suptitle(\"Histogramas de variables cuantitativas\", fontsize=16)\n",
        "for i, col in enumerate(['Low', 'Mid', 'High'], 1):\n",
        "    plt.subplot(2, 2, i)\n",
        "    sns.histplot(platePlacaDeHoja_df[col], kde=True, bins=53)\n",
        "    plt.title(col)\n",
        "plt.tight_layout(rect=[0, 0, 1, 0.93])\n",
        "plt.show()"
      ],
      "metadata": {
        "colab": {
          "base_uri": "https://localhost:8080/",
          "height": 805
        },
        "id": "_3jwemjZkodp",
        "outputId": "5b5abd96-bc2a-452b-debd-d6e51522758b"
      },
      "execution_count": null,
      "outputs": [
        {
          "output_type": "display_data",
          "data": {
            "text/plain": [
              "<Figure size 1200x800 with 3 Axes>"
            ],
            "image/png": "[encoded data removed]"
          },
          "metadata": {}
        }
      ]
    },
    {
      "cell_type": "markdown",
      "source": [
        "Se observa un ligero sesgo a la izquierda en la distribución, pues los datos más altos se agrupan más cerca de la mediana."
      ],
      "metadata": {
        "id": "tSjRHCCkn1NV"
      }
    },
    {
      "cell_type": "code",
      "source": [
        "# Mapa de calor de la correlación entre variables numéricas:\n",
        "plt.figure(figsize=(8, 6))\n",
        "corr_matrix = platePlacaDeHoja_df[['Low', 'Mid', 'High']].corr()\n",
        "sns.heatmap(corr_matrix, annot=True, cmap=\"coolwarm\", fmt=\".2f\")\n",
        "plt.title(\"Mapa de calor de correlación\")\n",
        "plt.show()"
      ],
      "metadata": {
        "colab": {
          "base_uri": "https://localhost:8080/",
          "height": 545
        },
        "id": "feNFn3oSmJIc",
        "outputId": "22f370df-c8b4-48d9-f604-61f343b9ec59"
      },
      "execution_count": null,
      "outputs": [
        {
          "output_type": "display_data",
          "data": {
            "text/plain": [
              "<Figure size 800x600 with 2 Axes>"
            ],
            "image/png": "[encoded data removed]"
          },
          "metadata": {}
        }
      ]
    },
    {
      "cell_type": "markdown",
      "source": [
        "Todas las variables tienen una correlación casi perfecta positiva."
      ],
      "metadata": {
        "id": "o6hRykjfqUvL"
      }
    },
    {
      "cell_type": "markdown",
      "source": [
        "Cada fecha es única, así que si se quieren ver distribuciones de la variable que no sean uniformes para obtener gráficos de barras y de pastel más interesantes, se puede realizar transformaciones a la variable 'Date'."
      ],
      "metadata": {
        "id": "yncv5F1rsKph"
      }
    },
    {
      "cell_type": "markdown",
      "source": [
        "#### Exportación de los datos"
      ],
      "metadata": {
        "id": "rz4qIEbIsw--"
      }
    },
    {
      "cell_type": "code",
      "source": [
        "# Exportar a CSV:\n",
        "platePlacaDeHoja_df.to_csv('platePlacaDeHoja.csv', index=False)"
      ],
      "metadata": {
        "id": "xtMkuC-HtwJd"
      },
      "execution_count": null,
      "outputs": []
    }
  ]
}
