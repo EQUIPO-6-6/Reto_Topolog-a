{
  "nbformat": 4,
  "nbformat_minor": 0,
  "metadata": {
    "colab": {
      "provenance": []
    },
    "kernelspec": {
      "name": "python3",
      "display_name": "Python 3"
    },
    "language_info": {
      "name": "python"
    }
  },
  "cells": [
    {
      "cell_type": "markdown",
      "source": [
        "# Etapa 2 - Conociendo los datos\n",
        "## Histórico de Precios: Productos Terminados\n",
        "### W Beams (Perfiles Estructurales)\n",
        "El conjunto de datos se refiere al precio de vigas de acero con dimensiones de 8 x 8 pulgadas, bajo condiciones FOB (Free on Board) en molino en los Estados Unidos. Estas vigas, identificadas como W8x8, son componentes estructurales utilizados en la construcción y otros sectores industriales."
      ],
      "metadata": {
        "id": "dIOgzUGVjCvh"
      }
    },
    {
      "cell_type": "markdown",
      "source": [
        "#### Variables\n",
        "- $Date$: Fecha en que se registró el precio del producto. Es categórica y sus valores posibles están en formato \"d/m/aaaa\", desde el primer registro hasta el presente.\n",
        "- $Low$: Precio más bajo registrado para el producto en la fecha especificada. Es numérica y sus valores posibles están en dólares estadounidenses por quintal (cwt), desde 0 hasta el máximo registrado.\n",
        "- $Mid$: Precio medio registrado para el producto en la fecha especificada. Es numérica y sus valores posibles están en dólares estadounidenses por quintal (cwt), desde 0 hasta el máximo registrado.\n",
        "- $High$: Precio más alto registrado para el producto en la fecha especificada. Es numérica y sus valores posibles están en dólares estadounidenses por quintal (cwt), desde 0 hasta el máximo registrado.\n",
        "- $Mid$ $Change$ $\\%$: Cambio porcentual en el precio medio en comparación con el período anterior (nuevo-anterior)/anterior. Es numérica y sus valores posibles están enre -1 (-100%) y el máximo cambio positivo registrado."
      ],
      "metadata": {
        "id": "jgvK0TmArGxP"
      }
    },
    {
      "cell_type": "markdown",
      "source": [
        "#### Librerías"
      ],
      "metadata": {
        "id": "xe1oKRRgkVcv"
      }
    },
    {
      "cell_type": "code",
      "source": [
        "import pandas as pd # Análisis de datos.\n",
        "import matplotlib.pyplot as plt # Gráficos.\n",
        "import seaborn as sns # Formato de los gráficos."
      ],
      "metadata": {
        "id": "6XO4m0RRa5_K"
      },
      "execution_count": null,
      "outputs": []
    },
    {
      "cell_type": "markdown",
      "source": [
        "#### Comprensión de los datos"
      ],
      "metadata": {
        "id": "MIc0D_JXtgpt"
      }
    },
    {
      "cell_type": "code",
      "execution_count": null,
      "metadata": {
        "colab": {
          "base_uri": "https://localhost:8080/",
          "height": 424
        },
        "id": "DLIX0XiXaM3E",
        "outputId": "88913302-d065-4888-b7fe-19fd35debe82"
      },
      "outputs": [
        {
          "output_type": "execute_result",
          "data": {
            "text/plain": [
              "           Date    Low    Mid   High  Mid Change %\n",
              "0     27/2/2025  63.25  63.25  63.25      0.000000\n",
              "1     30/1/2025  63.25  63.25  63.25      0.000000\n",
              "2    26/12/2024  63.25  63.25  63.25      0.000000\n",
              "3     2/12/2024  63.25  63.25  63.25      0.000000\n",
              "4    31/10/2024  63.25  63.25  63.25      0.000000\n",
              "..          ...    ...    ...    ...           ...\n",
              "205  14/10/2005  31.00  31.00  31.00      0.000000\n",
              "206   14/9/2005  31.00  31.00  31.00      0.068966\n",
              "207   14/8/2005  29.00  29.00  29.00      0.115385\n",
              "208   14/7/2005  26.00  26.00  26.00      0.000000\n",
              "209   14/6/2005  26.00  26.00  26.00           NaN\n",
              "\n",
              "[210 rows x 5 columns]"
            ],
            "text/html": [
              "\n",
              "  <div id=\"df-a6aaa8c1-60d3-4501-a301-e1c09d2d43a2\" class=\"colab-df-container\">\n",
              "    <div>\n",
              "<style scoped>\n",
              "    .dataframe tbody tr th:only-of-type {\n",
              "        vertical-align: middle;\n",
              "    }\n",
              "\n",
              "    .dataframe tbody tr th {\n",
              "        vertical-align: top;\n",
              "    }\n",
              "\n",
              "    .dataframe thead th {\n",
              "        text-align: right;\n",
              "    }\n",
              "</style>\n",
              "<table border=\"1\" class=\"dataframe\">\n",
              "  <thead>\n",
              "    <tr style=\"text-align: right;\">\n",
              "      <th></th>\n",
              "      <th>Date</th>\n",
              "      <th>Low</th>\n",
              "      <th>Mid</th>\n",
              "      <th>High</th>\n",
              "      <th>Mid Change %</th>\n",
              "    </tr>\n",
              "  </thead>\n",
              "  <tbody>\n",
              "    <tr>\n",
              "      <th>0</th>\n",
              "      <td>27/2/2025</td>\n",
              "      <td>63.25</td>\n",
              "      <td>63.25</td>\n",
              "      <td>63.25</td>\n",
              "      <td>0.000000</td>\n",
              "    </tr>\n",
              "    <tr>\n",
              "      <th>1</th>\n",
              "      <td>30/1/2025</td>\n",
              "      <td>63.25</td>\n",
              "      <td>63.25</td>\n",
              "      <td>63.25</td>\n",
              "      <td>0.000000</td>\n",
              "    </tr>\n",
              "    <tr>\n",
              "      <th>2</th>\n",
              "      <td>26/12/2024</td>\n",
              "      <td>63.25</td>\n",
              "      <td>63.25</td>\n",
              "      <td>63.25</td>\n",
              "      <td>0.000000</td>\n",
              "    </tr>\n",
              "    <tr>\n",
              "      <th>3</th>\n",
              "      <td>2/12/2024</td>\n",
              "      <td>63.25</td>\n",
              "      <td>63.25</td>\n",
              "      <td>63.25</td>\n",
              "      <td>0.000000</td>\n",
              "    </tr>\n",
              "    <tr>\n",
              "      <th>4</th>\n",
              "      <td>31/10/2024</td>\n",
              "      <td>63.25</td>\n",
              "      <td>63.25</td>\n",
              "      <td>63.25</td>\n",
              "      <td>0.000000</td>\n",
              "    </tr>\n",
              "    <tr>\n",
              "      <th>...</th>\n",
              "      <td>...</td>\n",
              "      <td>...</td>\n",
              "      <td>...</td>\n",
              "      <td>...</td>\n",
              "      <td>...</td>\n",
              "    </tr>\n",
              "    <tr>\n",
              "      <th>205</th>\n",
              "      <td>14/10/2005</td>\n",
              "      <td>31.00</td>\n",
              "      <td>31.00</td>\n",
              "      <td>31.00</td>\n",
              "      <td>0.000000</td>\n",
              "    </tr>\n",
              "    <tr>\n",
              "      <th>206</th>\n",
              "      <td>14/9/2005</td>\n",
              "      <td>31.00</td>\n",
              "      <td>31.00</td>\n",
              "      <td>31.00</td>\n",
              "      <td>0.068966</td>\n",
              "    </tr>\n",
              "    <tr>\n",
              "      <th>207</th>\n",
              "      <td>14/8/2005</td>\n",
              "      <td>29.00</td>\n",
              "      <td>29.00</td>\n",
              "      <td>29.00</td>\n",
              "      <td>0.115385</td>\n",
              "    </tr>\n",
              "    <tr>\n",
              "      <th>208</th>\n",
              "      <td>14/7/2005</td>\n",
              "      <td>26.00</td>\n",
              "      <td>26.00</td>\n",
              "      <td>26.00</td>\n",
              "      <td>0.000000</td>\n",
              "    </tr>\n",
              "    <tr>\n",
              "      <th>209</th>\n",
              "      <td>14/6/2005</td>\n",
              "      <td>26.00</td>\n",
              "      <td>26.00</td>\n",
              "      <td>26.00</td>\n",
              "      <td>NaN</td>\n",
              "    </tr>\n",
              "  </tbody>\n",
              "</table>\n",
              "<p>210 rows × 5 columns</p>\n",
              "</div>\n",
              "    <div class=\"colab-df-buttons\">\n",
              "\n",
              "  <div class=\"colab-df-container\">\n",
              "    <button class=\"colab-df-convert\" onclick=\"convertToInteractive('df-a6aaa8c1-60d3-4501-a301-e1c09d2d43a2')\"\n",
              "            title=\"Convert this dataframe to an interactive table.\"\n",
              "            style=\"display:none;\">\n",
              "\n",
              "  <svg xmlns=\"http://www.w3.org/2000/svg\" height=\"24px\" viewBox=\"0 -960 960 960\">\n",
              "    <path d=\"M120-120v-720h720v720H120Zm60-500h600v-160H180v160Zm220 220h160v-160H400v160Zm0 220h160v-160H400v160ZM180-400h160v-160H180v160Zm440 0h160v-160H620v160ZM180-180h160v-160H180v160Zm440 0h160v-160H620v160Z\"/>\n",
              "  </svg>\n",
              "    </button>\n",
              "\n",
              "  <style>\n",
              "    .colab-df-container {\n",
              "      display:flex;\n",
              "      gap: 12px;\n",
              "    }\n",
              "\n",
              "    .colab-df-convert {\n",
              "      background-color: #E8F0FE;\n",
              "      border: none;\n",
              "      border-radius: 50%;\n",
              "      cursor: pointer;\n",
              "      display: none;\n",
              "      fill: #1967D2;\n",
              "      height: 32px;\n",
              "      padding: 0 0 0 0;\n",
              "      width: 32px;\n",
              "    }\n",
              "\n",
              "    .colab-df-convert:hover {\n",
              "      background-color: #E2EBFA;\n",
              "      box-shadow: 0px 1px 2px rgba(60, 64, 67, 0.3), 0px 1px 3px 1px rgba(60, 64, 67, 0.15);\n",
              "      fill: #174EA6;\n",
              "    }\n",
              "\n",
              "    .colab-df-buttons div {\n",
              "      margin-bottom: 4px;\n",
              "    }\n",
              "\n",
              "    [theme=dark] .colab-df-convert {\n",
              "      background-color: #3B4455;\n",
              "      fill: #D2E3FC;\n",
              "    }\n",
              "\n",
              "    [theme=dark] .colab-df-convert:hover {\n",
              "      background-color: #434B5C;\n",
              "      box-shadow: 0px 1px 3px 1px rgba(0, 0, 0, 0.15);\n",
              "      filter: drop-shadow(0px 1px 2px rgba(0, 0, 0, 0.3));\n",
              "      fill: #FFFFFF;\n",
              "    }\n",
              "  </style>\n",
              "\n",
              "    <script>\n",
              "      const buttonEl =\n",
              "        document.querySelector('#df-a6aaa8c1-60d3-4501-a301-e1c09d2d43a2 button.colab-df-convert');\n",
              "      buttonEl.style.display =\n",
              "        google.colab.kernel.accessAllowed ? 'block' : 'none';\n",
              "\n",
              "      async function convertToInteractive(key) {\n",
              "        const element = document.querySelector('#df-a6aaa8c1-60d3-4501-a301-e1c09d2d43a2');\n",
              "        const dataTable =\n",
              "          await google.colab.kernel.invokeFunction('convertToInteractive',\n",
              "                                                    [key], {});\n",
              "        if (!dataTable) return;\n",
              "\n",
              "        const docLinkHtml = 'Like what you see? Visit the ' +\n",
              "          '<a target=\"_blank\" href=https://colab.research.google.com/notebooks/data_table.ipynb>data table notebook</a>'\n",
              "          + ' to learn more about interactive tables.';\n",
              "        element.innerHTML = '';\n",
              "        dataTable['output_type'] = 'display_data';\n",
              "        await google.colab.output.renderOutput(dataTable, element);\n",
              "        const docLink = document.createElement('div');\n",
              "        docLink.innerHTML = docLinkHtml;\n",
              "        element.appendChild(docLink);\n",
              "      }\n",
              "    </script>\n",
              "  </div>\n",
              "\n",
              "\n",
              "<div id=\"df-16544731-bf2e-499d-981b-d2aa6614199e\">\n",
              "  <button class=\"colab-df-quickchart\" onclick=\"quickchart('df-16544731-bf2e-499d-981b-d2aa6614199e')\"\n",
              "            title=\"Suggest charts\"\n",
              "            style=\"display:none;\">\n",
              "\n",
              "<svg xmlns=\"http://www.w3.org/2000/svg\" height=\"24px\"viewBox=\"0 0 24 24\"\n",
              "     width=\"24px\">\n",
              "    <g>\n",
              "        <path d=\"M19 3H5c-1.1 0-2 .9-2 2v14c0 1.1.9 2 2 2h14c1.1 0 2-.9 2-2V5c0-1.1-.9-2-2-2zM9 17H7v-7h2v7zm4 0h-2V7h2v10zm4 0h-2v-4h2v4z\"/>\n",
              "    </g>\n",
              "</svg>\n",
              "  </button>\n",
              "\n",
              "<style>\n",
              "  .colab-df-quickchart {\n",
              "      --bg-color: #E8F0FE;\n",
              "      --fill-color: #1967D2;\n",
              "      --hover-bg-color: #E2EBFA;\n",
              "      --hover-fill-color: #174EA6;\n",
              "      --disabled-fill-color: #AAA;\n",
              "      --disabled-bg-color: #DDD;\n",
              "  }\n",
              "\n",
              "  [theme=dark] .colab-df-quickchart {\n",
              "      --bg-color: #3B4455;\n",
              "      --fill-color: #D2E3FC;\n",
              "      --hover-bg-color: #434B5C;\n",
              "      --hover-fill-color: #FFFFFF;\n",
              "      --disabled-bg-color: #3B4455;\n",
              "      --disabled-fill-color: #666;\n",
              "  }\n",
              "\n",
              "  .colab-df-quickchart {\n",
              "    background-color: var(--bg-color);\n",
              "    border: none;\n",
              "    border-radius: 50%;\n",
              "    cursor: pointer;\n",
              "    display: none;\n",
              "    fill: var(--fill-color);\n",
              "    height: 32px;\n",
              "    padding: 0;\n",
              "    width: 32px;\n",
              "  }\n",
              "\n",
              "  .colab-df-quickchart:hover {\n",
              "    background-color: var(--hover-bg-color);\n",
              "    box-shadow: 0 1px 2px rgba(60, 64, 67, 0.3), 0 1px 3px 1px rgba(60, 64, 67, 0.15);\n",
              "    fill: var(--button-hover-fill-color);\n",
              "  }\n",
              "\n",
              "  .colab-df-quickchart-complete:disabled,\n",
              "  .colab-df-quickchart-complete:disabled:hover {\n",
              "    background-color: var(--disabled-bg-color);\n",
              "    fill: var(--disabled-fill-color);\n",
              "    box-shadow: none;\n",
              "  }\n",
              "\n",
              "  .colab-df-spinner {\n",
              "    border: 2px solid var(--fill-color);\n",
              "    border-color: transparent;\n",
              "    border-bottom-color: var(--fill-color);\n",
              "    animation:\n",
              "      spin 1s steps(1) infinite;\n",
              "  }\n",
              "\n",
              "  @keyframes spin {\n",
              "    0% {\n",
              "      border-color: transparent;\n",
              "      border-bottom-color: var(--fill-color);\n",
              "      border-left-color: var(--fill-color);\n",
              "    }\n",
              "    20% {\n",
              "      border-color: transparent;\n",
              "      border-left-color: var(--fill-color);\n",
              "      border-top-color: var(--fill-color);\n",
              "    }\n",
              "    30% {\n",
              "      border-color: transparent;\n",
              "      border-left-color: var(--fill-color);\n",
              "      border-top-color: var(--fill-color);\n",
              "      border-right-color: var(--fill-color);\n",
              "    }\n",
              "    40% {\n",
              "      border-color: transparent;\n",
              "      border-right-color: var(--fill-color);\n",
              "      border-top-color: var(--fill-color);\n",
              "    }\n",
              "    60% {\n",
              "      border-color: transparent;\n",
              "      border-right-color: var(--fill-color);\n",
              "    }\n",
              "    80% {\n",
              "      border-color: transparent;\n",
              "      border-right-color: var(--fill-color);\n",
              "      border-bottom-color: var(--fill-color);\n",
              "    }\n",
              "    90% {\n",
              "      border-color: transparent;\n",
              "      border-bottom-color: var(--fill-color);\n",
              "    }\n",
              "  }\n",
              "</style>\n",
              "\n",
              "  <script>\n",
              "    async function quickchart(key) {\n",
              "      const quickchartButtonEl =\n",
              "        document.querySelector('#' + key + ' button');\n",
              "      quickchartButtonEl.disabled = true;  // To prevent multiple clicks.\n",
              "      quickchartButtonEl.classList.add('colab-df-spinner');\n",
              "      try {\n",
              "        const charts = await google.colab.kernel.invokeFunction(\n",
              "            'suggestCharts', [key], {});\n",
              "      } catch (error) {\n",
              "        console.error('Error during call to suggestCharts:', error);\n",
              "      }\n",
              "      quickchartButtonEl.classList.remove('colab-df-spinner');\n",
              "      quickchartButtonEl.classList.add('colab-df-quickchart-complete');\n",
              "    }\n",
              "    (() => {\n",
              "      let quickchartButtonEl =\n",
              "        document.querySelector('#df-16544731-bf2e-499d-981b-d2aa6614199e button');\n",
              "      quickchartButtonEl.style.display =\n",
              "        google.colab.kernel.accessAllowed ? 'block' : 'none';\n",
              "    })();\n",
              "  </script>\n",
              "</div>\n",
              "\n",
              "  <div id=\"id_6a4753e9-f975-4da0-92a6-dd9d209ee3f7\">\n",
              "    <style>\n",
              "      .colab-df-generate {\n",
              "        background-color: #E8F0FE;\n",
              "        border: none;\n",
              "        border-radius: 50%;\n",
              "        cursor: pointer;\n",
              "        display: none;\n",
              "        fill: #1967D2;\n",
              "        height: 32px;\n",
              "        padding: 0 0 0 0;\n",
              "        width: 32px;\n",
              "      }\n",
              "\n",
              "      .colab-df-generate:hover {\n",
              "        background-color: #E2EBFA;\n",
              "        box-shadow: 0px 1px 2px rgba(60, 64, 67, 0.3), 0px 1px 3px 1px rgba(60, 64, 67, 0.15);\n",
              "        fill: #174EA6;\n",
              "      }\n",
              "\n",
              "      [theme=dark] .colab-df-generate {\n",
              "        background-color: #3B4455;\n",
              "        fill: #D2E3FC;\n",
              "      }\n",
              "\n",
              "      [theme=dark] .colab-df-generate:hover {\n",
              "        background-color: #434B5C;\n",
              "        box-shadow: 0px 1px 3px 1px rgba(0, 0, 0, 0.15);\n",
              "        filter: drop-shadow(0px 1px 2px rgba(0, 0, 0, 0.3));\n",
              "        fill: #FFFFFF;\n",
              "      }\n",
              "    </style>\n",
              "    <button class=\"colab-df-generate\" onclick=\"generateWithVariable('wBeamsPerfilesEstructurales_df')\"\n",
              "            title=\"Generate code using this dataframe.\"\n",
              "            style=\"display:none;\">\n",
              "\n",
              "  <svg xmlns=\"http://www.w3.org/2000/svg\" height=\"24px\"viewBox=\"0 0 24 24\"\n",
              "       width=\"24px\">\n",
              "    <path d=\"M7,19H8.4L18.45,9,17,7.55,7,17.6ZM5,21V16.75L18.45,3.32a2,2,0,0,1,2.83,0l1.4,1.43a1.91,1.91,0,0,1,.58,1.4,1.91,1.91,0,0,1-.58,1.4L9.25,21ZM18.45,9,17,7.55Zm-12,3A5.31,5.31,0,0,0,4.9,8.1,5.31,5.31,0,0,0,1,6.5,5.31,5.31,0,0,0,4.9,4.9,5.31,5.31,0,0,0,6.5,1,5.31,5.31,0,0,0,8.1,4.9,5.31,5.31,0,0,0,12,6.5,5.46,5.46,0,0,0,6.5,12Z\"/>\n",
              "  </svg>\n",
              "    </button>\n",
              "    <script>\n",
              "      (() => {\n",
              "      const buttonEl =\n",
              "        document.querySelector('#id_6a4753e9-f975-4da0-92a6-dd9d209ee3f7 button.colab-df-generate');\n",
              "      buttonEl.style.display =\n",
              "        google.colab.kernel.accessAllowed ? 'block' : 'none';\n",
              "\n",
              "      buttonEl.onclick = () => {\n",
              "        google.colab.notebook.generateWithVariable('wBeamsPerfilesEstructurales_df');\n",
              "      }\n",
              "      })();\n",
              "    </script>\n",
              "  </div>\n",
              "\n",
              "    </div>\n",
              "  </div>\n"
            ],
            "application/vnd.google.colaboratory.intrinsic+json": {
              "type": "dataframe",
              "variable_name": "wBeamsPerfilesEstructurales_df",
              "summary": "{\n  \"name\": \"wBeamsPerfilesEstructurales_df\",\n  \"rows\": 210,\n  \"fields\": [\n    {\n      \"column\": \"Date\",\n      \"properties\": {\n        \"dtype\": \"object\",\n        \"num_unique_values\": 210,\n        \"samples\": [\n          \"25/8/2022\",\n          \"14/7/2008\",\n          \"1/3/2018\"\n        ],\n        \"semantic_type\": \"\",\n        \"description\": \"\"\n      }\n    },\n    {\n      \"column\": \"Low\",\n      \"properties\": {\n        \"dtype\": \"number\",\n        \"std\": 13.049126588256248,\n        \"min\": 26.0,\n        \"max\": 76.5,\n        \"num_unique_values\": 69,\n        \"samples\": [\n          38.25,\n          63.25,\n          36.25\n        ],\n        \"semantic_type\": \"\",\n        \"description\": \"\"\n      }\n    },\n    {\n      \"column\": \"Mid\",\n      \"properties\": {\n        \"dtype\": \"number\",\n        \"std\": 13.000562330407567,\n        \"min\": 26.0,\n        \"max\": 76.5,\n        \"num_unique_values\": 72,\n        \"samples\": [\n          68.5,\n          44.85,\n          35.25\n        ],\n        \"semantic_type\": \"\",\n        \"description\": \"\"\n      }\n    },\n    {\n      \"column\": \"High\",\n      \"properties\": {\n        \"dtype\": \"number\",\n        \"std\": 12.956012467450504,\n        \"min\": 26.0,\n        \"max\": 76.5,\n        \"num_unique_values\": 67,\n        \"samples\": [\n          38.5,\n          45.5,\n          68.5\n        ],\n        \"semantic_type\": \"\",\n        \"description\": \"\"\n      }\n    },\n    {\n      \"column\": \"Mid Change %\",\n      \"properties\": {\n        \"dtype\": \"number\",\n        \"std\": 0.04231262601055552,\n        \"min\": -0.18139,\n        \"max\": 0.197368,\n        \"num_unique_values\": 105,\n        \"samples\": [\n          -0.04023,\n          -0.037037,\n          0.012821\n        ],\n        \"semantic_type\": \"\",\n        \"description\": \"\"\n      }\n    }\n  ]\n}"
            }
          },
          "metadata": {},
          "execution_count": 21
        }
      ],
      "source": [
        "# Leer el archivo Excel:\n",
        "wBeamsPerfilesEstructurales_df = pd.read_excel('COPYOF~2.XLS',\n",
        "  skiprows=9, nrows=220-9, engine='openpyxl')\n",
        "\n",
        "# Mostrar las primeras filas del DataFrame:\n",
        "wBeamsPerfilesEstructurales_df"
      ]
    },
    {
      "cell_type": "markdown",
      "source": [
        "Son 211 filas y 5 columnas."
      ],
      "metadata": {
        "id": "Z19EU581lEra"
      }
    },
    {
      "cell_type": "markdown",
      "source": [
        "Se agruparán los datos anteriores por mes, y se quitará la columna de 'Mid Change %', pues no es de interés para los objetivos de nuestro proyecto. De las demás columnas se obtendrá un promedio mensual."
      ],
      "metadata": {
        "id": "3ShwuKlLkajD"
      }
    },
    {
      "cell_type": "code",
      "source": [
        "# Convertir la columna 'Date' a tipo datetime, considerando el formato d/m/aaaa:\n",
        "wBeamsPerfilesEstructurales_df['Date'] = pd.to_datetime(wBeamsPerfilesEstructurales_df['Date'], dayfirst=True)\n",
        "\n",
        "# Establecer 'Date' como índice:\n",
        "wBeamsPerfilesEstructurales_df.set_index('Date', inplace=True)\n",
        "\n",
        "# Re-muestrear los datos a nivel mensual y obtener el promedio de las columnas 'Low', 'Mid' y 'High':\n",
        "wBeamsPerfilesEstructurales_df = wBeamsPerfilesEstructurales_df.resample('M')[['Low', 'Mid', 'High']].mean()\n",
        "\n",
        "# Opcional: Reiniciar el índice para tener 'Date' como columna nuevamente:\n",
        "wBeamsPerfilesEstructurales_df = wBeamsPerfilesEstructurales_df.reset_index()\n",
        "\n",
        "# Formatear la columna 'Date' para mostrar 'NombreMes Año':\n",
        "wBeamsPerfilesEstructurales_df['Date'] = wBeamsPerfilesEstructurales_df['Date'].dt.strftime('%B %Y')\n",
        "\n",
        "# Mostrar el DataFrame resultante:\n",
        "wBeamsPerfilesEstructurales_df"
      ],
      "metadata": {
        "colab": {
          "base_uri": "https://localhost:8080/",
          "height": 460
        },
        "id": "QEk35dPscLt9",
        "outputId": "1674fd7a-4acf-40bf-fecc-03c96747f57b"
      },
      "execution_count": null,
      "outputs": [
        {
          "output_type": "stream",
          "name": "stderr",
          "text": [
            "<ipython-input-22-8a97e5ddb3d9>:8: FutureWarning: 'M' is deprecated and will be removed in a future version, please use 'ME' instead.\n",
            "  wBeamsPerfilesEstructurales_df = wBeamsPerfilesEstructurales_df.resample('M')[['Low', 'Mid', 'High']].mean()\n"
          ]
        },
        {
          "output_type": "execute_result",
          "data": {
            "text/plain": [
              "               Date    Low    Mid   High\n",
              "0         June 2005  26.00  26.00  26.00\n",
              "1         July 2005  26.00  26.00  26.00\n",
              "2       August 2005  29.00  29.00  29.00\n",
              "3    September 2005  31.00  31.00  31.00\n",
              "4      October 2005  31.00  31.00  31.00\n",
              "..              ...    ...    ...    ...\n",
              "232    October 2024  63.25  63.25  63.25\n",
              "233   November 2024    NaN    NaN    NaN\n",
              "234   December 2024  63.25  63.25  63.25\n",
              "235    January 2025  63.25  63.25  63.25\n",
              "236   February 2025  63.25  63.25  63.25\n",
              "\n",
              "[237 rows x 4 columns]"
            ],
            "text/html": [
              "\n",
              "  <div id=\"df-00498be4-d1fd-4192-ab1b-773fb507291d\" class=\"colab-df-container\">\n",
              "    <div>\n",
              "<style scoped>\n",
              "    .dataframe tbody tr th:only-of-type {\n",
              "        vertical-align: middle;\n",
              "    }\n",
              "\n",
              "    .dataframe tbody tr th {\n",
              "        vertical-align: top;\n",
              "    }\n",
              "\n",
              "    .dataframe thead th {\n",
              "        text-align: right;\n",
              "    }\n",
              "</style>\n",
              "<table border=\"1\" class=\"dataframe\">\n",
              "  <thead>\n",
              "    <tr style=\"text-align: right;\">\n",
              "      <th></th>\n",
              "      <th>Date</th>\n",
              "      <th>Low</th>\n",
              "      <th>Mid</th>\n",
              "      <th>High</th>\n",
              "    </tr>\n",
              "  </thead>\n",
              "  <tbody>\n",
              "    <tr>\n",
              "      <th>0</th>\n",
              "      <td>June 2005</td>\n",
              "      <td>26.00</td>\n",
              "      <td>26.00</td>\n",
              "      <td>26.00</td>\n",
              "    </tr>\n",
              "    <tr>\n",
              "      <th>1</th>\n",
              "      <td>July 2005</td>\n",
              "      <td>26.00</td>\n",
              "      <td>26.00</td>\n",
              "      <td>26.00</td>\n",
              "    </tr>\n",
              "    <tr>\n",
              "      <th>2</th>\n",
              "      <td>August 2005</td>\n",
              "      <td>29.00</td>\n",
              "      <td>29.00</td>\n",
              "      <td>29.00</td>\n",
              "    </tr>\n",
              "    <tr>\n",
              "      <th>3</th>\n",
              "      <td>September 2005</td>\n",
              "      <td>31.00</td>\n",
              "      <td>31.00</td>\n",
              "      <td>31.00</td>\n",
              "    </tr>\n",
              "    <tr>\n",
              "      <th>4</th>\n",
              "      <td>October 2005</td>\n",
              "      <td>31.00</td>\n",
              "      <td>31.00</td>\n",
              "      <td>31.00</td>\n",
              "    </tr>\n",
              "    <tr>\n",
              "      <th>...</th>\n",
              "      <td>...</td>\n",
              "      <td>...</td>\n",
              "      <td>...</td>\n",
              "      <td>...</td>\n",
              "    </tr>\n",
              "    <tr>\n",
              "      <th>232</th>\n",
              "      <td>October 2024</td>\n",
              "      <td>63.25</td>\n",
              "      <td>63.25</td>\n",
              "      <td>63.25</td>\n",
              "    </tr>\n",
              "    <tr>\n",
              "      <th>233</th>\n",
              "      <td>November 2024</td>\n",
              "      <td>NaN</td>\n",
              "      <td>NaN</td>\n",
              "      <td>NaN</td>\n",
              "    </tr>\n",
              "    <tr>\n",
              "      <th>234</th>\n",
              "      <td>December 2024</td>\n",
              "      <td>63.25</td>\n",
              "      <td>63.25</td>\n",
              "      <td>63.25</td>\n",
              "    </tr>\n",
              "    <tr>\n",
              "      <th>235</th>\n",
              "      <td>January 2025</td>\n",
              "      <td>63.25</td>\n",
              "      <td>63.25</td>\n",
              "      <td>63.25</td>\n",
              "    </tr>\n",
              "    <tr>\n",
              "      <th>236</th>\n",
              "      <td>February 2025</td>\n",
              "      <td>63.25</td>\n",
              "      <td>63.25</td>\n",
              "      <td>63.25</td>\n",
              "    </tr>\n",
              "  </tbody>\n",
              "</table>\n",
              "<p>237 rows × 4 columns</p>\n",
              "</div>\n",
              "    <div class=\"colab-df-buttons\">\n",
              "\n",
              "  <div class=\"colab-df-container\">\n",
              "    <button class=\"colab-df-convert\" onclick=\"convertToInteractive('df-00498be4-d1fd-4192-ab1b-773fb507291d')\"\n",
              "            title=\"Convert this dataframe to an interactive table.\"\n",
              "            style=\"display:none;\">\n",
              "\n",
              "  <svg xmlns=\"http://www.w3.org/2000/svg\" height=\"24px\" viewBox=\"0 -960 960 960\">\n",
              "    <path d=\"M120-120v-720h720v720H120Zm60-500h600v-160H180v160Zm220 220h160v-160H400v160Zm0 220h160v-160H400v160ZM180-400h160v-160H180v160Zm440 0h160v-160H620v160ZM180-180h160v-160H180v160Zm440 0h160v-160H620v160Z\"/>\n",
              "  </svg>\n",
              "    </button>\n",
              "\n",
              "  <style>\n",
              "    .colab-df-container {\n",
              "      display:flex;\n",
              "      gap: 12px;\n",
              "    }\n",
              "\n",
              "    .colab-df-convert {\n",
              "      background-color: #E8F0FE;\n",
              "      border: none;\n",
              "      border-radius: 50%;\n",
              "      cursor: pointer;\n",
              "      display: none;\n",
              "      fill: #1967D2;\n",
              "      height: 32px;\n",
              "      padding: 0 0 0 0;\n",
              "      width: 32px;\n",
              "    }\n",
              "\n",
              "    .colab-df-convert:hover {\n",
              "      background-color: #E2EBFA;\n",
              "      box-shadow: 0px 1px 2px rgba(60, 64, 67, 0.3), 0px 1px 3px 1px rgba(60, 64, 67, 0.15);\n",
              "      fill: #174EA6;\n",
              "    }\n",
              "\n",
              "    .colab-df-buttons div {\n",
              "      margin-bottom: 4px;\n",
              "    }\n",
              "\n",
              "    [theme=dark] .colab-df-convert {\n",
              "      background-color: #3B4455;\n",
              "      fill: #D2E3FC;\n",
              "    }\n",
              "\n",
              "    [theme=dark] .colab-df-convert:hover {\n",
              "      background-color: #434B5C;\n",
              "      box-shadow: 0px 1px 3px 1px rgba(0, 0, 0, 0.15);\n",
              "      filter: drop-shadow(0px 1px 2px rgba(0, 0, 0, 0.3));\n",
              "      fill: #FFFFFF;\n",
              "    }\n",
              "  </style>\n",
              "\n",
              "    <script>\n",
              "      const buttonEl =\n",
              "        document.querySelector('#df-00498be4-d1fd-4192-ab1b-773fb507291d button.colab-df-convert');\n",
              "      buttonEl.style.display =\n",
              "        google.colab.kernel.accessAllowed ? 'block' : 'none';\n",
              "\n",
              "      async function convertToInteractive(key) {\n",
              "        const element = document.querySelector('#df-00498be4-d1fd-4192-ab1b-773fb507291d');\n",
              "        const dataTable =\n",
              "          await google.colab.kernel.invokeFunction('convertToInteractive',\n",
              "                                                    [key], {});\n",
              "        if (!dataTable) return;\n",
              "\n",
              "        const docLinkHtml = 'Like what you see? Visit the ' +\n",
              "          '<a target=\"_blank\" href=https://colab.research.google.com/notebooks/data_table.ipynb>data table notebook</a>'\n",
              "          + ' to learn more about interactive tables.';\n",
              "        element.innerHTML = '';\n",
              "        dataTable['output_type'] = 'display_data';\n",
              "        await google.colab.output.renderOutput(dataTable, element);\n",
              "        const docLink = document.createElement('div');\n",
              "        docLink.innerHTML = docLinkHtml;\n",
              "        element.appendChild(docLink);\n",
              "      }\n",
              "    </script>\n",
              "  </div>\n",
              "\n",
              "\n",
              "<div id=\"df-2e5c0a29-1570-4a8c-b42b-f5aa9e3630fe\">\n",
              "  <button class=\"colab-df-quickchart\" onclick=\"quickchart('df-2e5c0a29-1570-4a8c-b42b-f5aa9e3630fe')\"\n",
              "            title=\"Suggest charts\"\n",
              "            style=\"display:none;\">\n",
              "\n",
              "<svg xmlns=\"http://www.w3.org/2000/svg\" height=\"24px\"viewBox=\"0 0 24 24\"\n",
              "     width=\"24px\">\n",
              "    <g>\n",
              "        <path d=\"M19 3H5c-1.1 0-2 .9-2 2v14c0 1.1.9 2 2 2h14c1.1 0 2-.9 2-2V5c0-1.1-.9-2-2-2zM9 17H7v-7h2v7zm4 0h-2V7h2v10zm4 0h-2v-4h2v4z\"/>\n",
              "    </g>\n",
              "</svg>\n",
              "  </button>\n",
              "\n",
              "<style>\n",
              "  .colab-df-quickchart {\n",
              "      --bg-color: #E8F0FE;\n",
              "      --fill-color: #1967D2;\n",
              "      --hover-bg-color: #E2EBFA;\n",
              "      --hover-fill-color: #174EA6;\n",
              "      --disabled-fill-color: #AAA;\n",
              "      --disabled-bg-color: #DDD;\n",
              "  }\n",
              "\n",
              "  [theme=dark] .colab-df-quickchart {\n",
              "      --bg-color: #3B4455;\n",
              "      --fill-color: #D2E3FC;\n",
              "      --hover-bg-color: #434B5C;\n",
              "      --hover-fill-color: #FFFFFF;\n",
              "      --disabled-bg-color: #3B4455;\n",
              "      --disabled-fill-color: #666;\n",
              "  }\n",
              "\n",
              "  .colab-df-quickchart {\n",
              "    background-color: var(--bg-color);\n",
              "    border: none;\n",
              "    border-radius: 50%;\n",
              "    cursor: pointer;\n",
              "    display: none;\n",
              "    fill: var(--fill-color);\n",
              "    height: 32px;\n",
              "    padding: 0;\n",
              "    width: 32px;\n",
              "  }\n",
              "\n",
              "  .colab-df-quickchart:hover {\n",
              "    background-color: var(--hover-bg-color);\n",
              "    box-shadow: 0 1px 2px rgba(60, 64, 67, 0.3), 0 1px 3px 1px rgba(60, 64, 67, 0.15);\n",
              "    fill: var(--button-hover-fill-color);\n",
              "  }\n",
              "\n",
              "  .colab-df-quickchart-complete:disabled,\n",
              "  .colab-df-quickchart-complete:disabled:hover {\n",
              "    background-color: var(--disabled-bg-color);\n",
              "    fill: var(--disabled-fill-color);\n",
              "    box-shadow: none;\n",
              "  }\n",
              "\n",
              "  .colab-df-spinner {\n",
              "    border: 2px solid var(--fill-color);\n",
              "    border-color: transparent;\n",
              "    border-bottom-color: var(--fill-color);\n",
              "    animation:\n",
              "      spin 1s steps(1) infinite;\n",
              "  }\n",
              "\n",
              "  @keyframes spin {\n",
              "    0% {\n",
              "      border-color: transparent;\n",
              "      border-bottom-color: var(--fill-color);\n",
              "      border-left-color: var(--fill-color);\n",
              "    }\n",
              "    20% {\n",
              "      border-color: transparent;\n",
              "      border-left-color: var(--fill-color);\n",
              "      border-top-color: var(--fill-color);\n",
              "    }\n",
              "    30% {\n",
              "      border-color: transparent;\n",
              "      border-left-color: var(--fill-color);\n",
              "      border-top-color: var(--fill-color);\n",
              "      border-right-color: var(--fill-color);\n",
              "    }\n",
              "    40% {\n",
              "      border-color: transparent;\n",
              "      border-right-color: var(--fill-color);\n",
              "      border-top-color: var(--fill-color);\n",
              "    }\n",
              "    60% {\n",
              "      border-color: transparent;\n",
              "      border-right-color: var(--fill-color);\n",
              "    }\n",
              "    80% {\n",
              "      border-color: transparent;\n",
              "      border-right-color: var(--fill-color);\n",
              "      border-bottom-color: var(--fill-color);\n",
              "    }\n",
              "    90% {\n",
              "      border-color: transparent;\n",
              "      border-bottom-color: var(--fill-color);\n",
              "    }\n",
              "  }\n",
              "</style>\n",
              "\n",
              "  <script>\n",
              "    async function quickchart(key) {\n",
              "      const quickchartButtonEl =\n",
              "        document.querySelector('#' + key + ' button');\n",
              "      quickchartButtonEl.disabled = true;  // To prevent multiple clicks.\n",
              "      quickchartButtonEl.classList.add('colab-df-spinner');\n",
              "      try {\n",
              "        const charts = await google.colab.kernel.invokeFunction(\n",
              "            'suggestCharts', [key], {});\n",
              "      } catch (error) {\n",
              "        console.error('Error during call to suggestCharts:', error);\n",
              "      }\n",
              "      quickchartButtonEl.classList.remove('colab-df-spinner');\n",
              "      quickchartButtonEl.classList.add('colab-df-quickchart-complete');\n",
              "    }\n",
              "    (() => {\n",
              "      let quickchartButtonEl =\n",
              "        document.querySelector('#df-2e5c0a29-1570-4a8c-b42b-f5aa9e3630fe button');\n",
              "      quickchartButtonEl.style.display =\n",
              "        google.colab.kernel.accessAllowed ? 'block' : 'none';\n",
              "    })();\n",
              "  </script>\n",
              "</div>\n",
              "\n",
              "  <div id=\"id_09ee2702-fe0f-4e31-be75-7bbb689bddb2\">\n",
              "    <style>\n",
              "      .colab-df-generate {\n",
              "        background-color: #E8F0FE;\n",
              "        border: none;\n",
              "        border-radius: 50%;\n",
              "        cursor: pointer;\n",
              "        display: none;\n",
              "        fill: #1967D2;\n",
              "        height: 32px;\n",
              "        padding: 0 0 0 0;\n",
              "        width: 32px;\n",
              "      }\n",
              "\n",
              "      .colab-df-generate:hover {\n",
              "        background-color: #E2EBFA;\n",
              "        box-shadow: 0px 1px 2px rgba(60, 64, 67, 0.3), 0px 1px 3px 1px rgba(60, 64, 67, 0.15);\n",
              "        fill: #174EA6;\n",
              "      }\n",
              "\n",
              "      [theme=dark] .colab-df-generate {\n",
              "        background-color: #3B4455;\n",
              "        fill: #D2E3FC;\n",
              "      }\n",
              "\n",
              "      [theme=dark] .colab-df-generate:hover {\n",
              "        background-color: #434B5C;\n",
              "        box-shadow: 0px 1px 3px 1px rgba(0, 0, 0, 0.15);\n",
              "        filter: drop-shadow(0px 1px 2px rgba(0, 0, 0, 0.3));\n",
              "        fill: #FFFFFF;\n",
              "      }\n",
              "    </style>\n",
              "    <button class=\"colab-df-generate\" onclick=\"generateWithVariable('wBeamsPerfilesEstructurales_df')\"\n",
              "            title=\"Generate code using this dataframe.\"\n",
              "            style=\"display:none;\">\n",
              "\n",
              "  <svg xmlns=\"http://www.w3.org/2000/svg\" height=\"24px\"viewBox=\"0 0 24 24\"\n",
              "       width=\"24px\">\n",
              "    <path d=\"M7,19H8.4L18.45,9,17,7.55,7,17.6ZM5,21V16.75L18.45,3.32a2,2,0,0,1,2.83,0l1.4,1.43a1.91,1.91,0,0,1,.58,1.4,1.91,1.91,0,0,1-.58,1.4L9.25,21ZM18.45,9,17,7.55Zm-12,3A5.31,5.31,0,0,0,4.9,8.1,5.31,5.31,0,0,0,1,6.5,5.31,5.31,0,0,0,4.9,4.9,5.31,5.31,0,0,0,6.5,1,5.31,5.31,0,0,0,8.1,4.9,5.31,5.31,0,0,0,12,6.5,5.46,5.46,0,0,0,6.5,12Z\"/>\n",
              "  </svg>\n",
              "    </button>\n",
              "    <script>\n",
              "      (() => {\n",
              "      const buttonEl =\n",
              "        document.querySelector('#id_09ee2702-fe0f-4e31-be75-7bbb689bddb2 button.colab-df-generate');\n",
              "      buttonEl.style.display =\n",
              "        google.colab.kernel.accessAllowed ? 'block' : 'none';\n",
              "\n",
              "      buttonEl.onclick = () => {\n",
              "        google.colab.notebook.generateWithVariable('wBeamsPerfilesEstructurales_df');\n",
              "      }\n",
              "      })();\n",
              "    </script>\n",
              "  </div>\n",
              "\n",
              "    </div>\n",
              "  </div>\n"
            ],
            "application/vnd.google.colaboratory.intrinsic+json": {
              "type": "dataframe",
              "variable_name": "wBeamsPerfilesEstructurales_df",
              "summary": "{\n  \"name\": \"wBeamsPerfilesEstructurales_df\",\n  \"rows\": 237,\n  \"fields\": [\n    {\n      \"column\": \"Date\",\n      \"properties\": {\n        \"dtype\": \"object\",\n        \"num_unique_values\": 237,\n        \"samples\": [\n          \"January 2015\",\n          \"September 2006\",\n          \"January 2023\"\n        ],\n        \"semantic_type\": \"\",\n        \"description\": \"\"\n      }\n    },\n    {\n      \"column\": \"Low\",\n      \"properties\": {\n        \"dtype\": \"number\",\n        \"std\": 13.054739809043443,\n        \"min\": 26.0,\n        \"max\": 76.5,\n        \"num_unique_values\": 70,\n        \"samples\": [\n          35.75,\n          26.0,\n          41.25\n        ],\n        \"semantic_type\": \"\",\n        \"description\": \"\"\n      }\n    },\n    {\n      \"column\": \"Mid\",\n      \"properties\": {\n        \"dtype\": \"number\",\n        \"std\": 13.004362132447097,\n        \"min\": 26.0,\n        \"max\": 76.5,\n        \"num_unique_values\": 72,\n        \"samples\": [\n          33.1,\n          68.0,\n          43.45\n        ],\n        \"semantic_type\": \"\",\n        \"description\": \"\"\n      }\n    },\n    {\n      \"column\": \"High\",\n      \"properties\": {\n        \"dtype\": \"number\",\n        \"std\": 12.958134818830258,\n        \"min\": 26.0,\n        \"max\": 76.5,\n        \"num_unique_values\": 67,\n        \"samples\": [\n          38.75,\n          57.6,\n          33.1\n        ],\n        \"semantic_type\": \"\",\n        \"description\": \"\"\n      }\n    }\n  ]\n}"
            }
          },
          "metadata": {},
          "execution_count": 22
        }
      ]
    },
    {
      "cell_type": "markdown",
      "source": [
        "Ahora son 273 filas y 4 columnas."
      ],
      "metadata": {
        "id": "5p0Kmf8mlIrC"
      }
    },
    {
      "cell_type": "markdown",
      "source": [
        "#### Calidad de los datos"
      ],
      "metadata": {
        "id": "JGMP9n3LfBnd"
      }
    },
    {
      "cell_type": "code",
      "source": [
        "# Contar datos nulos de cada columna:\n",
        "valores_nulos_por_columna = wBeamsPerfilesEstructurales_df.isnull().sum()\n",
        "valores_nulos_por_columna.name = 'Valores Nulos'\n",
        "valores_nulos_por_columna"
      ],
      "metadata": {
        "colab": {
          "base_uri": "https://localhost:8080/",
          "height": 210
        },
        "id": "TM2SbdogfC5Q",
        "outputId": "9924ebc1-28d2-4c9d-acbd-2d824032f3c7"
      },
      "execution_count": null,
      "outputs": [
        {
          "output_type": "execute_result",
          "data": {
            "text/plain": [
              "Date     0\n",
              "Low     35\n",
              "Mid     35\n",
              "High    35\n",
              "Name: Valores Nulos, dtype: int64"
            ],
            "text/html": [
              "<div>\n",
              "<style scoped>\n",
              "    .dataframe tbody tr th:only-of-type {\n",
              "        vertical-align: middle;\n",
              "    }\n",
              "\n",
              "    .dataframe tbody tr th {\n",
              "        vertical-align: top;\n",
              "    }\n",
              "\n",
              "    .dataframe thead th {\n",
              "        text-align: right;\n",
              "    }\n",
              "</style>\n",
              "<table border=\"1\" class=\"dataframe\">\n",
              "  <thead>\n",
              "    <tr style=\"text-align: right;\">\n",
              "      <th></th>\n",
              "      <th>Valores Nulos</th>\n",
              "    </tr>\n",
              "  </thead>\n",
              "  <tbody>\n",
              "    <tr>\n",
              "      <th>Date</th>\n",
              "      <td>0</td>\n",
              "    </tr>\n",
              "    <tr>\n",
              "      <th>Low</th>\n",
              "      <td>35</td>\n",
              "    </tr>\n",
              "    <tr>\n",
              "      <th>Mid</th>\n",
              "      <td>35</td>\n",
              "    </tr>\n",
              "    <tr>\n",
              "      <th>High</th>\n",
              "      <td>35</td>\n",
              "    </tr>\n",
              "  </tbody>\n",
              "</table>\n",
              "</div><br><label><b>dtype:</b> int64</label>"
            ]
          },
          "metadata": {},
          "execution_count": 23
        }
      ]
    },
    {
      "cell_type": "markdown",
      "source": [
        "Los valores nulos se dan porque hay meses en el dataframe original en los que no hay cambio de precio, se hará una interpolación del último dato no nulo anterior y el primer dato no nulo posterior."
      ],
      "metadata": {
        "id": "VwikOsuxfKXw"
      }
    },
    {
      "cell_type": "code",
      "source": [
        "# Aplicar la interpolación lineal a las columnas 'Low', 'Mid' y 'High':\n",
        "wBeamsPerfilesEstructurales_df[['Low', 'Mid', 'High']] = wBeamsPerfilesEstructurales_df[['Low', 'Mid', 'High']].interpolate(method='linear', limit_direction='both')"
      ],
      "metadata": {
        "id": "_eowzgLbf42_"
      },
      "execution_count": null,
      "outputs": []
    },
    {
      "cell_type": "code",
      "source": [
        "valores_nulos_por_columna = wBeamsPerfilesEstructurales_df.isnull().sum()\n",
        "valores_nulos_por_columna.name = 'Valores Nulos'\n",
        "valores_nulos_por_columna"
      ],
      "metadata": {
        "colab": {
          "base_uri": "https://localhost:8080/",
          "height": 210
        },
        "id": "wvfe6vRHggCU",
        "outputId": "2cd1b5a8-f03f-4d9e-ef56-d1e6cbea4ccd"
      },
      "execution_count": null,
      "outputs": [
        {
          "output_type": "execute_result",
          "data": {
            "text/plain": [
              "Date    0\n",
              "Low     0\n",
              "Mid     0\n",
              "High    0\n",
              "Name: Valores Nulos, dtype: int64"
            ],
            "text/html": [
              "<div>\n",
              "<style scoped>\n",
              "    .dataframe tbody tr th:only-of-type {\n",
              "        vertical-align: middle;\n",
              "    }\n",
              "\n",
              "    .dataframe tbody tr th {\n",
              "        vertical-align: top;\n",
              "    }\n",
              "\n",
              "    .dataframe thead th {\n",
              "        text-align: right;\n",
              "    }\n",
              "</style>\n",
              "<table border=\"1\" class=\"dataframe\">\n",
              "  <thead>\n",
              "    <tr style=\"text-align: right;\">\n",
              "      <th></th>\n",
              "      <th>Valores Nulos</th>\n",
              "    </tr>\n",
              "  </thead>\n",
              "  <tbody>\n",
              "    <tr>\n",
              "      <th>Date</th>\n",
              "      <td>0</td>\n",
              "    </tr>\n",
              "    <tr>\n",
              "      <th>Low</th>\n",
              "      <td>0</td>\n",
              "    </tr>\n",
              "    <tr>\n",
              "      <th>Mid</th>\n",
              "      <td>0</td>\n",
              "    </tr>\n",
              "    <tr>\n",
              "      <th>High</th>\n",
              "      <td>0</td>\n",
              "    </tr>\n",
              "  </tbody>\n",
              "</table>\n",
              "</div><br><label><b>dtype:</b> int64</label>"
            ]
          },
          "metadata": {},
          "execution_count": 25
        }
      ]
    },
    {
      "cell_type": "markdown",
      "source": [
        "Ya no hay datos nulos."
      ],
      "metadata": {
        "id": "Sr8ohTqvghl8"
      }
    },
    {
      "cell_type": "code",
      "source": [
        "# Contar registros duplicados:\n",
        "num_duplicados = wBeamsPerfilesEstructurales_df.duplicated().sum()\n",
        "print(f\"Número de registros duplicados: {num_duplicados}\")\n",
        "\n",
        "# Visualizar los registros duplicados (si existen):\n",
        "if num_duplicados > 0:\n",
        "    duplicados = wBeamsPerfilesEstructurales_df[wBeamsPerfilesEstructurales_df.duplicated()]\n",
        "    print(\"Registros duplicados:\")\n",
        "    print(duplicados)"
      ],
      "metadata": {
        "colab": {
          "base_uri": "https://localhost:8080/"
        },
        "id": "-P0WgrpEhTqG",
        "outputId": "1e752347-baea-4c2a-e33d-87fe5574b5ee"
      },
      "execution_count": null,
      "outputs": [
        {
          "output_type": "stream",
          "name": "stdout",
          "text": [
            "Número de registros duplicados: 0\n"
          ]
        }
      ]
    },
    {
      "cell_type": "code",
      "source": [
        "# Detectar registros con valores fuera del rango esperado:\n",
        "erroneos = wBeamsPerfilesEstructurales_df[(wBeamsPerfilesEstructurales_df['Low'] < 0) | (wBeamsPerfilesEstructurales_df['Mid'] < 0) | (wBeamsPerfilesEstructurales_df['High'] < 0)]\n",
        "print(\"Registros con valores erróneos en 'Low':\")\n",
        "print(erroneos)"
      ],
      "metadata": {
        "colab": {
          "base_uri": "https://localhost:8080/"
        },
        "id": "BWZG05U5hlRP",
        "outputId": "508610ef-912e-447b-83cd-cf04c1e73061"
      },
      "execution_count": null,
      "outputs": [
        {
          "output_type": "stream",
          "name": "stdout",
          "text": [
            "Registros con valores erróneos en 'Low':\n",
            "Empty DataFrame\n",
            "Columns: [Date, Low, Mid, High]\n",
            "Index: []\n"
          ]
        }
      ]
    },
    {
      "cell_type": "markdown",
      "source": [
        "Los precios están dentro del rango correcto."
      ],
      "metadata": {
        "id": "Hr-UBG-2h5oZ"
      }
    },
    {
      "cell_type": "code",
      "source": [
        "wBeamsPerfilesEstructurales_df.dtypes # Tipos de dato."
      ],
      "metadata": {
        "colab": {
          "base_uri": "https://localhost:8080/",
          "height": 210
        },
        "id": "41ggyELhhxl3",
        "outputId": "289fcb07-e988-417c-ca31-8b083dac0c00"
      },
      "execution_count": null,
      "outputs": [
        {
          "output_type": "execute_result",
          "data": {
            "text/plain": [
              "Date     object\n",
              "Low     float64\n",
              "Mid     float64\n",
              "High    float64\n",
              "dtype: object"
            ],
            "text/html": [
              "<div>\n",
              "<style scoped>\n",
              "    .dataframe tbody tr th:only-of-type {\n",
              "        vertical-align: middle;\n",
              "    }\n",
              "\n",
              "    .dataframe tbody tr th {\n",
              "        vertical-align: top;\n",
              "    }\n",
              "\n",
              "    .dataframe thead th {\n",
              "        text-align: right;\n",
              "    }\n",
              "</style>\n",
              "<table border=\"1\" class=\"dataframe\">\n",
              "  <thead>\n",
              "    <tr style=\"text-align: right;\">\n",
              "      <th></th>\n",
              "      <th>0</th>\n",
              "    </tr>\n",
              "  </thead>\n",
              "  <tbody>\n",
              "    <tr>\n",
              "      <th>Date</th>\n",
              "      <td>object</td>\n",
              "    </tr>\n",
              "    <tr>\n",
              "      <th>Low</th>\n",
              "      <td>float64</td>\n",
              "    </tr>\n",
              "    <tr>\n",
              "      <th>Mid</th>\n",
              "      <td>float64</td>\n",
              "    </tr>\n",
              "    <tr>\n",
              "      <th>High</th>\n",
              "      <td>float64</td>\n",
              "    </tr>\n",
              "  </tbody>\n",
              "</table>\n",
              "</div><br><label><b>dtype:</b> object</label>"
            ]
          },
          "metadata": {},
          "execution_count": 28
        }
      ]
    },
    {
      "cell_type": "markdown",
      "source": [
        "Todos los datos tienen el tipo correcto."
      ],
      "metadata": {
        "id": "pi_G7q-8h1w1"
      }
    },
    {
      "cell_type": "markdown",
      "source": [
        "#### Medidas estadísticas"
      ],
      "metadata": {
        "id": "pK0qZ-TMhChF"
      }
    },
    {
      "cell_type": "code",
      "source": [
        "# Lista de columnas cuantitativas:\n",
        "numeric_columns = ['Low', 'Mid', 'High']\n",
        "\n",
        "for col in numeric_columns:\n",
        "    print(f\"Variable: {col}\")\n",
        "    # Medidas de tendencia central:\n",
        "    media = wBeamsPerfilesEstructurales_df[col].mean()\n",
        "    mediana = wBeamsPerfilesEstructurales_df[col].median()\n",
        "    # La moda puede devolver más de un valor, por eso se imprime como Series:\n",
        "    moda = wBeamsPerfilesEstructurales_df[col].mode()\n",
        "\n",
        "    # Medidas de dispersión:\n",
        "    rango = wBeamsPerfilesEstructurales_df[col].max() - wBeamsPerfilesEstructurales_df[col].min()\n",
        "    varianza = wBeamsPerfilesEstructurales_df[col].var()\n",
        "    desv_estandar = wBeamsPerfilesEstructurales_df[col].std()\n",
        "\n",
        "    print(f\"  Promedio/Media: {media}\")\n",
        "    print(f\"  Mediana: {mediana}\")\n",
        "    print(f\"  Moda: {list(moda)}\") # Serie a lista para mayor claridad.\n",
        "    print(f\"  Rango (max - min): {rango}\")\n",
        "    print(f\"  Varianza: {varianza}\")\n",
        "    print(f\"  Desviación Estándar: {desv_estandar}\\n\")"
      ],
      "metadata": {
        "colab": {
          "base_uri": "https://localhost:8080/"
        },
        "id": "BP1wAROJX9ur",
        "outputId": "c035d961-0424-4029-d7f1-d3f025a92deb"
      },
      "execution_count": null,
      "outputs": [
        {
          "output_type": "stream",
          "name": "stdout",
          "text": [
            "Variable: Low\n",
            "  Promedio/Media: 43.894672995780596\n",
            "  Mediana: 39.0\n",
            "  Moda: [36.0]\n",
            "  Rango (max - min): 50.5\n",
            "  Varianza: 154.40370598077416\n",
            "  Desviación Estándar: 12.42592877739021\n",
            "\n",
            "Variable: Mid\n",
            "  Promedio/Media: 43.97020042194093\n",
            "  Mediana: 39.0\n",
            "  Moda: [35.75]\n",
            "  Rango (max - min): 50.5\n",
            "  Varianza: 153.19950367023048\n",
            "  Desviación Estándar: 12.377378707554781\n",
            "\n",
            "Variable: High\n",
            "  Promedio/Media: 44.045516877637134\n",
            "  Mediana: 39.0\n",
            "  Moda: [36.0]\n",
            "  Rango (max - min): 50.5\n",
            "  Varianza: 152.10094299029765\n",
            "  Desviación Estándar: 12.332921105330142\n",
            "\n"
          ]
        }
      ]
    },
    {
      "cell_type": "markdown",
      "source": [
        "Cada variable tiene sus medidas de tendencia central y dispersión muy similares."
      ],
      "metadata": {
        "id": "60152uoLlzrA"
      }
    },
    {
      "cell_type": "code",
      "source": [
        "# Tabla de distribución de frecuencia para la variable 'Date':\n",
        "frecuencia_date = wBeamsPerfilesEstructurales_df['Date'].value_counts().sort_index()\n",
        "print(\"Tabla de distribución de frecuencia (Date):\")\n",
        "print(frecuencia_date)\n",
        "print(\"\\n\")\n",
        "\n",
        "# Ahora, calcular la mediana de la columna 'Date':\n",
        "median_date = pd.to_datetime(wBeamsPerfilesEstructurales_df['Date'], dayfirst=True).median()\n",
        "\n",
        "# Mostrar la mediana formateada:\n",
        "print(\"Mediana de las fechas:\", median_date.strftime(\"%B %Y\"))"
      ],
      "metadata": {
        "colab": {
          "base_uri": "https://localhost:8080/"
        },
        "id": "eUEun_pUZ0JD",
        "outputId": "e4e31354-1719-4f27-90d0-dd3f498c24cb"
      },
      "execution_count": null,
      "outputs": [
        {
          "output_type": "stream",
          "name": "stdout",
          "text": [
            "Tabla de distribución de frecuencia (Date):\n",
            "Date\n",
            "April 2006        1\n",
            "April 2007        1\n",
            "April 2008        1\n",
            "April 2009        1\n",
            "April 2010        1\n",
            "                 ..\n",
            "September 2020    1\n",
            "September 2021    1\n",
            "September 2022    1\n",
            "September 2023    1\n",
            "September 2024    1\n",
            "Name: count, Length: 237, dtype: int64\n",
            "\n",
            "\n",
            "Mediana de las fechas: April 2015\n"
          ]
        },
        {
          "output_type": "stream",
          "name": "stderr",
          "text": [
            "<ipython-input-30-d2d37a4a2936>:8: UserWarning: Could not infer format, so each element will be parsed individually, falling back to `dateutil`. To ensure parsing is consistent and as-expected, please specify a format.\n",
            "  median_date = pd.to_datetime(wBeamsPerfilesEstructurales_df['Date'], dayfirst=True).median()\n"
          ]
        }
      ]
    },
    {
      "cell_type": "markdown",
      "source": [
        "Cada fecha es única."
      ],
      "metadata": {
        "id": "dAzG0OjrltQ3"
      }
    },
    {
      "cell_type": "markdown",
      "source": [
        "##### Exploración de datos"
      ],
      "metadata": {
        "id": "uQz2ArF9hM7Y"
      }
    },
    {
      "cell_type": "code",
      "source": [
        "# Cuartiles, medidas de posición no-central (no solo la mediana) y detección de outliers:\n",
        "print(\"Medidas de posición y dispersión (para variables numéricas):\")\n",
        "for col in ['Low', 'Mid', 'High']:\n",
        "    Q1 = wBeamsPerfilesEstructurales_df[col].quantile(0.25)\n",
        "    Q3 = wBeamsPerfilesEstructurales_df[col].quantile(0.75)\n",
        "    IQR = Q3 - Q1\n",
        "    outliers = wBeamsPerfilesEstructurales_df[(wBeamsPerfilesEstructurales_df[col] < (Q1 - 1.5 * IQR)) | (wBeamsPerfilesEstructurales_df[col] > (Q3 + 1.5 * IQR))][col]\n",
        "\n",
        "    print(f\"\\nVariable: {col}\")\n",
        "    print(f\"  Cuartil 1 (Q1): {Q1}\")\n",
        "    print(f\"  Cuartil 3 (Q3): {Q3}\")\n",
        "    print(f\"  IQR: {IQR}\")\n",
        "    print(f\"  Outliers detectados: {list(outliers)}\")"
      ],
      "metadata": {
        "colab": {
          "base_uri": "https://localhost:8080/"
        },
        "id": "0n8-Iggxdwqh",
        "outputId": "5aafe6d3-9cdb-4011-d1f0-ed1e96145eeb"
      },
      "execution_count": null,
      "outputs": [
        {
          "output_type": "stream",
          "name": "stdout",
          "text": [
            "Medidas de posición y dispersión (para variables numéricas):\n",
            "\n",
            "Variable: Low\n",
            "  Cuartil 1 (Q1): 35.75\n",
            "  Cuartil 3 (Q3): 45.2\n",
            "  IQR: 9.450000000000003\n",
            "  Outliers detectados: [60.0, 60.0, 63.0, 65.5, 68.0, 68.0, 70.5, 70.5, 70.5, 70.5, 73.5, 76.5, 76.5, 76.5, 73.5, 73.5, 73.5, 70.5, 66.0, 66.0, 66.0, 66.0, 68.5, 68.5, 68.5, 68.5, 67.6, 64.75, 64.75, 64.75, 64.75, 64.75, 67.25, 67.25, 63.25, 63.25, 63.25, 63.25, 63.25, 63.25, 63.25, 63.25, 63.25, 63.25, 63.25, 63.25]\n",
            "\n",
            "Variable: Mid\n",
            "  Cuartil 1 (Q1): 35.75\n",
            "  Cuartil 3 (Q3): 45.2\n",
            "  IQR: 9.450000000000003\n",
            "  Outliers detectados: [60.0, 60.0, 63.0, 65.5, 68.0, 68.0, 70.5, 70.5, 70.5, 70.5, 73.5, 76.5, 76.5, 76.5, 73.5, 73.5, 73.5, 70.5, 66.0, 66.0, 66.0, 66.0, 68.5, 68.5, 68.5, 68.5, 67.6, 64.75, 64.75, 64.75, 64.75, 64.75, 67.25, 67.25, 63.25, 63.25, 63.25, 63.25, 63.25, 63.25, 63.25, 63.25, 63.25, 63.25, 63.25, 63.25]\n",
            "\n",
            "Variable: High\n",
            "  Cuartil 1 (Q1): 36.0\n",
            "  Cuartil 3 (Q3): 45.2\n",
            "  IQR: 9.200000000000003\n",
            "  Outliers detectados: [60.0, 60.0, 63.0, 65.5, 68.0, 68.0, 70.5, 70.5, 70.5, 70.5, 73.5, 76.5, 76.5, 76.5, 73.5, 73.5, 73.5, 70.5, 66.0, 66.0, 66.0, 66.0, 68.5, 68.5, 68.5, 68.5, 67.6, 64.75, 64.75, 64.75, 64.75, 64.75, 67.25, 67.25, 63.25, 63.25, 63.25, 63.25, 63.25, 63.25, 63.25, 63.25, 63.25, 63.25, 63.25, 63.25]\n"
          ]
        }
      ]
    },
    {
      "cell_type": "markdown",
      "source": [
        "Cada variable tiene sus medidas de posición iguales."
      ],
      "metadata": {
        "id": "RWLwRdRImG3N"
      }
    },
    {
      "cell_type": "code",
      "source": [
        "# Boxplots para visualizar la distribución y detectar outliers:\n",
        "plt.figure(figsize=(12, 6))\n",
        "plt.suptitle(\"Boxplots de variables cuantitativas\", fontsize=16)\n",
        "for i, col in enumerate(['Low', 'Mid', 'High'], 1):\n",
        "    plt.subplot(2, 2, i)\n",
        "    sns.boxplot(y=wBeamsPerfilesEstructurales_df[col])\n",
        "    plt.title(col)\n",
        "plt.tight_layout(rect=[0, 0, 1, 0.95])\n",
        "plt.show()"
      ],
      "metadata": {
        "colab": {
          "base_uri": "https://localhost:8080/",
          "height": 609
        },
        "id": "F9HMe6Itiznd",
        "outputId": "a01abdd9-4e06-4209-bce3-6323ad8c9c06"
      },
      "execution_count": null,
      "outputs": [
        {
          "output_type": "display_data",
          "data": {
            "text/plain": [
              "<Figure size 1200x600 with 3 Axes>"
            ],
            "image/png": "[encoded data removed]"
          },
          "metadata": {}
        }
      ]
    },
    {
      "cell_type": "markdown",
      "source": [
        "Se observa en los boxplots que hay datos atípicos en la misma posición y que el primer cuartil está más cerca de la mediana que el tercer cuartil."
      ],
      "metadata": {
        "id": "UYQdkk-YndCV"
      }
    },
    {
      "cell_type": "code",
      "source": [
        "# Histogramas para analizar la distribución y ver la forma (simétrica/asimétrica):\n",
        "plt.figure(figsize=(12, 8))\n",
        "plt.suptitle(\"Histogramas de variables cuantitativas\", fontsize=16)\n",
        "for i, col in enumerate(['Low', 'Mid', 'High'], 1):\n",
        "    plt.subplot(2, 2, i)\n",
        "    sns.histplot(wBeamsPerfilesEstructurales_df[col], kde=True, bins=53)\n",
        "    plt.title(col)\n",
        "plt.tight_layout(rect=[0, 0, 1, 0.93])\n",
        "plt.show()"
      ],
      "metadata": {
        "colab": {
          "base_uri": "https://localhost:8080/",
          "height": 805
        },
        "id": "_3jwemjZkodp",
        "outputId": "ac861f29-41ee-45b7-ca83-69e06a2cfe68"
      },
      "execution_count": null,
      "outputs": [
        {
          "output_type": "display_data",
          "data": {
            "text/plain": [
              "<Figure size 1200x800 with 3 Axes>"
            ],
            "image/png": "[encoded data removed]"
          },
          "metadata": {}
        }
      ]
    },
    {
      "cell_type": "markdown",
      "source": [
        "Se observa un ligero sesgo a la derecha en la distribución, pues los datos más bajos se agrupan más cerca de la mediana."
      ],
      "metadata": {
        "id": "tSjRHCCkn1NV"
      }
    },
    {
      "cell_type": "code",
      "source": [
        "# Mapa de calor de la correlación entre variables numéricas:\n",
        "plt.figure(figsize=(8, 6))\n",
        "corr_matrix = wBeamsPerfilesEstructurales_df[['Low', 'Mid', 'High']].corr()\n",
        "sns.heatmap(corr_matrix, annot=True, cmap=\"coolwarm\", fmt=\".2f\")\n",
        "plt.title(\"Mapa de calor de correlación\")\n",
        "plt.show()"
      ],
      "metadata": {
        "colab": {
          "base_uri": "https://localhost:8080/",
          "height": 545
        },
        "id": "feNFn3oSmJIc",
        "outputId": "e351b422-70cf-47fa-e9de-36e60635b5d4"
      },
      "execution_count": null,
      "outputs": [
        {
          "output_type": "display_data",
          "data": {
            "text/plain": [
              "<Figure size 800x600 with 2 Axes>"
            ],
            "image/png": "[encoded data removed]"
          },
          "metadata": {}
        }
      ]
    },
    {
      "cell_type": "markdown",
      "source": [
        "Todas las variables tienen una correlación casi perfecta positiva."
      ],
      "metadata": {
        "id": "o6hRykjfqUvL"
      }
    },
    {
      "cell_type": "markdown",
      "source": [
        "Cada fecha es única, así que si se quieren ver distribuciones de la variable que no sean uniformes para obtener gráficos de barras y de pastel más interesantes, se puede realizar transformaciones a la variable 'Date'."
      ],
      "metadata": {
        "id": "yncv5F1rsKph"
      }
    },
    {
      "cell_type": "markdown",
      "source": [
        "#### Exportación de los datos"
      ],
      "metadata": {
        "id": "rz4qIEbIsw--"
      }
    },
    {
      "cell_type": "code",
      "source": [
        "# Exportar a CSV:\n",
        "wBeamsPerfilesEstructurales_df.to_csv('wBeamsPerfilesEstructurales.csv', index=False)"
      ],
      "metadata": {
        "id": "xtMkuC-HtwJd"
      },
      "execution_count": null,
      "outputs": []
    }
  ]
}